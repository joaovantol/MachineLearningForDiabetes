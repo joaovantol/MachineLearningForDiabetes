{
  "nbformat": 4,
  "nbformat_minor": 0,
  "metadata": {
    "colab": {
      "provenance": [],
      "collapsed_sections": [
        "AKAhZmI2n1Y6",
        "MkUKigvUQOUR",
        "J1hbfnBXRAGV",
        "rzQJVxoaqkia",
        "LaF6f_3x_ZUW",
        "lz1NwlwtHBC4",
        "xX0ZFRPxHHeZ",
        "qEQl-S90HQqa",
        "DvyE51_qHZ9v",
        "jJsSKSmvADRu",
        "UfTng92EJC1_",
        "mSRx2xIDQYyk"
      ]
    },
    "kernelspec": {
      "name": "python3",
      "display_name": "Python 3"
    },
    "language_info": {
      "name": "python"
    }
  },
  "cells": [
    {
      "cell_type": "markdown",
      "source": [
        "# **SME0828 - Introdução à Ciência de Dados**\n",
        "\n",
        "# **Projeto Final - Uso de classificadores para prever o diagnóstico de diabetes**\n",
        "\n",
        "Gustavo Andrade Tavares N°USP: 11212362\n",
        "\n",
        "João Paulo van Tol Amaral Guerra N°USP: 12557783\n",
        "\n",
        "Universidade de São Paulo, São Carlos, Brasil."
      ],
      "metadata": {
        "id": "zgkVdWg5pMPk"
      }
    },
    {
      "cell_type": "markdown",
      "source": [
        "## **1) Introdução**\n",
        "\n",
        "Diabetes é um grupo de doenças metabólicas em que se verificam níveis elevados de glicose no sangue durante um longo intervalo de tempo. Quando não é tratada, a diabetes pode causar várias complicações, tais como cetoacidose, coma hiperosmolar hiperglicémico ou morte. Estima-se que em 2015 cerca de 415 milhões de pessoas em todo o mundo tinham diabetes. Além disso, entre 2012 e 2015, a diabetes foi a causa de 1,5 a 5 milhões de mortes anuais.\n",
        "\n",
        "Neste trabalho, aplicamos conceitos de estatística, ciência de dados e aprendizado de máquina para prever diagnósticos de diabetes.\n",
        "\n",
        "A base de dados que utilizamos contém informações de 768 pacientes, cada um com 9 variáveis:\n",
        "\n",
        "\n",
        "\n",
        "\n",
        "*   Pregnancies: número de vezes que a pessoa engravidou;\n",
        "*   Glucose: nível de glicose no sangue;\n",
        "*   BloodPressure: pressão sanguínea;\n",
        "*   SkinThickness: espessura da pele;\n",
        "*   Insulin: nível de insulina no sangue;\n",
        "*   BMI: índice de massa corporal;\n",
        "*   DiabetesPedigreeFunction: função que quantifica o risco de diabetes baseado em fatores hereditários;\n",
        "*   Age: idade;\n",
        "*   Outcome: diagnóstico para diabetes (0 - Negativo; 1 - Positivo).\n",
        "\n",
        "Sendo assim, o objetivo é fazer previsões de casos de diabetes utilizando métodos de classificação.\n",
        "\n"
      ],
      "metadata": {
        "id": "AKAhZmI2n1Y6"
      }
    },
    {
      "cell_type": "markdown",
      "source": [
        "## **2) Bibliotecas**"
      ],
      "metadata": {
        "id": "qTv4X4jIidpV"
      }
    },
    {
      "cell_type": "code",
      "source": [
        "import pandas as pd\n",
        "import numpy as np\n",
        "import matplotlib.pyplot as plt\n",
        "import seaborn as sns\n",
        "from scipy.stats import iqr\n",
        "from sklearn.neighbors import KNeighborsClassifier\n",
        "from sklearn.model_selection import cross_validate\n",
        "from mlxtend.plotting import plot_decision_regions\n",
        "from sklearn.linear_model import LogisticRegression\n",
        "from sklearn.naive_bayes import GaussianNB\n",
        "from sklearn.svm import SVC\n",
        "from sklearn.ensemble import RandomForestClassifier\n",
        "from sklearn.model_selection import StratifiedKFold\n",
        "from sklearn.model_selection import train_test_split\n",
        "from sklearn.preprocessing import MinMaxScaler\n",
        "from sklearn.preprocessing import StandardScaler\n",
        "from sklearn.metrics import confusion_matrix\n",
        "from sklearn.metrics import precision_score, recall_score, f1_score, accuracy_score\n",
        "from sklearn.metrics import roc_curve\n",
        "from sklearn.metrics import roc_auc_score\n",
        "import statsmodels\n",
        "import statsmodels.api as sm\n",
        "from statsmodels.formula.api import ols\n",
        "import statsmodels.formula.api as smf\n",
        "from sklearn.model_selection import GridSearchCV"
      ],
      "metadata": {
        "id": "b_Tm6411I1eA"
      },
      "execution_count": 1,
      "outputs": []
    },
    {
      "cell_type": "markdown",
      "source": [
        "## **3) Preparação dos Dados**"
      ],
      "metadata": {
        "id": "ifHRDFzRGzCJ"
      }
    },
    {
      "cell_type": "markdown",
      "source": [
        "Lendo o arquivo csv que contém a base de dados:"
      ],
      "metadata": {
        "id": "HI_5wLeUqhf0"
      }
    },
    {
      "cell_type": "code",
      "source": [
        "diabetes = pd.read_csv(\"https://raw.githubusercontent.com/joaovantol/machinelearningfordiabetes/main/diabetes.csv\")\n",
        "diabetes.head(10)"
      ],
      "metadata": {
        "colab": {
          "base_uri": "https://localhost:8080/",
          "height": 363
        },
        "id": "52E2bHw8G4eQ",
        "outputId": "9e883df8-b128-4116-ea0d-ae57b4967079"
      },
      "execution_count": 2,
      "outputs": [
        {
          "output_type": "execute_result",
          "data": {
            "text/plain": [
              "   Pregnancies  Glucose  BloodPressure  SkinThickness  Insulin   BMI  \\\n",
              "0            6      148             72             35        0  33.6   \n",
              "1            1       85             66             29        0  26.6   \n",
              "2            8      183             64              0        0  23.3   \n",
              "3            1       89             66             23       94  28.1   \n",
              "4            0      137             40             35      168  43.1   \n",
              "5            5      116             74              0        0  25.6   \n",
              "6            3       78             50             32       88  31.0   \n",
              "7           10      115              0              0        0  35.3   \n",
              "8            2      197             70             45      543  30.5   \n",
              "9            8      125             96              0        0   0.0   \n",
              "\n",
              "   DiabetesPedigreeFunction  Age  Outcome  \n",
              "0                     0.627   50        1  \n",
              "1                     0.351   31        0  \n",
              "2                     0.672   32        1  \n",
              "3                     0.167   21        0  \n",
              "4                     2.288   33        1  \n",
              "5                     0.201   30        0  \n",
              "6                     0.248   26        1  \n",
              "7                     0.134   29        0  \n",
              "8                     0.158   53        1  \n",
              "9                     0.232   54        1  "
            ],
            "text/html": [
              "\n",
              "  <div id=\"df-ecfa44ee-16b2-4e20-a728-bdcb80c2efff\">\n",
              "    <div class=\"colab-df-container\">\n",
              "      <div>\n",
              "<style scoped>\n",
              "    .dataframe tbody tr th:only-of-type {\n",
              "        vertical-align: middle;\n",
              "    }\n",
              "\n",
              "    .dataframe tbody tr th {\n",
              "        vertical-align: top;\n",
              "    }\n",
              "\n",
              "    .dataframe thead th {\n",
              "        text-align: right;\n",
              "    }\n",
              "</style>\n",
              "<table border=\"1\" class=\"dataframe\">\n",
              "  <thead>\n",
              "    <tr style=\"text-align: right;\">\n",
              "      <th></th>\n",
              "      <th>Pregnancies</th>\n",
              "      <th>Glucose</th>\n",
              "      <th>BloodPressure</th>\n",
              "      <th>SkinThickness</th>\n",
              "      <th>Insulin</th>\n",
              "      <th>BMI</th>\n",
              "      <th>DiabetesPedigreeFunction</th>\n",
              "      <th>Age</th>\n",
              "      <th>Outcome</th>\n",
              "    </tr>\n",
              "  </thead>\n",
              "  <tbody>\n",
              "    <tr>\n",
              "      <th>0</th>\n",
              "      <td>6</td>\n",
              "      <td>148</td>\n",
              "      <td>72</td>\n",
              "      <td>35</td>\n",
              "      <td>0</td>\n",
              "      <td>33.6</td>\n",
              "      <td>0.627</td>\n",
              "      <td>50</td>\n",
              "      <td>1</td>\n",
              "    </tr>\n",
              "    <tr>\n",
              "      <th>1</th>\n",
              "      <td>1</td>\n",
              "      <td>85</td>\n",
              "      <td>66</td>\n",
              "      <td>29</td>\n",
              "      <td>0</td>\n",
              "      <td>26.6</td>\n",
              "      <td>0.351</td>\n",
              "      <td>31</td>\n",
              "      <td>0</td>\n",
              "    </tr>\n",
              "    <tr>\n",
              "      <th>2</th>\n",
              "      <td>8</td>\n",
              "      <td>183</td>\n",
              "      <td>64</td>\n",
              "      <td>0</td>\n",
              "      <td>0</td>\n",
              "      <td>23.3</td>\n",
              "      <td>0.672</td>\n",
              "      <td>32</td>\n",
              "      <td>1</td>\n",
              "    </tr>\n",
              "    <tr>\n",
              "      <th>3</th>\n",
              "      <td>1</td>\n",
              "      <td>89</td>\n",
              "      <td>66</td>\n",
              "      <td>23</td>\n",
              "      <td>94</td>\n",
              "      <td>28.1</td>\n",
              "      <td>0.167</td>\n",
              "      <td>21</td>\n",
              "      <td>0</td>\n",
              "    </tr>\n",
              "    <tr>\n",
              "      <th>4</th>\n",
              "      <td>0</td>\n",
              "      <td>137</td>\n",
              "      <td>40</td>\n",
              "      <td>35</td>\n",
              "      <td>168</td>\n",
              "      <td>43.1</td>\n",
              "      <td>2.288</td>\n",
              "      <td>33</td>\n",
              "      <td>1</td>\n",
              "    </tr>\n",
              "    <tr>\n",
              "      <th>5</th>\n",
              "      <td>5</td>\n",
              "      <td>116</td>\n",
              "      <td>74</td>\n",
              "      <td>0</td>\n",
              "      <td>0</td>\n",
              "      <td>25.6</td>\n",
              "      <td>0.201</td>\n",
              "      <td>30</td>\n",
              "      <td>0</td>\n",
              "    </tr>\n",
              "    <tr>\n",
              "      <th>6</th>\n",
              "      <td>3</td>\n",
              "      <td>78</td>\n",
              "      <td>50</td>\n",
              "      <td>32</td>\n",
              "      <td>88</td>\n",
              "      <td>31.0</td>\n",
              "      <td>0.248</td>\n",
              "      <td>26</td>\n",
              "      <td>1</td>\n",
              "    </tr>\n",
              "    <tr>\n",
              "      <th>7</th>\n",
              "      <td>10</td>\n",
              "      <td>115</td>\n",
              "      <td>0</td>\n",
              "      <td>0</td>\n",
              "      <td>0</td>\n",
              "      <td>35.3</td>\n",
              "      <td>0.134</td>\n",
              "      <td>29</td>\n",
              "      <td>0</td>\n",
              "    </tr>\n",
              "    <tr>\n",
              "      <th>8</th>\n",
              "      <td>2</td>\n",
              "      <td>197</td>\n",
              "      <td>70</td>\n",
              "      <td>45</td>\n",
              "      <td>543</td>\n",
              "      <td>30.5</td>\n",
              "      <td>0.158</td>\n",
              "      <td>53</td>\n",
              "      <td>1</td>\n",
              "    </tr>\n",
              "    <tr>\n",
              "      <th>9</th>\n",
              "      <td>8</td>\n",
              "      <td>125</td>\n",
              "      <td>96</td>\n",
              "      <td>0</td>\n",
              "      <td>0</td>\n",
              "      <td>0.0</td>\n",
              "      <td>0.232</td>\n",
              "      <td>54</td>\n",
              "      <td>1</td>\n",
              "    </tr>\n",
              "  </tbody>\n",
              "</table>\n",
              "</div>\n",
              "      <button class=\"colab-df-convert\" onclick=\"convertToInteractive('df-ecfa44ee-16b2-4e20-a728-bdcb80c2efff')\"\n",
              "              title=\"Convert this dataframe to an interactive table.\"\n",
              "              style=\"display:none;\">\n",
              "        \n",
              "  <svg xmlns=\"http://www.w3.org/2000/svg\" height=\"24px\"viewBox=\"0 0 24 24\"\n",
              "       width=\"24px\">\n",
              "    <path d=\"M0 0h24v24H0V0z\" fill=\"none\"/>\n",
              "    <path d=\"M18.56 5.44l.94 2.06.94-2.06 2.06-.94-2.06-.94-.94-2.06-.94 2.06-2.06.94zm-11 1L8.5 8.5l.94-2.06 2.06-.94-2.06-.94L8.5 2.5l-.94 2.06-2.06.94zm10 10l.94 2.06.94-2.06 2.06-.94-2.06-.94-.94-2.06-.94 2.06-2.06.94z\"/><path d=\"M17.41 7.96l-1.37-1.37c-.4-.4-.92-.59-1.43-.59-.52 0-1.04.2-1.43.59L10.3 9.45l-7.72 7.72c-.78.78-.78 2.05 0 2.83L4 21.41c.39.39.9.59 1.41.59.51 0 1.02-.2 1.41-.59l7.78-7.78 2.81-2.81c.8-.78.8-2.07 0-2.86zM5.41 20L4 18.59l7.72-7.72 1.47 1.35L5.41 20z\"/>\n",
              "  </svg>\n",
              "      </button>\n",
              "      \n",
              "  <style>\n",
              "    .colab-df-container {\n",
              "      display:flex;\n",
              "      flex-wrap:wrap;\n",
              "      gap: 12px;\n",
              "    }\n",
              "\n",
              "    .colab-df-convert {\n",
              "      background-color: #E8F0FE;\n",
              "      border: none;\n",
              "      border-radius: 50%;\n",
              "      cursor: pointer;\n",
              "      display: none;\n",
              "      fill: #1967D2;\n",
              "      height: 32px;\n",
              "      padding: 0 0 0 0;\n",
              "      width: 32px;\n",
              "    }\n",
              "\n",
              "    .colab-df-convert:hover {\n",
              "      background-color: #E2EBFA;\n",
              "      box-shadow: 0px 1px 2px rgba(60, 64, 67, 0.3), 0px 1px 3px 1px rgba(60, 64, 67, 0.15);\n",
              "      fill: #174EA6;\n",
              "    }\n",
              "\n",
              "    [theme=dark] .colab-df-convert {\n",
              "      background-color: #3B4455;\n",
              "      fill: #D2E3FC;\n",
              "    }\n",
              "\n",
              "    [theme=dark] .colab-df-convert:hover {\n",
              "      background-color: #434B5C;\n",
              "      box-shadow: 0px 1px 3px 1px rgba(0, 0, 0, 0.15);\n",
              "      filter: drop-shadow(0px 1px 2px rgba(0, 0, 0, 0.3));\n",
              "      fill: #FFFFFF;\n",
              "    }\n",
              "  </style>\n",
              "\n",
              "      <script>\n",
              "        const buttonEl =\n",
              "          document.querySelector('#df-ecfa44ee-16b2-4e20-a728-bdcb80c2efff button.colab-df-convert');\n",
              "        buttonEl.style.display =\n",
              "          google.colab.kernel.accessAllowed ? 'block' : 'none';\n",
              "\n",
              "        async function convertToInteractive(key) {\n",
              "          const element = document.querySelector('#df-ecfa44ee-16b2-4e20-a728-bdcb80c2efff');\n",
              "          const dataTable =\n",
              "            await google.colab.kernel.invokeFunction('convertToInteractive',\n",
              "                                                     [key], {});\n",
              "          if (!dataTable) return;\n",
              "\n",
              "          const docLinkHtml = 'Like what you see? Visit the ' +\n",
              "            '<a target=\"_blank\" href=https://colab.research.google.com/notebooks/data_table.ipynb>data table notebook</a>'\n",
              "            + ' to learn more about interactive tables.';\n",
              "          element.innerHTML = '';\n",
              "          dataTable['output_type'] = 'display_data';\n",
              "          await google.colab.output.renderOutput(dataTable, element);\n",
              "          const docLink = document.createElement('div');\n",
              "          docLink.innerHTML = docLinkHtml;\n",
              "          element.appendChild(docLink);\n",
              "        }\n",
              "      </script>\n",
              "    </div>\n",
              "  </div>\n",
              "  "
            ]
          },
          "metadata": {},
          "execution_count": 2
        }
      ]
    },
    {
      "cell_type": "markdown",
      "source": [
        "Antes de realizarmos qualquer alteração nos dados, como substituição de valores ou padronização, iremos dividir a base em conjuntos de treinamento e teste, a fim de evitar vazamento de informação de um para o outro. Tal vazamento poderia afetar a avaliação dos classificadores que queremos ajustar."
      ],
      "metadata": {
        "id": "RIjid29wHb_R"
      }
    },
    {
      "cell_type": "code",
      "source": [
        "data_diabetes = diabetes.to_numpy()\n",
        "nrow,ncol = data_diabetes.shape\n",
        "y = data_diabetes[:,-1]\n",
        "X = data_diabetes[:,0:ncol-1]\n",
        "\n",
        "X_train, X_test, y_train, y_test = train_test_split(X, y, train_size = 0.75, random_state= 42)"
      ],
      "metadata": {
        "id": "sFbFjugcHpf9"
      },
      "execution_count": null,
      "outputs": []
    },
    {
      "cell_type": "markdown",
      "source": [
        "Assim, as dimensões de cada conjunto é dada por:"
      ],
      "metadata": {
        "id": "hcWjpk8nH0id"
      }
    },
    {
      "cell_type": "code",
      "source": [
        "print(\"Treinamento: \", X_train.shape)\n",
        "print(\"Teste: \", X_test.shape)"
      ],
      "metadata": {
        "colab": {
          "base_uri": "https://localhost:8080/"
        },
        "id": "6fb-fWrAHxNA",
        "outputId": "963b8a08-04fc-44a7-c52d-af859bbb8f65"
      },
      "execution_count": null,
      "outputs": [
        {
          "output_type": "stream",
          "name": "stdout",
          "text": [
            "Treinamento:  (576, 8)\n",
            "Teste:  (192, 8)\n"
          ]
        }
      ]
    },
    {
      "cell_type": "markdown",
      "source": [
        "Transformando-se os dois conjuntos de dados em dataframe, temos:"
      ],
      "metadata": {
        "id": "QNOLx5EFIrpx"
      }
    },
    {
      "cell_type": "code",
      "source": [
        "colunas = ['Pregnancies', 'Glucose', 'BloodPressure', 'SkinThickness', 'Insulin', 'BMI', 'DiabetesPedigreeFunction', 'Age']\n",
        "df_Xtrain = pd.DataFrame(X_train, columns=colunas)\n",
        "df_Xtrain.head()"
      ],
      "metadata": {
        "colab": {
          "base_uri": "https://localhost:8080/",
          "height": 206
        },
        "id": "iAIzT5qvImwo",
        "outputId": "66147ba3-ea32-4157-9a39-737e83c7ff3d"
      },
      "execution_count": null,
      "outputs": [
        {
          "output_type": "execute_result",
          "data": {
            "text/plain": [
              "   Pregnancies  Glucose  BloodPressure  SkinThickness  Insulin   BMI  \\\n",
              "0         13.0    129.0            0.0           30.0      0.0  39.9   \n",
              "1          4.0    129.0           86.0           20.0    270.0  35.1   \n",
              "2          3.0     61.0           82.0           28.0      0.0  34.4   \n",
              "3          2.0     81.0           72.0           15.0     76.0  30.1   \n",
              "4          0.0    102.0           75.0           23.0      0.0   0.0   \n",
              "\n",
              "   DiabetesPedigreeFunction   Age  \n",
              "0                     0.569  44.0  \n",
              "1                     0.231  23.0  \n",
              "2                     0.243  46.0  \n",
              "3                     0.547  25.0  \n",
              "4                     0.572  21.0  "
            ],
            "text/html": [
              "\n",
              "  <div id=\"df-2239703a-45b4-4eb5-9307-2b1d71fdc733\">\n",
              "    <div class=\"colab-df-container\">\n",
              "      <div>\n",
              "<style scoped>\n",
              "    .dataframe tbody tr th:only-of-type {\n",
              "        vertical-align: middle;\n",
              "    }\n",
              "\n",
              "    .dataframe tbody tr th {\n",
              "        vertical-align: top;\n",
              "    }\n",
              "\n",
              "    .dataframe thead th {\n",
              "        text-align: right;\n",
              "    }\n",
              "</style>\n",
              "<table border=\"1\" class=\"dataframe\">\n",
              "  <thead>\n",
              "    <tr style=\"text-align: right;\">\n",
              "      <th></th>\n",
              "      <th>Pregnancies</th>\n",
              "      <th>Glucose</th>\n",
              "      <th>BloodPressure</th>\n",
              "      <th>SkinThickness</th>\n",
              "      <th>Insulin</th>\n",
              "      <th>BMI</th>\n",
              "      <th>DiabetesPedigreeFunction</th>\n",
              "      <th>Age</th>\n",
              "    </tr>\n",
              "  </thead>\n",
              "  <tbody>\n",
              "    <tr>\n",
              "      <th>0</th>\n",
              "      <td>13.0</td>\n",
              "      <td>129.0</td>\n",
              "      <td>0.0</td>\n",
              "      <td>30.0</td>\n",
              "      <td>0.0</td>\n",
              "      <td>39.9</td>\n",
              "      <td>0.569</td>\n",
              "      <td>44.0</td>\n",
              "    </tr>\n",
              "    <tr>\n",
              "      <th>1</th>\n",
              "      <td>4.0</td>\n",
              "      <td>129.0</td>\n",
              "      <td>86.0</td>\n",
              "      <td>20.0</td>\n",
              "      <td>270.0</td>\n",
              "      <td>35.1</td>\n",
              "      <td>0.231</td>\n",
              "      <td>23.0</td>\n",
              "    </tr>\n",
              "    <tr>\n",
              "      <th>2</th>\n",
              "      <td>3.0</td>\n",
              "      <td>61.0</td>\n",
              "      <td>82.0</td>\n",
              "      <td>28.0</td>\n",
              "      <td>0.0</td>\n",
              "      <td>34.4</td>\n",
              "      <td>0.243</td>\n",
              "      <td>46.0</td>\n",
              "    </tr>\n",
              "    <tr>\n",
              "      <th>3</th>\n",
              "      <td>2.0</td>\n",
              "      <td>81.0</td>\n",
              "      <td>72.0</td>\n",
              "      <td>15.0</td>\n",
              "      <td>76.0</td>\n",
              "      <td>30.1</td>\n",
              "      <td>0.547</td>\n",
              "      <td>25.0</td>\n",
              "    </tr>\n",
              "    <tr>\n",
              "      <th>4</th>\n",
              "      <td>0.0</td>\n",
              "      <td>102.0</td>\n",
              "      <td>75.0</td>\n",
              "      <td>23.0</td>\n",
              "      <td>0.0</td>\n",
              "      <td>0.0</td>\n",
              "      <td>0.572</td>\n",
              "      <td>21.0</td>\n",
              "    </tr>\n",
              "  </tbody>\n",
              "</table>\n",
              "</div>\n",
              "      <button class=\"colab-df-convert\" onclick=\"convertToInteractive('df-2239703a-45b4-4eb5-9307-2b1d71fdc733')\"\n",
              "              title=\"Convert this dataframe to an interactive table.\"\n",
              "              style=\"display:none;\">\n",
              "        \n",
              "  <svg xmlns=\"http://www.w3.org/2000/svg\" height=\"24px\"viewBox=\"0 0 24 24\"\n",
              "       width=\"24px\">\n",
              "    <path d=\"M0 0h24v24H0V0z\" fill=\"none\"/>\n",
              "    <path d=\"M18.56 5.44l.94 2.06.94-2.06 2.06-.94-2.06-.94-.94-2.06-.94 2.06-2.06.94zm-11 1L8.5 8.5l.94-2.06 2.06-.94-2.06-.94L8.5 2.5l-.94 2.06-2.06.94zm10 10l.94 2.06.94-2.06 2.06-.94-2.06-.94-.94-2.06-.94 2.06-2.06.94z\"/><path d=\"M17.41 7.96l-1.37-1.37c-.4-.4-.92-.59-1.43-.59-.52 0-1.04.2-1.43.59L10.3 9.45l-7.72 7.72c-.78.78-.78 2.05 0 2.83L4 21.41c.39.39.9.59 1.41.59.51 0 1.02-.2 1.41-.59l7.78-7.78 2.81-2.81c.8-.78.8-2.07 0-2.86zM5.41 20L4 18.59l7.72-7.72 1.47 1.35L5.41 20z\"/>\n",
              "  </svg>\n",
              "      </button>\n",
              "      \n",
              "  <style>\n",
              "    .colab-df-container {\n",
              "      display:flex;\n",
              "      flex-wrap:wrap;\n",
              "      gap: 12px;\n",
              "    }\n",
              "\n",
              "    .colab-df-convert {\n",
              "      background-color: #E8F0FE;\n",
              "      border: none;\n",
              "      border-radius: 50%;\n",
              "      cursor: pointer;\n",
              "      display: none;\n",
              "      fill: #1967D2;\n",
              "      height: 32px;\n",
              "      padding: 0 0 0 0;\n",
              "      width: 32px;\n",
              "    }\n",
              "\n",
              "    .colab-df-convert:hover {\n",
              "      background-color: #E2EBFA;\n",
              "      box-shadow: 0px 1px 2px rgba(60, 64, 67, 0.3), 0px 1px 3px 1px rgba(60, 64, 67, 0.15);\n",
              "      fill: #174EA6;\n",
              "    }\n",
              "\n",
              "    [theme=dark] .colab-df-convert {\n",
              "      background-color: #3B4455;\n",
              "      fill: #D2E3FC;\n",
              "    }\n",
              "\n",
              "    [theme=dark] .colab-df-convert:hover {\n",
              "      background-color: #434B5C;\n",
              "      box-shadow: 0px 1px 3px 1px rgba(0, 0, 0, 0.15);\n",
              "      filter: drop-shadow(0px 1px 2px rgba(0, 0, 0, 0.3));\n",
              "      fill: #FFFFFF;\n",
              "    }\n",
              "  </style>\n",
              "\n",
              "      <script>\n",
              "        const buttonEl =\n",
              "          document.querySelector('#df-2239703a-45b4-4eb5-9307-2b1d71fdc733 button.colab-df-convert');\n",
              "        buttonEl.style.display =\n",
              "          google.colab.kernel.accessAllowed ? 'block' : 'none';\n",
              "\n",
              "        async function convertToInteractive(key) {\n",
              "          const element = document.querySelector('#df-2239703a-45b4-4eb5-9307-2b1d71fdc733');\n",
              "          const dataTable =\n",
              "            await google.colab.kernel.invokeFunction('convertToInteractive',\n",
              "                                                     [key], {});\n",
              "          if (!dataTable) return;\n",
              "\n",
              "          const docLinkHtml = 'Like what you see? Visit the ' +\n",
              "            '<a target=\"_blank\" href=https://colab.research.google.com/notebooks/data_table.ipynb>data table notebook</a>'\n",
              "            + ' to learn more about interactive tables.';\n",
              "          element.innerHTML = '';\n",
              "          dataTable['output_type'] = 'display_data';\n",
              "          await google.colab.output.renderOutput(dataTable, element);\n",
              "          const docLink = document.createElement('div');\n",
              "          docLink.innerHTML = docLinkHtml;\n",
              "          element.appendChild(docLink);\n",
              "        }\n",
              "      </script>\n",
              "    </div>\n",
              "  </div>\n",
              "  "
            ]
          },
          "metadata": {},
          "execution_count": 5
        }
      ]
    },
    {
      "cell_type": "code",
      "source": [
        "df_ytrain = pd.DataFrame(y_train, columns = [\"Outcome\"])\n",
        "df_ytrain.head()"
      ],
      "metadata": {
        "colab": {
          "base_uri": "https://localhost:8080/",
          "height": 206
        },
        "id": "-VA5x0niJLvZ",
        "outputId": "84a1ed7c-86d7-49f3-c26e-5d6799a1b3ba"
      },
      "execution_count": null,
      "outputs": [
        {
          "output_type": "execute_result",
          "data": {
            "text/plain": [
              "   Outcome\n",
              "0      1.0\n",
              "1      0.0\n",
              "2      0.0\n",
              "3      0.0\n",
              "4      0.0"
            ],
            "text/html": [
              "\n",
              "  <div id=\"df-11b19899-d68c-4c65-824f-e80486cb3b63\">\n",
              "    <div class=\"colab-df-container\">\n",
              "      <div>\n",
              "<style scoped>\n",
              "    .dataframe tbody tr th:only-of-type {\n",
              "        vertical-align: middle;\n",
              "    }\n",
              "\n",
              "    .dataframe tbody tr th {\n",
              "        vertical-align: top;\n",
              "    }\n",
              "\n",
              "    .dataframe thead th {\n",
              "        text-align: right;\n",
              "    }\n",
              "</style>\n",
              "<table border=\"1\" class=\"dataframe\">\n",
              "  <thead>\n",
              "    <tr style=\"text-align: right;\">\n",
              "      <th></th>\n",
              "      <th>Outcome</th>\n",
              "    </tr>\n",
              "  </thead>\n",
              "  <tbody>\n",
              "    <tr>\n",
              "      <th>0</th>\n",
              "      <td>1.0</td>\n",
              "    </tr>\n",
              "    <tr>\n",
              "      <th>1</th>\n",
              "      <td>0.0</td>\n",
              "    </tr>\n",
              "    <tr>\n",
              "      <th>2</th>\n",
              "      <td>0.0</td>\n",
              "    </tr>\n",
              "    <tr>\n",
              "      <th>3</th>\n",
              "      <td>0.0</td>\n",
              "    </tr>\n",
              "    <tr>\n",
              "      <th>4</th>\n",
              "      <td>0.0</td>\n",
              "    </tr>\n",
              "  </tbody>\n",
              "</table>\n",
              "</div>\n",
              "      <button class=\"colab-df-convert\" onclick=\"convertToInteractive('df-11b19899-d68c-4c65-824f-e80486cb3b63')\"\n",
              "              title=\"Convert this dataframe to an interactive table.\"\n",
              "              style=\"display:none;\">\n",
              "        \n",
              "  <svg xmlns=\"http://www.w3.org/2000/svg\" height=\"24px\"viewBox=\"0 0 24 24\"\n",
              "       width=\"24px\">\n",
              "    <path d=\"M0 0h24v24H0V0z\" fill=\"none\"/>\n",
              "    <path d=\"M18.56 5.44l.94 2.06.94-2.06 2.06-.94-2.06-.94-.94-2.06-.94 2.06-2.06.94zm-11 1L8.5 8.5l.94-2.06 2.06-.94-2.06-.94L8.5 2.5l-.94 2.06-2.06.94zm10 10l.94 2.06.94-2.06 2.06-.94-2.06-.94-.94-2.06-.94 2.06-2.06.94z\"/><path d=\"M17.41 7.96l-1.37-1.37c-.4-.4-.92-.59-1.43-.59-.52 0-1.04.2-1.43.59L10.3 9.45l-7.72 7.72c-.78.78-.78 2.05 0 2.83L4 21.41c.39.39.9.59 1.41.59.51 0 1.02-.2 1.41-.59l7.78-7.78 2.81-2.81c.8-.78.8-2.07 0-2.86zM5.41 20L4 18.59l7.72-7.72 1.47 1.35L5.41 20z\"/>\n",
              "  </svg>\n",
              "      </button>\n",
              "      \n",
              "  <style>\n",
              "    .colab-df-container {\n",
              "      display:flex;\n",
              "      flex-wrap:wrap;\n",
              "      gap: 12px;\n",
              "    }\n",
              "\n",
              "    .colab-df-convert {\n",
              "      background-color: #E8F0FE;\n",
              "      border: none;\n",
              "      border-radius: 50%;\n",
              "      cursor: pointer;\n",
              "      display: none;\n",
              "      fill: #1967D2;\n",
              "      height: 32px;\n",
              "      padding: 0 0 0 0;\n",
              "      width: 32px;\n",
              "    }\n",
              "\n",
              "    .colab-df-convert:hover {\n",
              "      background-color: #E2EBFA;\n",
              "      box-shadow: 0px 1px 2px rgba(60, 64, 67, 0.3), 0px 1px 3px 1px rgba(60, 64, 67, 0.15);\n",
              "      fill: #174EA6;\n",
              "    }\n",
              "\n",
              "    [theme=dark] .colab-df-convert {\n",
              "      background-color: #3B4455;\n",
              "      fill: #D2E3FC;\n",
              "    }\n",
              "\n",
              "    [theme=dark] .colab-df-convert:hover {\n",
              "      background-color: #434B5C;\n",
              "      box-shadow: 0px 1px 3px 1px rgba(0, 0, 0, 0.15);\n",
              "      filter: drop-shadow(0px 1px 2px rgba(0, 0, 0, 0.3));\n",
              "      fill: #FFFFFF;\n",
              "    }\n",
              "  </style>\n",
              "\n",
              "      <script>\n",
              "        const buttonEl =\n",
              "          document.querySelector('#df-11b19899-d68c-4c65-824f-e80486cb3b63 button.colab-df-convert');\n",
              "        buttonEl.style.display =\n",
              "          google.colab.kernel.accessAllowed ? 'block' : 'none';\n",
              "\n",
              "        async function convertToInteractive(key) {\n",
              "          const element = document.querySelector('#df-11b19899-d68c-4c65-824f-e80486cb3b63');\n",
              "          const dataTable =\n",
              "            await google.colab.kernel.invokeFunction('convertToInteractive',\n",
              "                                                     [key], {});\n",
              "          if (!dataTable) return;\n",
              "\n",
              "          const docLinkHtml = 'Like what you see? Visit the ' +\n",
              "            '<a target=\"_blank\" href=https://colab.research.google.com/notebooks/data_table.ipynb>data table notebook</a>'\n",
              "            + ' to learn more about interactive tables.';\n",
              "          element.innerHTML = '';\n",
              "          dataTable['output_type'] = 'display_data';\n",
              "          await google.colab.output.renderOutput(dataTable, element);\n",
              "          const docLink = document.createElement('div');\n",
              "          docLink.innerHTML = docLinkHtml;\n",
              "          element.appendChild(docLink);\n",
              "        }\n",
              "      </script>\n",
              "    </div>\n",
              "  </div>\n",
              "  "
            ]
          },
          "metadata": {},
          "execution_count": 6
        }
      ]
    },
    {
      "cell_type": "markdown",
      "source": [
        "Juntando-se os dois anteriores, obtém-se o conjunto de treinamento original:"
      ],
      "metadata": {
        "id": "QUvZxffKJcPV"
      }
    },
    {
      "cell_type": "code",
      "source": [
        "train_original = df_Xtrain.join(df_ytrain)\n",
        "train_original.head()"
      ],
      "metadata": {
        "colab": {
          "base_uri": "https://localhost:8080/",
          "height": 206
        },
        "id": "I-iaEk7nJaMQ",
        "outputId": "15c64674-485b-4d02-ff90-140fc251d07e"
      },
      "execution_count": null,
      "outputs": [
        {
          "output_type": "execute_result",
          "data": {
            "text/plain": [
              "   Pregnancies  Glucose  BloodPressure  SkinThickness  Insulin   BMI  \\\n",
              "0         13.0    129.0            0.0           30.0      0.0  39.9   \n",
              "1          4.0    129.0           86.0           20.0    270.0  35.1   \n",
              "2          3.0     61.0           82.0           28.0      0.0  34.4   \n",
              "3          2.0     81.0           72.0           15.0     76.0  30.1   \n",
              "4          0.0    102.0           75.0           23.0      0.0   0.0   \n",
              "\n",
              "   DiabetesPedigreeFunction   Age  Outcome  \n",
              "0                     0.569  44.0      1.0  \n",
              "1                     0.231  23.0      0.0  \n",
              "2                     0.243  46.0      0.0  \n",
              "3                     0.547  25.0      0.0  \n",
              "4                     0.572  21.0      0.0  "
            ],
            "text/html": [
              "\n",
              "  <div id=\"df-07d35d80-bed6-48a7-9195-78b7c875bd0b\">\n",
              "    <div class=\"colab-df-container\">\n",
              "      <div>\n",
              "<style scoped>\n",
              "    .dataframe tbody tr th:only-of-type {\n",
              "        vertical-align: middle;\n",
              "    }\n",
              "\n",
              "    .dataframe tbody tr th {\n",
              "        vertical-align: top;\n",
              "    }\n",
              "\n",
              "    .dataframe thead th {\n",
              "        text-align: right;\n",
              "    }\n",
              "</style>\n",
              "<table border=\"1\" class=\"dataframe\">\n",
              "  <thead>\n",
              "    <tr style=\"text-align: right;\">\n",
              "      <th></th>\n",
              "      <th>Pregnancies</th>\n",
              "      <th>Glucose</th>\n",
              "      <th>BloodPressure</th>\n",
              "      <th>SkinThickness</th>\n",
              "      <th>Insulin</th>\n",
              "      <th>BMI</th>\n",
              "      <th>DiabetesPedigreeFunction</th>\n",
              "      <th>Age</th>\n",
              "      <th>Outcome</th>\n",
              "    </tr>\n",
              "  </thead>\n",
              "  <tbody>\n",
              "    <tr>\n",
              "      <th>0</th>\n",
              "      <td>13.0</td>\n",
              "      <td>129.0</td>\n",
              "      <td>0.0</td>\n",
              "      <td>30.0</td>\n",
              "      <td>0.0</td>\n",
              "      <td>39.9</td>\n",
              "      <td>0.569</td>\n",
              "      <td>44.0</td>\n",
              "      <td>1.0</td>\n",
              "    </tr>\n",
              "    <tr>\n",
              "      <th>1</th>\n",
              "      <td>4.0</td>\n",
              "      <td>129.0</td>\n",
              "      <td>86.0</td>\n",
              "      <td>20.0</td>\n",
              "      <td>270.0</td>\n",
              "      <td>35.1</td>\n",
              "      <td>0.231</td>\n",
              "      <td>23.0</td>\n",
              "      <td>0.0</td>\n",
              "    </tr>\n",
              "    <tr>\n",
              "      <th>2</th>\n",
              "      <td>3.0</td>\n",
              "      <td>61.0</td>\n",
              "      <td>82.0</td>\n",
              "      <td>28.0</td>\n",
              "      <td>0.0</td>\n",
              "      <td>34.4</td>\n",
              "      <td>0.243</td>\n",
              "      <td>46.0</td>\n",
              "      <td>0.0</td>\n",
              "    </tr>\n",
              "    <tr>\n",
              "      <th>3</th>\n",
              "      <td>2.0</td>\n",
              "      <td>81.0</td>\n",
              "      <td>72.0</td>\n",
              "      <td>15.0</td>\n",
              "      <td>76.0</td>\n",
              "      <td>30.1</td>\n",
              "      <td>0.547</td>\n",
              "      <td>25.0</td>\n",
              "      <td>0.0</td>\n",
              "    </tr>\n",
              "    <tr>\n",
              "      <th>4</th>\n",
              "      <td>0.0</td>\n",
              "      <td>102.0</td>\n",
              "      <td>75.0</td>\n",
              "      <td>23.0</td>\n",
              "      <td>0.0</td>\n",
              "      <td>0.0</td>\n",
              "      <td>0.572</td>\n",
              "      <td>21.0</td>\n",
              "      <td>0.0</td>\n",
              "    </tr>\n",
              "  </tbody>\n",
              "</table>\n",
              "</div>\n",
              "      <button class=\"colab-df-convert\" onclick=\"convertToInteractive('df-07d35d80-bed6-48a7-9195-78b7c875bd0b')\"\n",
              "              title=\"Convert this dataframe to an interactive table.\"\n",
              "              style=\"display:none;\">\n",
              "        \n",
              "  <svg xmlns=\"http://www.w3.org/2000/svg\" height=\"24px\"viewBox=\"0 0 24 24\"\n",
              "       width=\"24px\">\n",
              "    <path d=\"M0 0h24v24H0V0z\" fill=\"none\"/>\n",
              "    <path d=\"M18.56 5.44l.94 2.06.94-2.06 2.06-.94-2.06-.94-.94-2.06-.94 2.06-2.06.94zm-11 1L8.5 8.5l.94-2.06 2.06-.94-2.06-.94L8.5 2.5l-.94 2.06-2.06.94zm10 10l.94 2.06.94-2.06 2.06-.94-2.06-.94-.94-2.06-.94 2.06-2.06.94z\"/><path d=\"M17.41 7.96l-1.37-1.37c-.4-.4-.92-.59-1.43-.59-.52 0-1.04.2-1.43.59L10.3 9.45l-7.72 7.72c-.78.78-.78 2.05 0 2.83L4 21.41c.39.39.9.59 1.41.59.51 0 1.02-.2 1.41-.59l7.78-7.78 2.81-2.81c.8-.78.8-2.07 0-2.86zM5.41 20L4 18.59l7.72-7.72 1.47 1.35L5.41 20z\"/>\n",
              "  </svg>\n",
              "      </button>\n",
              "      \n",
              "  <style>\n",
              "    .colab-df-container {\n",
              "      display:flex;\n",
              "      flex-wrap:wrap;\n",
              "      gap: 12px;\n",
              "    }\n",
              "\n",
              "    .colab-df-convert {\n",
              "      background-color: #E8F0FE;\n",
              "      border: none;\n",
              "      border-radius: 50%;\n",
              "      cursor: pointer;\n",
              "      display: none;\n",
              "      fill: #1967D2;\n",
              "      height: 32px;\n",
              "      padding: 0 0 0 0;\n",
              "      width: 32px;\n",
              "    }\n",
              "\n",
              "    .colab-df-convert:hover {\n",
              "      background-color: #E2EBFA;\n",
              "      box-shadow: 0px 1px 2px rgba(60, 64, 67, 0.3), 0px 1px 3px 1px rgba(60, 64, 67, 0.15);\n",
              "      fill: #174EA6;\n",
              "    }\n",
              "\n",
              "    [theme=dark] .colab-df-convert {\n",
              "      background-color: #3B4455;\n",
              "      fill: #D2E3FC;\n",
              "    }\n",
              "\n",
              "    [theme=dark] .colab-df-convert:hover {\n",
              "      background-color: #434B5C;\n",
              "      box-shadow: 0px 1px 3px 1px rgba(0, 0, 0, 0.15);\n",
              "      filter: drop-shadow(0px 1px 2px rgba(0, 0, 0, 0.3));\n",
              "      fill: #FFFFFF;\n",
              "    }\n",
              "  </style>\n",
              "\n",
              "      <script>\n",
              "        const buttonEl =\n",
              "          document.querySelector('#df-07d35d80-bed6-48a7-9195-78b7c875bd0b button.colab-df-convert');\n",
              "        buttonEl.style.display =\n",
              "          google.colab.kernel.accessAllowed ? 'block' : 'none';\n",
              "\n",
              "        async function convertToInteractive(key) {\n",
              "          const element = document.querySelector('#df-07d35d80-bed6-48a7-9195-78b7c875bd0b');\n",
              "          const dataTable =\n",
              "            await google.colab.kernel.invokeFunction('convertToInteractive',\n",
              "                                                     [key], {});\n",
              "          if (!dataTable) return;\n",
              "\n",
              "          const docLinkHtml = 'Like what you see? Visit the ' +\n",
              "            '<a target=\"_blank\" href=https://colab.research.google.com/notebooks/data_table.ipynb>data table notebook</a>'\n",
              "            + ' to learn more about interactive tables.';\n",
              "          element.innerHTML = '';\n",
              "          dataTable['output_type'] = 'display_data';\n",
              "          await google.colab.output.renderOutput(dataTable, element);\n",
              "          const docLink = document.createElement('div');\n",
              "          docLink.innerHTML = docLinkHtml;\n",
              "          element.appendChild(docLink);\n",
              "        }\n",
              "      </script>\n",
              "    </div>\n",
              "  </div>\n",
              "  "
            ]
          },
          "metadata": {},
          "execution_count": 7
        }
      ]
    },
    {
      "cell_type": "markdown",
      "source": [
        "Fazendo-se o mesmo para o conjunto de teste, temos:"
      ],
      "metadata": {
        "id": "4LA0AONvJst2"
      }
    },
    {
      "cell_type": "code",
      "source": [
        "colunas = ['Pregnancies', 'Glucose', 'BloodPressure', 'SkinThickness', 'Insulin', 'BMI', 'DiabetesPedigreeFunction', 'Age']\n",
        "df_Xtest = pd.DataFrame(X_test, columns=colunas)\n",
        "df_Xtest.head()"
      ],
      "metadata": {
        "colab": {
          "base_uri": "https://localhost:8080/",
          "height": 206
        },
        "id": "zqgxqnK9AdcA",
        "outputId": "92c2ab3b-caab-46bf-cc1d-4ea65ddbf53d"
      },
      "execution_count": null,
      "outputs": [
        {
          "output_type": "execute_result",
          "data": {
            "text/plain": [
              "   Pregnancies  Glucose  BloodPressure  SkinThickness  Insulin   BMI  \\\n",
              "0          6.0     98.0           58.0           33.0    190.0  34.0   \n",
              "1          2.0    112.0           75.0           32.0      0.0  35.7   \n",
              "2          2.0    108.0           64.0            0.0      0.0  30.8   \n",
              "3          8.0    107.0           80.0            0.0      0.0  24.6   \n",
              "4          7.0    136.0           90.0            0.0      0.0  29.9   \n",
              "\n",
              "   DiabetesPedigreeFunction   Age  \n",
              "0                     0.430  43.0  \n",
              "1                     0.148  21.0  \n",
              "2                     0.158  21.0  \n",
              "3                     0.856  34.0  \n",
              "4                     0.210  50.0  "
            ],
            "text/html": [
              "\n",
              "  <div id=\"df-8a86dbf9-3a4a-4419-9ca7-db45a306bbf3\">\n",
              "    <div class=\"colab-df-container\">\n",
              "      <div>\n",
              "<style scoped>\n",
              "    .dataframe tbody tr th:only-of-type {\n",
              "        vertical-align: middle;\n",
              "    }\n",
              "\n",
              "    .dataframe tbody tr th {\n",
              "        vertical-align: top;\n",
              "    }\n",
              "\n",
              "    .dataframe thead th {\n",
              "        text-align: right;\n",
              "    }\n",
              "</style>\n",
              "<table border=\"1\" class=\"dataframe\">\n",
              "  <thead>\n",
              "    <tr style=\"text-align: right;\">\n",
              "      <th></th>\n",
              "      <th>Pregnancies</th>\n",
              "      <th>Glucose</th>\n",
              "      <th>BloodPressure</th>\n",
              "      <th>SkinThickness</th>\n",
              "      <th>Insulin</th>\n",
              "      <th>BMI</th>\n",
              "      <th>DiabetesPedigreeFunction</th>\n",
              "      <th>Age</th>\n",
              "    </tr>\n",
              "  </thead>\n",
              "  <tbody>\n",
              "    <tr>\n",
              "      <th>0</th>\n",
              "      <td>6.0</td>\n",
              "      <td>98.0</td>\n",
              "      <td>58.0</td>\n",
              "      <td>33.0</td>\n",
              "      <td>190.0</td>\n",
              "      <td>34.0</td>\n",
              "      <td>0.430</td>\n",
              "      <td>43.0</td>\n",
              "    </tr>\n",
              "    <tr>\n",
              "      <th>1</th>\n",
              "      <td>2.0</td>\n",
              "      <td>112.0</td>\n",
              "      <td>75.0</td>\n",
              "      <td>32.0</td>\n",
              "      <td>0.0</td>\n",
              "      <td>35.7</td>\n",
              "      <td>0.148</td>\n",
              "      <td>21.0</td>\n",
              "    </tr>\n",
              "    <tr>\n",
              "      <th>2</th>\n",
              "      <td>2.0</td>\n",
              "      <td>108.0</td>\n",
              "      <td>64.0</td>\n",
              "      <td>0.0</td>\n",
              "      <td>0.0</td>\n",
              "      <td>30.8</td>\n",
              "      <td>0.158</td>\n",
              "      <td>21.0</td>\n",
              "    </tr>\n",
              "    <tr>\n",
              "      <th>3</th>\n",
              "      <td>8.0</td>\n",
              "      <td>107.0</td>\n",
              "      <td>80.0</td>\n",
              "      <td>0.0</td>\n",
              "      <td>0.0</td>\n",
              "      <td>24.6</td>\n",
              "      <td>0.856</td>\n",
              "      <td>34.0</td>\n",
              "    </tr>\n",
              "    <tr>\n",
              "      <th>4</th>\n",
              "      <td>7.0</td>\n",
              "      <td>136.0</td>\n",
              "      <td>90.0</td>\n",
              "      <td>0.0</td>\n",
              "      <td>0.0</td>\n",
              "      <td>29.9</td>\n",
              "      <td>0.210</td>\n",
              "      <td>50.0</td>\n",
              "    </tr>\n",
              "  </tbody>\n",
              "</table>\n",
              "</div>\n",
              "      <button class=\"colab-df-convert\" onclick=\"convertToInteractive('df-8a86dbf9-3a4a-4419-9ca7-db45a306bbf3')\"\n",
              "              title=\"Convert this dataframe to an interactive table.\"\n",
              "              style=\"display:none;\">\n",
              "        \n",
              "  <svg xmlns=\"http://www.w3.org/2000/svg\" height=\"24px\"viewBox=\"0 0 24 24\"\n",
              "       width=\"24px\">\n",
              "    <path d=\"M0 0h24v24H0V0z\" fill=\"none\"/>\n",
              "    <path d=\"M18.56 5.44l.94 2.06.94-2.06 2.06-.94-2.06-.94-.94-2.06-.94 2.06-2.06.94zm-11 1L8.5 8.5l.94-2.06 2.06-.94-2.06-.94L8.5 2.5l-.94 2.06-2.06.94zm10 10l.94 2.06.94-2.06 2.06-.94-2.06-.94-.94-2.06-.94 2.06-2.06.94z\"/><path d=\"M17.41 7.96l-1.37-1.37c-.4-.4-.92-.59-1.43-.59-.52 0-1.04.2-1.43.59L10.3 9.45l-7.72 7.72c-.78.78-.78 2.05 0 2.83L4 21.41c.39.39.9.59 1.41.59.51 0 1.02-.2 1.41-.59l7.78-7.78 2.81-2.81c.8-.78.8-2.07 0-2.86zM5.41 20L4 18.59l7.72-7.72 1.47 1.35L5.41 20z\"/>\n",
              "  </svg>\n",
              "      </button>\n",
              "      \n",
              "  <style>\n",
              "    .colab-df-container {\n",
              "      display:flex;\n",
              "      flex-wrap:wrap;\n",
              "      gap: 12px;\n",
              "    }\n",
              "\n",
              "    .colab-df-convert {\n",
              "      background-color: #E8F0FE;\n",
              "      border: none;\n",
              "      border-radius: 50%;\n",
              "      cursor: pointer;\n",
              "      display: none;\n",
              "      fill: #1967D2;\n",
              "      height: 32px;\n",
              "      padding: 0 0 0 0;\n",
              "      width: 32px;\n",
              "    }\n",
              "\n",
              "    .colab-df-convert:hover {\n",
              "      background-color: #E2EBFA;\n",
              "      box-shadow: 0px 1px 2px rgba(60, 64, 67, 0.3), 0px 1px 3px 1px rgba(60, 64, 67, 0.15);\n",
              "      fill: #174EA6;\n",
              "    }\n",
              "\n",
              "    [theme=dark] .colab-df-convert {\n",
              "      background-color: #3B4455;\n",
              "      fill: #D2E3FC;\n",
              "    }\n",
              "\n",
              "    [theme=dark] .colab-df-convert:hover {\n",
              "      background-color: #434B5C;\n",
              "      box-shadow: 0px 1px 3px 1px rgba(0, 0, 0, 0.15);\n",
              "      filter: drop-shadow(0px 1px 2px rgba(0, 0, 0, 0.3));\n",
              "      fill: #FFFFFF;\n",
              "    }\n",
              "  </style>\n",
              "\n",
              "      <script>\n",
              "        const buttonEl =\n",
              "          document.querySelector('#df-8a86dbf9-3a4a-4419-9ca7-db45a306bbf3 button.colab-df-convert');\n",
              "        buttonEl.style.display =\n",
              "          google.colab.kernel.accessAllowed ? 'block' : 'none';\n",
              "\n",
              "        async function convertToInteractive(key) {\n",
              "          const element = document.querySelector('#df-8a86dbf9-3a4a-4419-9ca7-db45a306bbf3');\n",
              "          const dataTable =\n",
              "            await google.colab.kernel.invokeFunction('convertToInteractive',\n",
              "                                                     [key], {});\n",
              "          if (!dataTable) return;\n",
              "\n",
              "          const docLinkHtml = 'Like what you see? Visit the ' +\n",
              "            '<a target=\"_blank\" href=https://colab.research.google.com/notebooks/data_table.ipynb>data table notebook</a>'\n",
              "            + ' to learn more about interactive tables.';\n",
              "          element.innerHTML = '';\n",
              "          dataTable['output_type'] = 'display_data';\n",
              "          await google.colab.output.renderOutput(dataTable, element);\n",
              "          const docLink = document.createElement('div');\n",
              "          docLink.innerHTML = docLinkHtml;\n",
              "          element.appendChild(docLink);\n",
              "        }\n",
              "      </script>\n",
              "    </div>\n",
              "  </div>\n",
              "  "
            ]
          },
          "metadata": {},
          "execution_count": 8
        }
      ]
    },
    {
      "cell_type": "code",
      "source": [
        "df_ytest = pd.DataFrame(y_test, columns = [\"Outcome\"])\n",
        "df_ytest.head()"
      ],
      "metadata": {
        "colab": {
          "base_uri": "https://localhost:8080/",
          "height": 206
        },
        "id": "xRe3IytmA0pu",
        "outputId": "e2ca3878-5e99-444a-fabb-0cdcd2a78886"
      },
      "execution_count": null,
      "outputs": [
        {
          "output_type": "execute_result",
          "data": {
            "text/plain": [
              "   Outcome\n",
              "0      0.0\n",
              "1      0.0\n",
              "2      0.0\n",
              "3      0.0\n",
              "4      0.0"
            ],
            "text/html": [
              "\n",
              "  <div id=\"df-be4c8e56-1943-4c60-83e6-b6c2adad50bf\">\n",
              "    <div class=\"colab-df-container\">\n",
              "      <div>\n",
              "<style scoped>\n",
              "    .dataframe tbody tr th:only-of-type {\n",
              "        vertical-align: middle;\n",
              "    }\n",
              "\n",
              "    .dataframe tbody tr th {\n",
              "        vertical-align: top;\n",
              "    }\n",
              "\n",
              "    .dataframe thead th {\n",
              "        text-align: right;\n",
              "    }\n",
              "</style>\n",
              "<table border=\"1\" class=\"dataframe\">\n",
              "  <thead>\n",
              "    <tr style=\"text-align: right;\">\n",
              "      <th></th>\n",
              "      <th>Outcome</th>\n",
              "    </tr>\n",
              "  </thead>\n",
              "  <tbody>\n",
              "    <tr>\n",
              "      <th>0</th>\n",
              "      <td>0.0</td>\n",
              "    </tr>\n",
              "    <tr>\n",
              "      <th>1</th>\n",
              "      <td>0.0</td>\n",
              "    </tr>\n",
              "    <tr>\n",
              "      <th>2</th>\n",
              "      <td>0.0</td>\n",
              "    </tr>\n",
              "    <tr>\n",
              "      <th>3</th>\n",
              "      <td>0.0</td>\n",
              "    </tr>\n",
              "    <tr>\n",
              "      <th>4</th>\n",
              "      <td>0.0</td>\n",
              "    </tr>\n",
              "  </tbody>\n",
              "</table>\n",
              "</div>\n",
              "      <button class=\"colab-df-convert\" onclick=\"convertToInteractive('df-be4c8e56-1943-4c60-83e6-b6c2adad50bf')\"\n",
              "              title=\"Convert this dataframe to an interactive table.\"\n",
              "              style=\"display:none;\">\n",
              "        \n",
              "  <svg xmlns=\"http://www.w3.org/2000/svg\" height=\"24px\"viewBox=\"0 0 24 24\"\n",
              "       width=\"24px\">\n",
              "    <path d=\"M0 0h24v24H0V0z\" fill=\"none\"/>\n",
              "    <path d=\"M18.56 5.44l.94 2.06.94-2.06 2.06-.94-2.06-.94-.94-2.06-.94 2.06-2.06.94zm-11 1L8.5 8.5l.94-2.06 2.06-.94-2.06-.94L8.5 2.5l-.94 2.06-2.06.94zm10 10l.94 2.06.94-2.06 2.06-.94-2.06-.94-.94-2.06-.94 2.06-2.06.94z\"/><path d=\"M17.41 7.96l-1.37-1.37c-.4-.4-.92-.59-1.43-.59-.52 0-1.04.2-1.43.59L10.3 9.45l-7.72 7.72c-.78.78-.78 2.05 0 2.83L4 21.41c.39.39.9.59 1.41.59.51 0 1.02-.2 1.41-.59l7.78-7.78 2.81-2.81c.8-.78.8-2.07 0-2.86zM5.41 20L4 18.59l7.72-7.72 1.47 1.35L5.41 20z\"/>\n",
              "  </svg>\n",
              "      </button>\n",
              "      \n",
              "  <style>\n",
              "    .colab-df-container {\n",
              "      display:flex;\n",
              "      flex-wrap:wrap;\n",
              "      gap: 12px;\n",
              "    }\n",
              "\n",
              "    .colab-df-convert {\n",
              "      background-color: #E8F0FE;\n",
              "      border: none;\n",
              "      border-radius: 50%;\n",
              "      cursor: pointer;\n",
              "      display: none;\n",
              "      fill: #1967D2;\n",
              "      height: 32px;\n",
              "      padding: 0 0 0 0;\n",
              "      width: 32px;\n",
              "    }\n",
              "\n",
              "    .colab-df-convert:hover {\n",
              "      background-color: #E2EBFA;\n",
              "      box-shadow: 0px 1px 2px rgba(60, 64, 67, 0.3), 0px 1px 3px 1px rgba(60, 64, 67, 0.15);\n",
              "      fill: #174EA6;\n",
              "    }\n",
              "\n",
              "    [theme=dark] .colab-df-convert {\n",
              "      background-color: #3B4455;\n",
              "      fill: #D2E3FC;\n",
              "    }\n",
              "\n",
              "    [theme=dark] .colab-df-convert:hover {\n",
              "      background-color: #434B5C;\n",
              "      box-shadow: 0px 1px 3px 1px rgba(0, 0, 0, 0.15);\n",
              "      filter: drop-shadow(0px 1px 2px rgba(0, 0, 0, 0.3));\n",
              "      fill: #FFFFFF;\n",
              "    }\n",
              "  </style>\n",
              "\n",
              "      <script>\n",
              "        const buttonEl =\n",
              "          document.querySelector('#df-be4c8e56-1943-4c60-83e6-b6c2adad50bf button.colab-df-convert');\n",
              "        buttonEl.style.display =\n",
              "          google.colab.kernel.accessAllowed ? 'block' : 'none';\n",
              "\n",
              "        async function convertToInteractive(key) {\n",
              "          const element = document.querySelector('#df-be4c8e56-1943-4c60-83e6-b6c2adad50bf');\n",
              "          const dataTable =\n",
              "            await google.colab.kernel.invokeFunction('convertToInteractive',\n",
              "                                                     [key], {});\n",
              "          if (!dataTable) return;\n",
              "\n",
              "          const docLinkHtml = 'Like what you see? Visit the ' +\n",
              "            '<a target=\"_blank\" href=https://colab.research.google.com/notebooks/data_table.ipynb>data table notebook</a>'\n",
              "            + ' to learn more about interactive tables.';\n",
              "          element.innerHTML = '';\n",
              "          dataTable['output_type'] = 'display_data';\n",
              "          await google.colab.output.renderOutput(dataTable, element);\n",
              "          const docLink = document.createElement('div');\n",
              "          docLink.innerHTML = docLinkHtml;\n",
              "          element.appendChild(docLink);\n",
              "        }\n",
              "      </script>\n",
              "    </div>\n",
              "  </div>\n",
              "  "
            ]
          },
          "metadata": {},
          "execution_count": 9
        }
      ]
    },
    {
      "cell_type": "markdown",
      "source": [
        "Assim, obtém-se o conjunto de teste original:"
      ],
      "metadata": {
        "id": "isXnSRzkCQZm"
      }
    },
    {
      "cell_type": "code",
      "source": [
        "test_original = df_Xtest.join(df_ytest)\n",
        "test_original.head()"
      ],
      "metadata": {
        "colab": {
          "base_uri": "https://localhost:8080/",
          "height": 206
        },
        "id": "PJIeffw6Jxso",
        "outputId": "2c015904-bac7-4714-b1ee-9df3fbe94f0e"
      },
      "execution_count": null,
      "outputs": [
        {
          "output_type": "execute_result",
          "data": {
            "text/plain": [
              "   Pregnancies  Glucose  BloodPressure  SkinThickness  Insulin   BMI  \\\n",
              "0          6.0     98.0           58.0           33.0    190.0  34.0   \n",
              "1          2.0    112.0           75.0           32.0      0.0  35.7   \n",
              "2          2.0    108.0           64.0            0.0      0.0  30.8   \n",
              "3          8.0    107.0           80.0            0.0      0.0  24.6   \n",
              "4          7.0    136.0           90.0            0.0      0.0  29.9   \n",
              "\n",
              "   DiabetesPedigreeFunction   Age  Outcome  \n",
              "0                     0.430  43.0      0.0  \n",
              "1                     0.148  21.0      0.0  \n",
              "2                     0.158  21.0      0.0  \n",
              "3                     0.856  34.0      0.0  \n",
              "4                     0.210  50.0      0.0  "
            ],
            "text/html": [
              "\n",
              "  <div id=\"df-3a0fbcbb-be27-4a1e-b594-98f12ead0bd2\">\n",
              "    <div class=\"colab-df-container\">\n",
              "      <div>\n",
              "<style scoped>\n",
              "    .dataframe tbody tr th:only-of-type {\n",
              "        vertical-align: middle;\n",
              "    }\n",
              "\n",
              "    .dataframe tbody tr th {\n",
              "        vertical-align: top;\n",
              "    }\n",
              "\n",
              "    .dataframe thead th {\n",
              "        text-align: right;\n",
              "    }\n",
              "</style>\n",
              "<table border=\"1\" class=\"dataframe\">\n",
              "  <thead>\n",
              "    <tr style=\"text-align: right;\">\n",
              "      <th></th>\n",
              "      <th>Pregnancies</th>\n",
              "      <th>Glucose</th>\n",
              "      <th>BloodPressure</th>\n",
              "      <th>SkinThickness</th>\n",
              "      <th>Insulin</th>\n",
              "      <th>BMI</th>\n",
              "      <th>DiabetesPedigreeFunction</th>\n",
              "      <th>Age</th>\n",
              "      <th>Outcome</th>\n",
              "    </tr>\n",
              "  </thead>\n",
              "  <tbody>\n",
              "    <tr>\n",
              "      <th>0</th>\n",
              "      <td>6.0</td>\n",
              "      <td>98.0</td>\n",
              "      <td>58.0</td>\n",
              "      <td>33.0</td>\n",
              "      <td>190.0</td>\n",
              "      <td>34.0</td>\n",
              "      <td>0.430</td>\n",
              "      <td>43.0</td>\n",
              "      <td>0.0</td>\n",
              "    </tr>\n",
              "    <tr>\n",
              "      <th>1</th>\n",
              "      <td>2.0</td>\n",
              "      <td>112.0</td>\n",
              "      <td>75.0</td>\n",
              "      <td>32.0</td>\n",
              "      <td>0.0</td>\n",
              "      <td>35.7</td>\n",
              "      <td>0.148</td>\n",
              "      <td>21.0</td>\n",
              "      <td>0.0</td>\n",
              "    </tr>\n",
              "    <tr>\n",
              "      <th>2</th>\n",
              "      <td>2.0</td>\n",
              "      <td>108.0</td>\n",
              "      <td>64.0</td>\n",
              "      <td>0.0</td>\n",
              "      <td>0.0</td>\n",
              "      <td>30.8</td>\n",
              "      <td>0.158</td>\n",
              "      <td>21.0</td>\n",
              "      <td>0.0</td>\n",
              "    </tr>\n",
              "    <tr>\n",
              "      <th>3</th>\n",
              "      <td>8.0</td>\n",
              "      <td>107.0</td>\n",
              "      <td>80.0</td>\n",
              "      <td>0.0</td>\n",
              "      <td>0.0</td>\n",
              "      <td>24.6</td>\n",
              "      <td>0.856</td>\n",
              "      <td>34.0</td>\n",
              "      <td>0.0</td>\n",
              "    </tr>\n",
              "    <tr>\n",
              "      <th>4</th>\n",
              "      <td>7.0</td>\n",
              "      <td>136.0</td>\n",
              "      <td>90.0</td>\n",
              "      <td>0.0</td>\n",
              "      <td>0.0</td>\n",
              "      <td>29.9</td>\n",
              "      <td>0.210</td>\n",
              "      <td>50.0</td>\n",
              "      <td>0.0</td>\n",
              "    </tr>\n",
              "  </tbody>\n",
              "</table>\n",
              "</div>\n",
              "      <button class=\"colab-df-convert\" onclick=\"convertToInteractive('df-3a0fbcbb-be27-4a1e-b594-98f12ead0bd2')\"\n",
              "              title=\"Convert this dataframe to an interactive table.\"\n",
              "              style=\"display:none;\">\n",
              "        \n",
              "  <svg xmlns=\"http://www.w3.org/2000/svg\" height=\"24px\"viewBox=\"0 0 24 24\"\n",
              "       width=\"24px\">\n",
              "    <path d=\"M0 0h24v24H0V0z\" fill=\"none\"/>\n",
              "    <path d=\"M18.56 5.44l.94 2.06.94-2.06 2.06-.94-2.06-.94-.94-2.06-.94 2.06-2.06.94zm-11 1L8.5 8.5l.94-2.06 2.06-.94-2.06-.94L8.5 2.5l-.94 2.06-2.06.94zm10 10l.94 2.06.94-2.06 2.06-.94-2.06-.94-.94-2.06-.94 2.06-2.06.94z\"/><path d=\"M17.41 7.96l-1.37-1.37c-.4-.4-.92-.59-1.43-.59-.52 0-1.04.2-1.43.59L10.3 9.45l-7.72 7.72c-.78.78-.78 2.05 0 2.83L4 21.41c.39.39.9.59 1.41.59.51 0 1.02-.2 1.41-.59l7.78-7.78 2.81-2.81c.8-.78.8-2.07 0-2.86zM5.41 20L4 18.59l7.72-7.72 1.47 1.35L5.41 20z\"/>\n",
              "  </svg>\n",
              "      </button>\n",
              "      \n",
              "  <style>\n",
              "    .colab-df-container {\n",
              "      display:flex;\n",
              "      flex-wrap:wrap;\n",
              "      gap: 12px;\n",
              "    }\n",
              "\n",
              "    .colab-df-convert {\n",
              "      background-color: #E8F0FE;\n",
              "      border: none;\n",
              "      border-radius: 50%;\n",
              "      cursor: pointer;\n",
              "      display: none;\n",
              "      fill: #1967D2;\n",
              "      height: 32px;\n",
              "      padding: 0 0 0 0;\n",
              "      width: 32px;\n",
              "    }\n",
              "\n",
              "    .colab-df-convert:hover {\n",
              "      background-color: #E2EBFA;\n",
              "      box-shadow: 0px 1px 2px rgba(60, 64, 67, 0.3), 0px 1px 3px 1px rgba(60, 64, 67, 0.15);\n",
              "      fill: #174EA6;\n",
              "    }\n",
              "\n",
              "    [theme=dark] .colab-df-convert {\n",
              "      background-color: #3B4455;\n",
              "      fill: #D2E3FC;\n",
              "    }\n",
              "\n",
              "    [theme=dark] .colab-df-convert:hover {\n",
              "      background-color: #434B5C;\n",
              "      box-shadow: 0px 1px 3px 1px rgba(0, 0, 0, 0.15);\n",
              "      filter: drop-shadow(0px 1px 2px rgba(0, 0, 0, 0.3));\n",
              "      fill: #FFFFFF;\n",
              "    }\n",
              "  </style>\n",
              "\n",
              "      <script>\n",
              "        const buttonEl =\n",
              "          document.querySelector('#df-3a0fbcbb-be27-4a1e-b594-98f12ead0bd2 button.colab-df-convert');\n",
              "        buttonEl.style.display =\n",
              "          google.colab.kernel.accessAllowed ? 'block' : 'none';\n",
              "\n",
              "        async function convertToInteractive(key) {\n",
              "          const element = document.querySelector('#df-3a0fbcbb-be27-4a1e-b594-98f12ead0bd2');\n",
              "          const dataTable =\n",
              "            await google.colab.kernel.invokeFunction('convertToInteractive',\n",
              "                                                     [key], {});\n",
              "          if (!dataTable) return;\n",
              "\n",
              "          const docLinkHtml = 'Like what you see? Visit the ' +\n",
              "            '<a target=\"_blank\" href=https://colab.research.google.com/notebooks/data_table.ipynb>data table notebook</a>'\n",
              "            + ' to learn more about interactive tables.';\n",
              "          element.innerHTML = '';\n",
              "          dataTable['output_type'] = 'display_data';\n",
              "          await google.colab.output.renderOutput(dataTable, element);\n",
              "          const docLink = document.createElement('div');\n",
              "          docLink.innerHTML = docLinkHtml;\n",
              "          element.appendChild(docLink);\n",
              "        }\n",
              "      </script>\n",
              "    </div>\n",
              "  </div>\n",
              "  "
            ]
          },
          "metadata": {},
          "execution_count": 10
        }
      ]
    },
    {
      "cell_type": "markdown",
      "source": [
        "A variável Outcome foi incluída no conjunto de teste apenas por conveniência. Sendo assim, ao utilizar o conjunto de teste nos métodos de classificação, será necessário removê-la. Assim, com a variável Outcome separada do conjunto de teste, é possível utilizá-la como $y_{true}$. Isto é, após fazer a classificação, é possível comparar os valores preditos $y_{pred}$ com os valores verdadeiros $y_{true}$.\n",
        "\n",
        "Sendo assim, será possível obter falsos negativos (FN), falsos positivos (FP), verdadeiros negativos (VN) e verdadeiros positivos (VP)."
      ],
      "metadata": {
        "id": "HdmYWcWjCwTH"
      }
    },
    {
      "cell_type": "markdown",
      "source": [
        "Agora, é necessário verificar se há valores faltantes nos dois conjuntos de dados, com isso, temos:"
      ],
      "metadata": {
        "id": "4hBsppN8LhPN"
      }
    },
    {
      "cell_type": "code",
      "source": [
        "train_original.info()"
      ],
      "metadata": {
        "colab": {
          "base_uri": "https://localhost:8080/"
        },
        "id": "b9DjK2u6LTTF",
        "outputId": "2b69bc04-2d84-4018-db3c-33bf4b2074ab"
      },
      "execution_count": null,
      "outputs": [
        {
          "output_type": "stream",
          "name": "stdout",
          "text": [
            "<class 'pandas.core.frame.DataFrame'>\n",
            "RangeIndex: 576 entries, 0 to 575\n",
            "Data columns (total 9 columns):\n",
            " #   Column                    Non-Null Count  Dtype  \n",
            "---  ------                    --------------  -----  \n",
            " 0   Pregnancies               576 non-null    float64\n",
            " 1   Glucose                   576 non-null    float64\n",
            " 2   BloodPressure             576 non-null    float64\n",
            " 3   SkinThickness             576 non-null    float64\n",
            " 4   Insulin                   576 non-null    float64\n",
            " 5   BMI                       576 non-null    float64\n",
            " 6   DiabetesPedigreeFunction  576 non-null    float64\n",
            " 7   Age                       576 non-null    float64\n",
            " 8   Outcome                   576 non-null    float64\n",
            "dtypes: float64(9)\n",
            "memory usage: 40.6 KB\n"
          ]
        }
      ]
    },
    {
      "cell_type": "markdown",
      "source": [
        "Inicialmente, nota-se que não há valores NaN. Assim, visualizando-se o comportamento dos dados, segue que:"
      ],
      "metadata": {
        "id": "ED9OciTeMCgF"
      }
    },
    {
      "cell_type": "code",
      "source": [
        "sns.set(style=\"darkgrid\")\n",
        "\n",
        "fig, axs = plt.subplots(2, 4, figsize=(20, 10))\n",
        "\n",
        "sns.histplot(data=train_original, x=\"Pregnancies\", kde=True, color=\"skyblue\", ax=axs[0, 0])\n",
        "sns.histplot(data=train_original, x=\"Glucose\", kde=True, color=\"green\", ax=axs[0, 1])\n",
        "sns.histplot(data=train_original, x=\"BloodPressure\", kde=True, color=\"olive\", ax=axs[0, 2])\n",
        "sns.histplot(data=train_original, x=\"SkinThickness\", kde=True, color=\"gold\", ax=axs[0, 3])\n",
        "sns.histplot(data=train_original, x=\"Insulin\", kde=True, color=\"teal\", ax=axs[1, 0])\n",
        "sns.histplot(data=train_original, x=\"BMI\", kde=True, color=\"red\", ax=axs[1, 1])\n",
        "sns.histplot(data=train_original, x=\"DiabetesPedigreeFunction\", kde=True, color=\"magenta\", ax=axs[1, 2])\n",
        "sns.histplot(data=train_original, x=\"Age\", kde=True, color=\"blue\", ax=axs[1, 3])\n",
        "\n",
        "plt.show()"
      ],
      "metadata": {
        "colab": {
          "base_uri": "https://localhost:8080/",
          "height": 611
        },
        "id": "uuj68vpsMAme",
        "outputId": "af32ffc8-f1b2-47eb-a660-e7106846126a"
      },
      "execution_count": null,
      "outputs": [
        {
          "output_type": "display_data",
          "data": {
            "text/plain": [
              "<Figure size 1440x720 with 8 Axes>"
            ],
            "image/png": "[encoded data removed]"
          },
          "metadata": {}
        }
      ]
    },
    {
      "cell_type": "markdown",
      "source": [
        "Pela análise dos histogramas, nota-se a presença de muitas observações com valores iguais a zero. Entretanto, para algumas variáveis estas observações com valor zero não fazem sentido. Por exemplo: um BMI igual a zero indica que a pessoa pesa 0 kg e uma pressão sanguínea igual a zero indica que a pessoa não tem sangue circulando em seus vasos sanguíneos!\n",
        "\n",
        "Claramente, estes valores sem sentido são na verdade valores faltantes na base de dados que deverão ser corrigidos.\n",
        "\n",
        "Assim, verificando-se o número de valores iguais a zero, temos:"
      ],
      "metadata": {
        "id": "BD3GhXi0NPcO"
      }
    },
    {
      "cell_type": "code",
      "source": [
        "a = train_original.Pregnancies.tolist()\n",
        "b = train_original.Glucose.tolist()\n",
        "c = train_original.BloodPressure.tolist()\n",
        "d = train_original.SkinThickness.tolist()\n",
        "e = train_original.Insulin.tolist()\n",
        "f = train_original.BMI.tolist()\n",
        "g = train_original.DiabetesPedigreeFunction.tolist()\n",
        "h = train_original.Age.tolist()\n",
        "\n",
        "print(\"Número de zeros de Pregnancies: \",a.count(0))\n",
        "print(\"Número de zeros de Glucose: \",b.count(0))\n",
        "print(\"Número de zeros de BloodPressure: \",c.count(0))\n",
        "print(\"Número de zeros de SkinThickness: \",d.count(0))\n",
        "print(\"Número de zeros de Insulin: \",e.count(0))\n",
        "print(\"Número de zeros de BMI: \",f.count(0))\n",
        "print(\"Número de zeros de DiabetesPedigreeFunction: \",g.count(0))\n",
        "print(\"Número de zeros de Age: \",h.count(0))"
      ],
      "metadata": {
        "colab": {
          "base_uri": "https://localhost:8080/"
        },
        "id": "ysarhNVXNlGu",
        "outputId": "ec4831fc-5fbd-431a-b5cd-4957359bdb7b"
      },
      "execution_count": null,
      "outputs": [
        {
          "output_type": "stream",
          "name": "stdout",
          "text": [
            "Número de zeros de Pregnancies:  86\n",
            "Número de zeros de Glucose:  5\n",
            "Número de zeros de BloodPressure:  22\n",
            "Número de zeros de SkinThickness:  164\n",
            "Número de zeros de Insulin:  276\n",
            "Número de zeros de BMI:  6\n",
            "Número de zeros de DiabetesPedigreeFunction:  0\n",
            "Número de zeros de Age:  0\n"
          ]
        }
      ]
    },
    {
      "cell_type": "markdown",
      "source": [
        "Agora, verificando-se o conjunto de teste, segue que:"
      ],
      "metadata": {
        "id": "WhTAxwLjOt2_"
      }
    },
    {
      "cell_type": "code",
      "source": [
        "test_original.info()"
      ],
      "metadata": {
        "colab": {
          "base_uri": "https://localhost:8080/"
        },
        "id": "9sXoPWhtOy3B",
        "outputId": "c3f1d51e-030b-4023-c4c6-84a305cc628c"
      },
      "execution_count": null,
      "outputs": [
        {
          "output_type": "stream",
          "name": "stdout",
          "text": [
            "<class 'pandas.core.frame.DataFrame'>\n",
            "RangeIndex: 192 entries, 0 to 191\n",
            "Data columns (total 9 columns):\n",
            " #   Column                    Non-Null Count  Dtype  \n",
            "---  ------                    --------------  -----  \n",
            " 0   Pregnancies               192 non-null    float64\n",
            " 1   Glucose                   192 non-null    float64\n",
            " 2   BloodPressure             192 non-null    float64\n",
            " 3   SkinThickness             192 non-null    float64\n",
            " 4   Insulin                   192 non-null    float64\n",
            " 5   BMI                       192 non-null    float64\n",
            " 6   DiabetesPedigreeFunction  192 non-null    float64\n",
            " 7   Age                       192 non-null    float64\n",
            " 8   Outcome                   192 non-null    float64\n",
            "dtypes: float64(9)\n",
            "memory usage: 13.6 KB\n"
          ]
        }
      ]
    },
    {
      "cell_type": "markdown",
      "source": [
        "Semelhantemente ao caso anterior, observa-se o comportamento dos dados:"
      ],
      "metadata": {
        "id": "ZOsZ98CGPAHp"
      }
    },
    {
      "cell_type": "code",
      "source": [
        "sns.set(style=\"darkgrid\")\n",
        "\n",
        "fig, axs = plt.subplots(2, 4, figsize=(20, 10))\n",
        "\n",
        "sns.histplot(data=test_original, x=\"Pregnancies\", kde=True, color=\"skyblue\", ax=axs[0, 0])\n",
        "sns.histplot(data=test_original, x=\"Glucose\", kde=True, color=\"green\", ax=axs[0, 1])\n",
        "sns.histplot(data=test_original, x=\"BloodPressure\", kde=True, color=\"olive\", ax=axs[0, 2])\n",
        "sns.histplot(data=test_original, x=\"SkinThickness\", kde=True, color=\"gold\", ax=axs[0, 3])\n",
        "sns.histplot(data=test_original, x=\"Insulin\", kde=True, color=\"teal\", ax=axs[1, 0])\n",
        "sns.histplot(data=test_original, x=\"BMI\", kde=True, color=\"red\", ax=axs[1, 1])\n",
        "sns.histplot(data=test_original, x=\"DiabetesPedigreeFunction\", kde=True, color=\"magenta\", ax=axs[1, 2])\n",
        "sns.histplot(data=test_original, x=\"Age\", kde=True, color=\"blue\", ax=axs[1, 3])\n",
        "\n",
        "plt.show()"
      ],
      "metadata": {
        "colab": {
          "base_uri": "https://localhost:8080/",
          "height": 614
        },
        "id": "HpqNl8dgPG1P",
        "outputId": "2ce2982a-cbf1-493b-c9e8-c46dbdb01993"
      },
      "execution_count": null,
      "outputs": [
        {
          "output_type": "display_data",
          "data": {
            "text/plain": [
              "<Figure size 1440x720 with 8 Axes>"
            ],
            "image/png": "[encoded data removed]"
          },
          "metadata": {}
        }
      ]
    },
    {
      "cell_type": "markdown",
      "source": [
        "Da mesma forma que com o conjunto de treinamento, também há muitos valores iguais a zero que não tem sentido no conjunto de teste. Deverão ser corrigidos."
      ],
      "metadata": {
        "id": "6BEoxo6jtY7d"
      }
    },
    {
      "cell_type": "code",
      "source": [
        "a = test_original.Pregnancies.tolist()\n",
        "b = test_original.Glucose.tolist()\n",
        "c = test_original.BloodPressure.tolist()\n",
        "d = test_original.SkinThickness.tolist()\n",
        "e = test_original.Insulin.tolist()\n",
        "f = test_original.BMI.tolist()\n",
        "g = test_original.DiabetesPedigreeFunction.tolist()\n",
        "h = test_original.Age.tolist()\n",
        "\n",
        "print(\"Número de zeros de Pregnancies: \",a.count(0))\n",
        "print(\"Número de zeros de Glucose: \",b.count(0))\n",
        "print(\"Número de zeros de BloodPressure: \",c.count(0))\n",
        "print(\"Número de zeros de SkinThickness: \",d.count(0))\n",
        "print(\"Número de zeros de Insulin: \",e.count(0))\n",
        "print(\"Número de zeros de BMI: \",f.count(0))\n",
        "print(\"Número de zeros de DiabetesPedigreeFunction: \",g.count(0))\n",
        "print(\"Número de zeros de Age: \",h.count(0))"
      ],
      "metadata": {
        "colab": {
          "base_uri": "https://localhost:8080/"
        },
        "id": "TPqfdj1UPWfg",
        "outputId": "099c337c-e1c5-4f60-8345-8ecd59f0fc0a"
      },
      "execution_count": null,
      "outputs": [
        {
          "output_type": "stream",
          "name": "stdout",
          "text": [
            "Número de zeros de Pregnancies:  25\n",
            "Número de zeros de Glucose:  0\n",
            "Número de zeros de BloodPressure:  13\n",
            "Número de zeros de SkinThickness:  63\n",
            "Número de zeros de Insulin:  98\n",
            "Número de zeros de BMI:  5\n",
            "Número de zeros de DiabetesPedigreeFunction:  0\n",
            "Número de zeros de Age:  0\n"
          ]
        }
      ]
    },
    {
      "cell_type": "markdown",
      "source": [
        "Sendo assim, para os dois conjuntos de dados, é necessário fazer o preenchimento desses valores iguais a zero para algumas das variáveis. Apesar da variável insulina possuir muitos valores iguais a zero, não iremos mudar estes. Como a condição de diabetes está associada a uma deficiência do pâncreas de produzir insulina, decidimos não alterar estes valores devido à sua importância no diagnóstico médico.\n",
        "\n",
        "Por outro lado, iremos considerar como dados faltantes os casos em que os valores das variáveis glicose, pressão sanguínea, espessura da pele e BMI sejam iguais a zero "
      ],
      "metadata": {
        "id": "CsNZwMpSPg0K"
      }
    },
    {
      "cell_type": "markdown",
      "source": [
        "### **3.1) Preenchimento de valores faltantes para o conjunto de treinamento**"
      ],
      "metadata": {
        "id": "MkUKigvUQOUR"
      }
    },
    {
      "cell_type": "markdown",
      "source": [
        "Tentaremos substituir valores faltantes por regressão linear. Para isto, primeiro precisamos normalizar os dados, tanto do conjunto de teste quanto do conjunto de treinamento. Isto é necessário, pois as oito variáveis numéricas variam em escalas diferentes."
      ],
      "metadata": {
        "id": "MOQoCHUekJUU"
      }
    },
    {
      "cell_type": "code",
      "source": [
        "scaler = MinMaxScaler(feature_range=(0, 1))"
      ],
      "metadata": {
        "id": "C51kZYGjQV5O"
      },
      "execution_count": null,
      "outputs": []
    },
    {
      "cell_type": "code",
      "source": [
        "pregnancies = np.array(train_original[train_original.columns[0]])\n",
        "pregnancies_norm = scaler.fit_transform(pregnancies.reshape(-1,1))\n",
        "\n",
        "glucose = np.array(train_original[train_original.columns[1]])\n",
        "glucose_norm = scaler.fit_transform(glucose.reshape(-1,1))\n",
        "\n",
        "bloodpressure = np.array(train_original[train_original.columns[2]])\n",
        "bloodpressure_norm = scaler.fit_transform(bloodpressure.reshape(-1,1))\n",
        "\n",
        "skinthickness = np.array(train_original[train_original.columns[3]])\n",
        "skinthickness_norm = scaler.fit_transform(skinthickness.reshape(-1,1))\n",
        "\n",
        "insulin = np.array(train_original[train_original.columns[4]])\n",
        "insulin_norm = scaler.fit_transform(insulin.reshape(-1,1))\n",
        "\n",
        "bmi = np.array(train_original[train_original.columns[5]])\n",
        "bmi_norm = scaler.fit_transform(bmi.reshape(-1,1))\n",
        "\n",
        "diabetesfunction = np.array(train_original[train_original.columns[6]])\n",
        "diabetesfunction_norm = scaler.fit_transform(diabetesfunction.reshape(-1,1))\n",
        "\n",
        "age = np.array(train_original[train_original.columns[7]])\n",
        "age_norm = scaler.fit_transform(age.reshape(-1,1))"
      ],
      "metadata": {
        "id": "vy4uuA8fkQkO"
      },
      "execution_count": null,
      "outputs": []
    },
    {
      "cell_type": "code",
      "source": [
        "train_norm = train_original.copy()\n",
        "\n",
        "for i in range(train_original.shape[0]):\n",
        "  train_norm.loc[i,'Pregnancies'] = pregnancies_norm[i]\n",
        "  train_norm.loc[i,'Glucose'] = glucose_norm[i]\n",
        "  train_norm.loc[i,'BloodPressure'] = bloodpressure_norm[i]\n",
        "  train_norm.loc[i,'SkinThickness'] = skinthickness_norm[i]\n",
        "  train_norm.loc[i,'Insulin'] = insulin_norm[i]  \n",
        "  train_norm.loc[i,'BMI'] = bmi_norm[i]  \n",
        "  train_norm.loc[i,'DiabetesPedigreeFunction'] = diabetesfunction_norm[i]  \n",
        "  train_norm.loc[i,'Age'] = age_norm[i]  \n",
        "\n",
        "print(\"Dataframe do conjunto de treino normalizado\")\n",
        "train_norm.head(10)"
      ],
      "metadata": {
        "colab": {
          "base_uri": "https://localhost:8080/",
          "height": 380
        },
        "id": "0jm1rBs2k4bC",
        "outputId": "8bf6f2a7-eb95-4199-db1d-c2ce0b9f98d6"
      },
      "execution_count": null,
      "outputs": [
        {
          "output_type": "stream",
          "name": "stdout",
          "text": [
            "Dataframe do conjunto de treino normalizado\n"
          ]
        },
        {
          "output_type": "execute_result",
          "data": {
            "text/plain": [
              "   Pregnancies   Glucose  BloodPressure  SkinThickness   Insulin       BMI  \\\n",
              "0     0.764706  0.648241       0.000000       0.476190  0.000000  0.594635   \n",
              "1     0.235294  0.648241       0.704918       0.317460  0.319149  0.523100   \n",
              "2     0.176471  0.306533       0.672131       0.444444  0.000000  0.512668   \n",
              "3     0.117647  0.407035       0.590164       0.238095  0.089835  0.448584   \n",
              "4     0.000000  0.512563       0.614754       0.365079  0.000000  0.000000   \n",
              "5     0.176471  0.497487       0.442623       0.301587  0.101655  0.381520   \n",
              "6     0.000000  0.537688       0.508197       0.476190  0.087470  0.545455   \n",
              "7     0.176471  0.854271       0.524590       0.587302  0.265957  0.514158   \n",
              "8     0.647059  0.427136       0.606557       0.000000  0.000000  0.448584   \n",
              "9     0.000000  0.512563       0.639344       0.634921  0.106383  0.514158   \n",
              "\n",
              "   DiabetesPedigreeFunction       Age  Outcome  \n",
              "0                  0.209650  0.383333      1.0  \n",
              "1                  0.065329  0.033333      0.0  \n",
              "2                  0.070453  0.416667      0.0  \n",
              "3                  0.200256  0.066667      0.0  \n",
              "4                  0.210931  0.000000      0.0  \n",
              "5                  0.032451  0.050000      0.0  \n",
              "6                  0.289923  0.066667      1.0  \n",
              "7                  0.118702  0.150000      1.0  \n",
              "8                  0.094791  0.233333      0.0  \n",
              "9                  0.068318  0.050000      0.0  "
            ],
            "text/html": [
              "\n",
              "  <div id=\"df-0cb509e0-a285-4ac9-ac76-d030696b4692\">\n",
              "    <div class=\"colab-df-container\">\n",
              "      <div>\n",
              "<style scoped>\n",
              "    .dataframe tbody tr th:only-of-type {\n",
              "        vertical-align: middle;\n",
              "    }\n",
              "\n",
              "    .dataframe tbody tr th {\n",
              "        vertical-align: top;\n",
              "    }\n",
              "\n",
              "    .dataframe thead th {\n",
              "        text-align: right;\n",
              "    }\n",
              "</style>\n",
              "<table border=\"1\" class=\"dataframe\">\n",
              "  <thead>\n",
              "    <tr style=\"text-align: right;\">\n",
              "      <th></th>\n",
              "      <th>Pregnancies</th>\n",
              "      <th>Glucose</th>\n",
              "      <th>BloodPressure</th>\n",
              "      <th>SkinThickness</th>\n",
              "      <th>Insulin</th>\n",
              "      <th>BMI</th>\n",
              "      <th>DiabetesPedigreeFunction</th>\n",
              "      <th>Age</th>\n",
              "      <th>Outcome</th>\n",
              "    </tr>\n",
              "  </thead>\n",
              "  <tbody>\n",
              "    <tr>\n",
              "      <th>0</th>\n",
              "      <td>0.764706</td>\n",
              "      <td>0.648241</td>\n",
              "      <td>0.000000</td>\n",
              "      <td>0.476190</td>\n",
              "      <td>0.000000</td>\n",
              "      <td>0.594635</td>\n",
              "      <td>0.209650</td>\n",
              "      <td>0.383333</td>\n",
              "      <td>1.0</td>\n",
              "    </tr>\n",
              "    <tr>\n",
              "      <th>1</th>\n",
              "      <td>0.235294</td>\n",
              "      <td>0.648241</td>\n",
              "      <td>0.704918</td>\n",
              "      <td>0.317460</td>\n",
              "      <td>0.319149</td>\n",
              "      <td>0.523100</td>\n",
              "      <td>0.065329</td>\n",
              "      <td>0.033333</td>\n",
              "      <td>0.0</td>\n",
              "    </tr>\n",
              "    <tr>\n",
              "      <th>2</th>\n",
              "      <td>0.176471</td>\n",
              "      <td>0.306533</td>\n",
              "      <td>0.672131</td>\n",
              "      <td>0.444444</td>\n",
              "      <td>0.000000</td>\n",
              "      <td>0.512668</td>\n",
              "      <td>0.070453</td>\n",
              "      <td>0.416667</td>\n",
              "      <td>0.0</td>\n",
              "    </tr>\n",
              "    <tr>\n",
              "      <th>3</th>\n",
              "      <td>0.117647</td>\n",
              "      <td>0.407035</td>\n",
              "      <td>0.590164</td>\n",
              "      <td>0.238095</td>\n",
              "      <td>0.089835</td>\n",
              "      <td>0.448584</td>\n",
              "      <td>0.200256</td>\n",
              "      <td>0.066667</td>\n",
              "      <td>0.0</td>\n",
              "    </tr>\n",
              "    <tr>\n",
              "      <th>4</th>\n",
              "      <td>0.000000</td>\n",
              "      <td>0.512563</td>\n",
              "      <td>0.614754</td>\n",
              "      <td>0.365079</td>\n",
              "      <td>0.000000</td>\n",
              "      <td>0.000000</td>\n",
              "      <td>0.210931</td>\n",
              "      <td>0.000000</td>\n",
              "      <td>0.0</td>\n",
              "    </tr>\n",
              "    <tr>\n",
              "      <th>5</th>\n",
              "      <td>0.176471</td>\n",
              "      <td>0.497487</td>\n",
              "      <td>0.442623</td>\n",
              "      <td>0.301587</td>\n",
              "      <td>0.101655</td>\n",
              "      <td>0.381520</td>\n",
              "      <td>0.032451</td>\n",
              "      <td>0.050000</td>\n",
              "      <td>0.0</td>\n",
              "    </tr>\n",
              "    <tr>\n",
              "      <th>6</th>\n",
              "      <td>0.000000</td>\n",
              "      <td>0.537688</td>\n",
              "      <td>0.508197</td>\n",
              "      <td>0.476190</td>\n",
              "      <td>0.087470</td>\n",
              "      <td>0.545455</td>\n",
              "      <td>0.289923</td>\n",
              "      <td>0.066667</td>\n",
              "      <td>1.0</td>\n",
              "    </tr>\n",
              "    <tr>\n",
              "      <th>7</th>\n",
              "      <td>0.176471</td>\n",
              "      <td>0.854271</td>\n",
              "      <td>0.524590</td>\n",
              "      <td>0.587302</td>\n",
              "      <td>0.265957</td>\n",
              "      <td>0.514158</td>\n",
              "      <td>0.118702</td>\n",
              "      <td>0.150000</td>\n",
              "      <td>1.0</td>\n",
              "    </tr>\n",
              "    <tr>\n",
              "      <th>8</th>\n",
              "      <td>0.647059</td>\n",
              "      <td>0.427136</td>\n",
              "      <td>0.606557</td>\n",
              "      <td>0.000000</td>\n",
              "      <td>0.000000</td>\n",
              "      <td>0.448584</td>\n",
              "      <td>0.094791</td>\n",
              "      <td>0.233333</td>\n",
              "      <td>0.0</td>\n",
              "    </tr>\n",
              "    <tr>\n",
              "      <th>9</th>\n",
              "      <td>0.000000</td>\n",
              "      <td>0.512563</td>\n",
              "      <td>0.639344</td>\n",
              "      <td>0.634921</td>\n",
              "      <td>0.106383</td>\n",
              "      <td>0.514158</td>\n",
              "      <td>0.068318</td>\n",
              "      <td>0.050000</td>\n",
              "      <td>0.0</td>\n",
              "    </tr>\n",
              "  </tbody>\n",
              "</table>\n",
              "</div>\n",
              "      <button class=\"colab-df-convert\" onclick=\"convertToInteractive('df-0cb509e0-a285-4ac9-ac76-d030696b4692')\"\n",
              "              title=\"Convert this dataframe to an interactive table.\"\n",
              "              style=\"display:none;\">\n",
              "        \n",
              "  <svg xmlns=\"http://www.w3.org/2000/svg\" height=\"24px\"viewBox=\"0 0 24 24\"\n",
              "       width=\"24px\">\n",
              "    <path d=\"M0 0h24v24H0V0z\" fill=\"none\"/>\n",
              "    <path d=\"M18.56 5.44l.94 2.06.94-2.06 2.06-.94-2.06-.94-.94-2.06-.94 2.06-2.06.94zm-11 1L8.5 8.5l.94-2.06 2.06-.94-2.06-.94L8.5 2.5l-.94 2.06-2.06.94zm10 10l.94 2.06.94-2.06 2.06-.94-2.06-.94-.94-2.06-.94 2.06-2.06.94z\"/><path d=\"M17.41 7.96l-1.37-1.37c-.4-.4-.92-.59-1.43-.59-.52 0-1.04.2-1.43.59L10.3 9.45l-7.72 7.72c-.78.78-.78 2.05 0 2.83L4 21.41c.39.39.9.59 1.41.59.51 0 1.02-.2 1.41-.59l7.78-7.78 2.81-2.81c.8-.78.8-2.07 0-2.86zM5.41 20L4 18.59l7.72-7.72 1.47 1.35L5.41 20z\"/>\n",
              "  </svg>\n",
              "      </button>\n",
              "      \n",
              "  <style>\n",
              "    .colab-df-container {\n",
              "      display:flex;\n",
              "      flex-wrap:wrap;\n",
              "      gap: 12px;\n",
              "    }\n",
              "\n",
              "    .colab-df-convert {\n",
              "      background-color: #E8F0FE;\n",
              "      border: none;\n",
              "      border-radius: 50%;\n",
              "      cursor: pointer;\n",
              "      display: none;\n",
              "      fill: #1967D2;\n",
              "      height: 32px;\n",
              "      padding: 0 0 0 0;\n",
              "      width: 32px;\n",
              "    }\n",
              "\n",
              "    .colab-df-convert:hover {\n",
              "      background-color: #E2EBFA;\n",
              "      box-shadow: 0px 1px 2px rgba(60, 64, 67, 0.3), 0px 1px 3px 1px rgba(60, 64, 67, 0.15);\n",
              "      fill: #174EA6;\n",
              "    }\n",
              "\n",
              "    [theme=dark] .colab-df-convert {\n",
              "      background-color: #3B4455;\n",
              "      fill: #D2E3FC;\n",
              "    }\n",
              "\n",
              "    [theme=dark] .colab-df-convert:hover {\n",
              "      background-color: #434B5C;\n",
              "      box-shadow: 0px 1px 3px 1px rgba(0, 0, 0, 0.15);\n",
              "      filter: drop-shadow(0px 1px 2px rgba(0, 0, 0, 0.3));\n",
              "      fill: #FFFFFF;\n",
              "    }\n",
              "  </style>\n",
              "\n",
              "      <script>\n",
              "        const buttonEl =\n",
              "          document.querySelector('#df-0cb509e0-a285-4ac9-ac76-d030696b4692 button.colab-df-convert');\n",
              "        buttonEl.style.display =\n",
              "          google.colab.kernel.accessAllowed ? 'block' : 'none';\n",
              "\n",
              "        async function convertToInteractive(key) {\n",
              "          const element = document.querySelector('#df-0cb509e0-a285-4ac9-ac76-d030696b4692');\n",
              "          const dataTable =\n",
              "            await google.colab.kernel.invokeFunction('convertToInteractive',\n",
              "                                                     [key], {});\n",
              "          if (!dataTable) return;\n",
              "\n",
              "          const docLinkHtml = 'Like what you see? Visit the ' +\n",
              "            '<a target=\"_blank\" href=https://colab.research.google.com/notebooks/data_table.ipynb>data table notebook</a>'\n",
              "            + ' to learn more about interactive tables.';\n",
              "          element.innerHTML = '';\n",
              "          dataTable['output_type'] = 'display_data';\n",
              "          await google.colab.output.renderOutput(dataTable, element);\n",
              "          const docLink = document.createElement('div');\n",
              "          docLink.innerHTML = docLinkHtml;\n",
              "          element.appendChild(docLink);\n",
              "        }\n",
              "      </script>\n",
              "    </div>\n",
              "  </div>\n",
              "  "
            ]
          },
          "metadata": {},
          "execution_count": 19
        }
      ]
    },
    {
      "cell_type": "markdown",
      "source": [
        "Agora que já temos um dataframe com os dados do conjunto de treino normalizado, para obtermos os modelos de regressão linear iremos criar um novo dataframe contendo apenas as observações em que as variáveis de interesse são diferentes de zero."
      ],
      "metadata": {
        "id": "mFDuB9QMk-ox"
      }
    },
    {
      "cell_type": "code",
      "source": [
        "df_regressao_train = train_norm[(train_norm[\"Glucose\"] != 0) & (train_norm[\"BloodPressure\"] != 0) & (train_norm[\"SkinThickness\"] != 0) & (train_norm[\"BMI\"] != 0)]\n",
        "df_regressao_train"
      ],
      "metadata": {
        "colab": {
          "base_uri": "https://localhost:8080/",
          "height": 424
        },
        "id": "Ab_FXR-Qk6zZ",
        "outputId": "d7b89f4a-9b6d-4146-8cf1-5ce107fc6a03"
      },
      "execution_count": null,
      "outputs": [
        {
          "output_type": "execute_result",
          "data": {
            "text/plain": [
              "     Pregnancies   Glucose  BloodPressure  SkinThickness   Insulin       BMI  \\\n",
              "1       0.235294  0.648241       0.704918       0.317460  0.319149  0.523100   \n",
              "2       0.176471  0.306533       0.672131       0.444444  0.000000  0.512668   \n",
              "3       0.117647  0.407035       0.590164       0.238095  0.089835  0.448584   \n",
              "5       0.176471  0.497487       0.442623       0.301587  0.101655  0.381520   \n",
              "6       0.000000  0.537688       0.508197       0.476190  0.087470  0.545455   \n",
              "..           ...       ...            ...            ...       ...       ...   \n",
              "568     0.647059  0.693467       0.606557       0.412698  0.170213  0.538003   \n",
              "569     0.176471  0.633166       0.721311       0.650794  0.277778  0.585693   \n",
              "570     0.117647  0.613065       0.622951       0.428571  0.236407  0.535022   \n",
              "571     0.294118  0.698492       0.524590       0.555556  0.165485  0.426230   \n",
              "573     0.588235  0.507538       0.704918       0.587302  0.000000  0.679583   \n",
              "\n",
              "     DiabetesPedigreeFunction       Age  Outcome  \n",
              "1                    0.065329  0.033333      0.0  \n",
              "2                    0.070453  0.416667      0.0  \n",
              "3                    0.200256  0.066667      0.0  \n",
              "5                    0.032451  0.050000      0.0  \n",
              "6                    0.289923  0.066667      1.0  \n",
              "..                        ...       ...      ...  \n",
              "568                  0.204526  0.483333      1.0  \n",
              "569                  0.267293  0.100000      0.0  \n",
              "570                  0.172929  0.083333      0.0  \n",
              "571                  0.142186  0.083333      0.0  \n",
              "573                  0.451751  0.283333      1.0  \n",
              "\n",
              "[403 rows x 9 columns]"
            ],
            "text/html": [
              "\n",
              "  <div id=\"df-e9e4c0fa-a592-423d-ba49-46d8cfe56ad9\">\n",
              "    <div class=\"colab-df-container\">\n",
              "      <div>\n",
              "<style scoped>\n",
              "    .dataframe tbody tr th:only-of-type {\n",
              "        vertical-align: middle;\n",
              "    }\n",
              "\n",
              "    .dataframe tbody tr th {\n",
              "        vertical-align: top;\n",
              "    }\n",
              "\n",
              "    .dataframe thead th {\n",
              "        text-align: right;\n",
              "    }\n",
              "</style>\n",
              "<table border=\"1\" class=\"dataframe\">\n",
              "  <thead>\n",
              "    <tr style=\"text-align: right;\">\n",
              "      <th></th>\n",
              "      <th>Pregnancies</th>\n",
              "      <th>Glucose</th>\n",
              "      <th>BloodPressure</th>\n",
              "      <th>SkinThickness</th>\n",
              "      <th>Insulin</th>\n",
              "      <th>BMI</th>\n",
              "      <th>DiabetesPedigreeFunction</th>\n",
              "      <th>Age</th>\n",
              "      <th>Outcome</th>\n",
              "    </tr>\n",
              "  </thead>\n",
              "  <tbody>\n",
              "    <tr>\n",
              "      <th>1</th>\n",
              "      <td>0.235294</td>\n",
              "      <td>0.648241</td>\n",
              "      <td>0.704918</td>\n",
              "      <td>0.317460</td>\n",
              "      <td>0.319149</td>\n",
              "      <td>0.523100</td>\n",
              "      <td>0.065329</td>\n",
              "      <td>0.033333</td>\n",
              "      <td>0.0</td>\n",
              "    </tr>\n",
              "    <tr>\n",
              "      <th>2</th>\n",
              "      <td>0.176471</td>\n",
              "      <td>0.306533</td>\n",
              "      <td>0.672131</td>\n",
              "      <td>0.444444</td>\n",
              "      <td>0.000000</td>\n",
              "      <td>0.512668</td>\n",
              "      <td>0.070453</td>\n",
              "      <td>0.416667</td>\n",
              "      <td>0.0</td>\n",
              "    </tr>\n",
              "    <tr>\n",
              "      <th>3</th>\n",
              "      <td>0.117647</td>\n",
              "      <td>0.407035</td>\n",
              "      <td>0.590164</td>\n",
              "      <td>0.238095</td>\n",
              "      <td>0.089835</td>\n",
              "      <td>0.448584</td>\n",
              "      <td>0.200256</td>\n",
              "      <td>0.066667</td>\n",
              "      <td>0.0</td>\n",
              "    </tr>\n",
              "    <tr>\n",
              "      <th>5</th>\n",
              "      <td>0.176471</td>\n",
              "      <td>0.497487</td>\n",
              "      <td>0.442623</td>\n",
              "      <td>0.301587</td>\n",
              "      <td>0.101655</td>\n",
              "      <td>0.381520</td>\n",
              "      <td>0.032451</td>\n",
              "      <td>0.050000</td>\n",
              "      <td>0.0</td>\n",
              "    </tr>\n",
              "    <tr>\n",
              "      <th>6</th>\n",
              "      <td>0.000000</td>\n",
              "      <td>0.537688</td>\n",
              "      <td>0.508197</td>\n",
              "      <td>0.476190</td>\n",
              "      <td>0.087470</td>\n",
              "      <td>0.545455</td>\n",
              "      <td>0.289923</td>\n",
              "      <td>0.066667</td>\n",
              "      <td>1.0</td>\n",
              "    </tr>\n",
              "    <tr>\n",
              "      <th>...</th>\n",
              "      <td>...</td>\n",
              "      <td>...</td>\n",
              "      <td>...</td>\n",
              "      <td>...</td>\n",
              "      <td>...</td>\n",
              "      <td>...</td>\n",
              "      <td>...</td>\n",
              "      <td>...</td>\n",
              "      <td>...</td>\n",
              "    </tr>\n",
              "    <tr>\n",
              "      <th>568</th>\n",
              "      <td>0.647059</td>\n",
              "      <td>0.693467</td>\n",
              "      <td>0.606557</td>\n",
              "      <td>0.412698</td>\n",
              "      <td>0.170213</td>\n",
              "      <td>0.538003</td>\n",
              "      <td>0.204526</td>\n",
              "      <td>0.483333</td>\n",
              "      <td>1.0</td>\n",
              "    </tr>\n",
              "    <tr>\n",
              "      <th>569</th>\n",
              "      <td>0.176471</td>\n",
              "      <td>0.633166</td>\n",
              "      <td>0.721311</td>\n",
              "      <td>0.650794</td>\n",
              "      <td>0.277778</td>\n",
              "      <td>0.585693</td>\n",
              "      <td>0.267293</td>\n",
              "      <td>0.100000</td>\n",
              "      <td>0.0</td>\n",
              "    </tr>\n",
              "    <tr>\n",
              "      <th>570</th>\n",
              "      <td>0.117647</td>\n",
              "      <td>0.613065</td>\n",
              "      <td>0.622951</td>\n",
              "      <td>0.428571</td>\n",
              "      <td>0.236407</td>\n",
              "      <td>0.535022</td>\n",
              "      <td>0.172929</td>\n",
              "      <td>0.083333</td>\n",
              "      <td>0.0</td>\n",
              "    </tr>\n",
              "    <tr>\n",
              "      <th>571</th>\n",
              "      <td>0.294118</td>\n",
              "      <td>0.698492</td>\n",
              "      <td>0.524590</td>\n",
              "      <td>0.555556</td>\n",
              "      <td>0.165485</td>\n",
              "      <td>0.426230</td>\n",
              "      <td>0.142186</td>\n",
              "      <td>0.083333</td>\n",
              "      <td>0.0</td>\n",
              "    </tr>\n",
              "    <tr>\n",
              "      <th>573</th>\n",
              "      <td>0.588235</td>\n",
              "      <td>0.507538</td>\n",
              "      <td>0.704918</td>\n",
              "      <td>0.587302</td>\n",
              "      <td>0.000000</td>\n",
              "      <td>0.679583</td>\n",
              "      <td>0.451751</td>\n",
              "      <td>0.283333</td>\n",
              "      <td>1.0</td>\n",
              "    </tr>\n",
              "  </tbody>\n",
              "</table>\n",
              "<p>403 rows × 9 columns</p>\n",
              "</div>\n",
              "      <button class=\"colab-df-convert\" onclick=\"convertToInteractive('df-e9e4c0fa-a592-423d-ba49-46d8cfe56ad9')\"\n",
              "              title=\"Convert this dataframe to an interactive table.\"\n",
              "              style=\"display:none;\">\n",
              "        \n",
              "  <svg xmlns=\"http://www.w3.org/2000/svg\" height=\"24px\"viewBox=\"0 0 24 24\"\n",
              "       width=\"24px\">\n",
              "    <path d=\"M0 0h24v24H0V0z\" fill=\"none\"/>\n",
              "    <path d=\"M18.56 5.44l.94 2.06.94-2.06 2.06-.94-2.06-.94-.94-2.06-.94 2.06-2.06.94zm-11 1L8.5 8.5l.94-2.06 2.06-.94-2.06-.94L8.5 2.5l-.94 2.06-2.06.94zm10 10l.94 2.06.94-2.06 2.06-.94-2.06-.94-.94-2.06-.94 2.06-2.06.94z\"/><path d=\"M17.41 7.96l-1.37-1.37c-.4-.4-.92-.59-1.43-.59-.52 0-1.04.2-1.43.59L10.3 9.45l-7.72 7.72c-.78.78-.78 2.05 0 2.83L4 21.41c.39.39.9.59 1.41.59.51 0 1.02-.2 1.41-.59l7.78-7.78 2.81-2.81c.8-.78.8-2.07 0-2.86zM5.41 20L4 18.59l7.72-7.72 1.47 1.35L5.41 20z\"/>\n",
              "  </svg>\n",
              "      </button>\n",
              "      \n",
              "  <style>\n",
              "    .colab-df-container {\n",
              "      display:flex;\n",
              "      flex-wrap:wrap;\n",
              "      gap: 12px;\n",
              "    }\n",
              "\n",
              "    .colab-df-convert {\n",
              "      background-color: #E8F0FE;\n",
              "      border: none;\n",
              "      border-radius: 50%;\n",
              "      cursor: pointer;\n",
              "      display: none;\n",
              "      fill: #1967D2;\n",
              "      height: 32px;\n",
              "      padding: 0 0 0 0;\n",
              "      width: 32px;\n",
              "    }\n",
              "\n",
              "    .colab-df-convert:hover {\n",
              "      background-color: #E2EBFA;\n",
              "      box-shadow: 0px 1px 2px rgba(60, 64, 67, 0.3), 0px 1px 3px 1px rgba(60, 64, 67, 0.15);\n",
              "      fill: #174EA6;\n",
              "    }\n",
              "\n",
              "    [theme=dark] .colab-df-convert {\n",
              "      background-color: #3B4455;\n",
              "      fill: #D2E3FC;\n",
              "    }\n",
              "\n",
              "    [theme=dark] .colab-df-convert:hover {\n",
              "      background-color: #434B5C;\n",
              "      box-shadow: 0px 1px 3px 1px rgba(0, 0, 0, 0.15);\n",
              "      filter: drop-shadow(0px 1px 2px rgba(0, 0, 0, 0.3));\n",
              "      fill: #FFFFFF;\n",
              "    }\n",
              "  </style>\n",
              "\n",
              "      <script>\n",
              "        const buttonEl =\n",
              "          document.querySelector('#df-e9e4c0fa-a592-423d-ba49-46d8cfe56ad9 button.colab-df-convert');\n",
              "        buttonEl.style.display =\n",
              "          google.colab.kernel.accessAllowed ? 'block' : 'none';\n",
              "\n",
              "        async function convertToInteractive(key) {\n",
              "          const element = document.querySelector('#df-e9e4c0fa-a592-423d-ba49-46d8cfe56ad9');\n",
              "          const dataTable =\n",
              "            await google.colab.kernel.invokeFunction('convertToInteractive',\n",
              "                                                     [key], {});\n",
              "          if (!dataTable) return;\n",
              "\n",
              "          const docLinkHtml = 'Like what you see? Visit the ' +\n",
              "            '<a target=\"_blank\" href=https://colab.research.google.com/notebooks/data_table.ipynb>data table notebook</a>'\n",
              "            + ' to learn more about interactive tables.';\n",
              "          element.innerHTML = '';\n",
              "          dataTable['output_type'] = 'display_data';\n",
              "          await google.colab.output.renderOutput(dataTable, element);\n",
              "          const docLink = document.createElement('div');\n",
              "          docLink.innerHTML = docLinkHtml;\n",
              "          element.appendChild(docLink);\n",
              "        }\n",
              "      </script>\n",
              "    </div>\n",
              "  </div>\n",
              "  "
            ]
          },
          "metadata": {},
          "execution_count": 20
        }
      ]
    },
    {
      "cell_type": "markdown",
      "source": [
        "Então ajustamos quatro modelos de regressão linear: um para cada uma das quatro variáveis com dados faltantes. Iremos considerar modelos de regressão linear múltipla usando todas as covariáveis em uma relação de primeiro grau."
      ],
      "metadata": {
        "id": "mEsKSBGFlHhW"
      }
    },
    {
      "cell_type": "markdown",
      "source": [
        "1º modelo: previsão dos dados faltantes de glicose."
      ],
      "metadata": {
        "id": "mN6yBgRolKev"
      }
    },
    {
      "cell_type": "code",
      "source": [
        "modelglucose_train = smf.ols(formula=\"Glucose ~ Pregnancies + BloodPressure + SkinThickness + Insulin + BMI + DiabetesPedigreeFunction + Age + Outcome\", data=df_regressao_train)\n",
        "\n",
        "resultglucose_train = modelglucose_train.fit()\n",
        "\n",
        "resultglucose_train.summary()"
      ],
      "metadata": {
        "colab": {
          "base_uri": "https://localhost:8080/",
          "height": 601
        },
        "id": "EHUO8isPuq3c",
        "outputId": "efe7c572-c3d0-4b69-dd2d-70d3405801ab"
      },
      "execution_count": null,
      "outputs": [
        {
          "output_type": "execute_result",
          "data": {
            "text/plain": [
              "<class 'statsmodels.iolib.summary.Summary'>\n",
              "\"\"\"\n",
              "                            OLS Regression Results                            \n",
              "==============================================================================\n",
              "Dep. Variable:                Glucose   R-squared:                       0.448\n",
              "Model:                            OLS   Adj. R-squared:                  0.437\n",
              "Method:                 Least Squares   F-statistic:                     40.03\n",
              "Date:                Mon, 19 Dec 2022   Prob (F-statistic):           1.54e-46\n",
              "Time:                        10:27:51   Log-Likelihood:                 302.43\n",
              "No. Observations:                 403   AIC:                            -586.9\n",
              "Df Residuals:                     394   BIC:                            -550.9\n",
              "Df Model:                           8                                         \n",
              "Covariance Type:            nonrobust                                         \n",
              "============================================================================================\n",
              "                               coef    std err          t      P>|t|      [0.025      0.975]\n",
              "--------------------------------------------------------------------------------------------\n",
              "Intercept                    0.4263      0.040     10.665      0.000       0.348       0.505\n",
              "Pregnancies                 -0.0420      0.039     -1.076      0.283      -0.119       0.035\n",
              "BloodPressure                0.1283      0.063      2.040      0.042       0.005       0.252\n",
              "SkinThickness               -0.0293      0.050     -0.588      0.557      -0.127       0.069\n",
              "Insulin                      0.3911      0.041      9.555      0.000       0.311       0.472\n",
              "BMI                          0.0152      0.080      0.189      0.850      -0.143       0.173\n",
              "DiabetesPedigreeFunction     0.0517      0.040      1.301      0.194      -0.026       0.130\n",
              "Age                          0.0902      0.046      1.948      0.052      -0.001       0.181\n",
              "Outcome                      0.1367      0.014      9.613      0.000       0.109       0.165\n",
              "==============================================================================\n",
              "Omnibus:                        8.341   Durbin-Watson:                   1.780\n",
              "Prob(Omnibus):                  0.015   Jarque-Bera (JB):                8.232\n",
              "Skew:                           0.331   Prob(JB):                       0.0163\n",
              "Kurtosis:                       3.228   Cond. No.                         22.4\n",
              "==============================================================================\n",
              "\n",
              "Notes:\n",
              "[1] Standard Errors assume that the covariance matrix of the errors is correctly specified.\n",
              "\"\"\""
            ],
            "text/html": [
              "<table class=\"simpletable\">\n",
              "<caption>OLS Regression Results</caption>\n",
              "<tr>\n",
              "  <th>Dep. Variable:</th>         <td>Glucose</td>     <th>  R-squared:         </th> <td>   0.448</td>\n",
              "</tr>\n",
              "<tr>\n",
              "  <th>Model:</th>                   <td>OLS</td>       <th>  Adj. R-squared:    </th> <td>   0.437</td>\n",
              "</tr>\n",
              "<tr>\n",
              "  <th>Method:</th>             <td>Least Squares</td>  <th>  F-statistic:       </th> <td>   40.03</td>\n",
              "</tr>\n",
              "<tr>\n",
              "  <th>Date:</th>             <td>Mon, 19 Dec 2022</td> <th>  Prob (F-statistic):</th> <td>1.54e-46</td>\n",
              "</tr>\n",
              "<tr>\n",
              "  <th>Time:</th>                 <td>10:27:51</td>     <th>  Log-Likelihood:    </th> <td>  302.43</td>\n",
              "</tr>\n",
              "<tr>\n",
              "  <th>No. Observations:</th>      <td>   403</td>      <th>  AIC:               </th> <td>  -586.9</td>\n",
              "</tr>\n",
              "<tr>\n",
              "  <th>Df Residuals:</th>          <td>   394</td>      <th>  BIC:               </th> <td>  -550.9</td>\n",
              "</tr>\n",
              "<tr>\n",
              "  <th>Df Model:</th>              <td>     8</td>      <th>                     </th>     <td> </td>   \n",
              "</tr>\n",
              "<tr>\n",
              "  <th>Covariance Type:</th>      <td>nonrobust</td>    <th>                     </th>     <td> </td>   \n",
              "</tr>\n",
              "</table>\n",
              "<table class=\"simpletable\">\n",
              "<tr>\n",
              "              <td></td>                <th>coef</th>     <th>std err</th>      <th>t</th>      <th>P>|t|</th>  <th>[0.025</th>    <th>0.975]</th>  \n",
              "</tr>\n",
              "<tr>\n",
              "  <th>Intercept</th>                <td>    0.4263</td> <td>    0.040</td> <td>   10.665</td> <td> 0.000</td> <td>    0.348</td> <td>    0.505</td>\n",
              "</tr>\n",
              "<tr>\n",
              "  <th>Pregnancies</th>              <td>   -0.0420</td> <td>    0.039</td> <td>   -1.076</td> <td> 0.283</td> <td>   -0.119</td> <td>    0.035</td>\n",
              "</tr>\n",
              "<tr>\n",
              "  <th>BloodPressure</th>            <td>    0.1283</td> <td>    0.063</td> <td>    2.040</td> <td> 0.042</td> <td>    0.005</td> <td>    0.252</td>\n",
              "</tr>\n",
              "<tr>\n",
              "  <th>SkinThickness</th>            <td>   -0.0293</td> <td>    0.050</td> <td>   -0.588</td> <td> 0.557</td> <td>   -0.127</td> <td>    0.069</td>\n",
              "</tr>\n",
              "<tr>\n",
              "  <th>Insulin</th>                  <td>    0.3911</td> <td>    0.041</td> <td>    9.555</td> <td> 0.000</td> <td>    0.311</td> <td>    0.472</td>\n",
              "</tr>\n",
              "<tr>\n",
              "  <th>BMI</th>                      <td>    0.0152</td> <td>    0.080</td> <td>    0.189</td> <td> 0.850</td> <td>   -0.143</td> <td>    0.173</td>\n",
              "</tr>\n",
              "<tr>\n",
              "  <th>DiabetesPedigreeFunction</th> <td>    0.0517</td> <td>    0.040</td> <td>    1.301</td> <td> 0.194</td> <td>   -0.026</td> <td>    0.130</td>\n",
              "</tr>\n",
              "<tr>\n",
              "  <th>Age</th>                      <td>    0.0902</td> <td>    0.046</td> <td>    1.948</td> <td> 0.052</td> <td>   -0.001</td> <td>    0.181</td>\n",
              "</tr>\n",
              "<tr>\n",
              "  <th>Outcome</th>                  <td>    0.1367</td> <td>    0.014</td> <td>    9.613</td> <td> 0.000</td> <td>    0.109</td> <td>    0.165</td>\n",
              "</tr>\n",
              "</table>\n",
              "<table class=\"simpletable\">\n",
              "<tr>\n",
              "  <th>Omnibus:</th>       <td> 8.341</td> <th>  Durbin-Watson:     </th> <td>   1.780</td>\n",
              "</tr>\n",
              "<tr>\n",
              "  <th>Prob(Omnibus):</th> <td> 0.015</td> <th>  Jarque-Bera (JB):  </th> <td>   8.232</td>\n",
              "</tr>\n",
              "<tr>\n",
              "  <th>Skew:</th>          <td> 0.331</td> <th>  Prob(JB):          </th> <td>  0.0163</td>\n",
              "</tr>\n",
              "<tr>\n",
              "  <th>Kurtosis:</th>      <td> 3.228</td> <th>  Cond. No.          </th> <td>    22.4</td>\n",
              "</tr>\n",
              "</table><br/><br/>Notes:<br/>[1] Standard Errors assume that the covariance matrix of the errors is correctly specified."
            ]
          },
          "metadata": {},
          "execution_count": 21
        }
      ]
    },
    {
      "cell_type": "markdown",
      "source": [
        "2º modelo: previsão dos dados faltantes de pressão sanguínea."
      ],
      "metadata": {
        "id": "fVOLuIdmlNNs"
      }
    },
    {
      "cell_type": "code",
      "source": [
        "modelblood_train = smf.ols(formula=\"BloodPressure ~ Pregnancies + Glucose + SkinThickness + Insulin + BMI + DiabetesPedigreeFunction + Age + Outcome\", data=df_regressao_train)\n",
        "\n",
        "resultblood_train = modelblood_train.fit()\n",
        "\n",
        "resultblood_train.summary()"
      ],
      "metadata": {
        "colab": {
          "base_uri": "https://localhost:8080/",
          "height": 601
        },
        "id": "reOGqup2lT92",
        "outputId": "d981b471-7073-4817-b0ec-5d5b13c00e2d"
      },
      "execution_count": null,
      "outputs": [
        {
          "output_type": "execute_result",
          "data": {
            "text/plain": [
              "<class 'statsmodels.iolib.summary.Summary'>\n",
              "\"\"\"\n",
              "                            OLS Regression Results                            \n",
              "==============================================================================\n",
              "Dep. Variable:          BloodPressure   R-squared:                       0.191\n",
              "Model:                            OLS   Adj. R-squared:                  0.174\n",
              "Method:                 Least Squares   F-statistic:                     11.61\n",
              "Date:                Mon, 19 Dec 2022   Prob (F-statistic):           7.61e-15\n",
              "Time:                        10:27:52   Log-Likelihood:                 394.10\n",
              "No. Observations:                 403   AIC:                            -770.2\n",
              "Df Residuals:                     394   BIC:                            -734.2\n",
              "Df Model:                           8                                         \n",
              "Covariance Type:            nonrobust                                         \n",
              "============================================================================================\n",
              "                               coef    std err          t      P>|t|      [0.025      0.975]\n",
              "--------------------------------------------------------------------------------------------\n",
              "Intercept                    0.3921      0.030     12.952      0.000       0.333       0.452\n",
              "Pregnancies                 -0.0126      0.031     -0.404      0.686      -0.074       0.049\n",
              "Glucose                      0.0814      0.040      2.040      0.042       0.003       0.160\n",
              "SkinThickness                0.0012      0.040      0.029      0.977      -0.077       0.079\n",
              "Insulin                     -0.0763      0.036     -2.120      0.035      -0.147      -0.006\n",
              "BMI                          0.2701      0.062      4.324      0.000       0.147       0.393\n",
              "DiabetesPedigreeFunction    -0.0290      0.032     -0.914      0.361      -0.091       0.033\n",
              "Age                          0.1785      0.036      4.967      0.000       0.108       0.249\n",
              "Outcome                     -0.0072      0.013     -0.575      0.566      -0.032       0.018\n",
              "==============================================================================\n",
              "Omnibus:                       27.375   Durbin-Watson:                   1.896\n",
              "Prob(Omnibus):                  0.000   Jarque-Bera (JB):               50.558\n",
              "Skew:                          -0.417   Prob(JB):                     1.05e-11\n",
              "Kurtosis:                       4.522   Cond. No.                         22.3\n",
              "==============================================================================\n",
              "\n",
              "Notes:\n",
              "[1] Standard Errors assume that the covariance matrix of the errors is correctly specified.\n",
              "\"\"\""
            ],
            "text/html": [
              "<table class=\"simpletable\">\n",
              "<caption>OLS Regression Results</caption>\n",
              "<tr>\n",
              "  <th>Dep. Variable:</th>      <td>BloodPressure</td>  <th>  R-squared:         </th> <td>   0.191</td>\n",
              "</tr>\n",
              "<tr>\n",
              "  <th>Model:</th>                   <td>OLS</td>       <th>  Adj. R-squared:    </th> <td>   0.174</td>\n",
              "</tr>\n",
              "<tr>\n",
              "  <th>Method:</th>             <td>Least Squares</td>  <th>  F-statistic:       </th> <td>   11.61</td>\n",
              "</tr>\n",
              "<tr>\n",
              "  <th>Date:</th>             <td>Mon, 19 Dec 2022</td> <th>  Prob (F-statistic):</th> <td>7.61e-15</td>\n",
              "</tr>\n",
              "<tr>\n",
              "  <th>Time:</th>                 <td>10:27:52</td>     <th>  Log-Likelihood:    </th> <td>  394.10</td>\n",
              "</tr>\n",
              "<tr>\n",
              "  <th>No. Observations:</th>      <td>   403</td>      <th>  AIC:               </th> <td>  -770.2</td>\n",
              "</tr>\n",
              "<tr>\n",
              "  <th>Df Residuals:</th>          <td>   394</td>      <th>  BIC:               </th> <td>  -734.2</td>\n",
              "</tr>\n",
              "<tr>\n",
              "  <th>Df Model:</th>              <td>     8</td>      <th>                     </th>     <td> </td>   \n",
              "</tr>\n",
              "<tr>\n",
              "  <th>Covariance Type:</th>      <td>nonrobust</td>    <th>                     </th>     <td> </td>   \n",
              "</tr>\n",
              "</table>\n",
              "<table class=\"simpletable\">\n",
              "<tr>\n",
              "              <td></td>                <th>coef</th>     <th>std err</th>      <th>t</th>      <th>P>|t|</th>  <th>[0.025</th>    <th>0.975]</th>  \n",
              "</tr>\n",
              "<tr>\n",
              "  <th>Intercept</th>                <td>    0.3921</td> <td>    0.030</td> <td>   12.952</td> <td> 0.000</td> <td>    0.333</td> <td>    0.452</td>\n",
              "</tr>\n",
              "<tr>\n",
              "  <th>Pregnancies</th>              <td>   -0.0126</td> <td>    0.031</td> <td>   -0.404</td> <td> 0.686</td> <td>   -0.074</td> <td>    0.049</td>\n",
              "</tr>\n",
              "<tr>\n",
              "  <th>Glucose</th>                  <td>    0.0814</td> <td>    0.040</td> <td>    2.040</td> <td> 0.042</td> <td>    0.003</td> <td>    0.160</td>\n",
              "</tr>\n",
              "<tr>\n",
              "  <th>SkinThickness</th>            <td>    0.0012</td> <td>    0.040</td> <td>    0.029</td> <td> 0.977</td> <td>   -0.077</td> <td>    0.079</td>\n",
              "</tr>\n",
              "<tr>\n",
              "  <th>Insulin</th>                  <td>   -0.0763</td> <td>    0.036</td> <td>   -2.120</td> <td> 0.035</td> <td>   -0.147</td> <td>   -0.006</td>\n",
              "</tr>\n",
              "<tr>\n",
              "  <th>BMI</th>                      <td>    0.2701</td> <td>    0.062</td> <td>    4.324</td> <td> 0.000</td> <td>    0.147</td> <td>    0.393</td>\n",
              "</tr>\n",
              "<tr>\n",
              "  <th>DiabetesPedigreeFunction</th> <td>   -0.0290</td> <td>    0.032</td> <td>   -0.914</td> <td> 0.361</td> <td>   -0.091</td> <td>    0.033</td>\n",
              "</tr>\n",
              "<tr>\n",
              "  <th>Age</th>                      <td>    0.1785</td> <td>    0.036</td> <td>    4.967</td> <td> 0.000</td> <td>    0.108</td> <td>    0.249</td>\n",
              "</tr>\n",
              "<tr>\n",
              "  <th>Outcome</th>                  <td>   -0.0072</td> <td>    0.013</td> <td>   -0.575</td> <td> 0.566</td> <td>   -0.032</td> <td>    0.018</td>\n",
              "</tr>\n",
              "</table>\n",
              "<table class=\"simpletable\">\n",
              "<tr>\n",
              "  <th>Omnibus:</th>       <td>27.375</td> <th>  Durbin-Watson:     </th> <td>   1.896</td>\n",
              "</tr>\n",
              "<tr>\n",
              "  <th>Prob(Omnibus):</th> <td> 0.000</td> <th>  Jarque-Bera (JB):  </th> <td>  50.558</td>\n",
              "</tr>\n",
              "<tr>\n",
              "  <th>Skew:</th>          <td>-0.417</td> <th>  Prob(JB):          </th> <td>1.05e-11</td>\n",
              "</tr>\n",
              "<tr>\n",
              "  <th>Kurtosis:</th>      <td> 4.522</td> <th>  Cond. No.          </th> <td>    22.3</td>\n",
              "</tr>\n",
              "</table><br/><br/>Notes:<br/>[1] Standard Errors assume that the covariance matrix of the errors is correctly specified."
            ]
          },
          "metadata": {},
          "execution_count": 22
        }
      ]
    },
    {
      "cell_type": "markdown",
      "source": [
        "3º modelo: previsão dos dados faltantes de espessura da pele."
      ],
      "metadata": {
        "id": "6sixl2lolTA2"
      }
    },
    {
      "cell_type": "code",
      "source": [
        "modelskin_train = smf.ols(formula=\"SkinThickness ~ Pregnancies + BloodPressure + Glucose + Insulin + BMI + DiabetesPedigreeFunction + Age + Outcome\", data=df_regressao_train)\n",
        "\n",
        "resultskin_train = modelskin_train.fit()\n",
        "\n",
        "resultskin_train.summary()"
      ],
      "metadata": {
        "colab": {
          "base_uri": "https://localhost:8080/",
          "height": 601
        },
        "id": "FeA8pFGhla9-",
        "outputId": "686d7601-ba65-41a2-8da1-41d6cc1c8425"
      },
      "execution_count": null,
      "outputs": [
        {
          "output_type": "execute_result",
          "data": {
            "text/plain": [
              "<class 'statsmodels.iolib.summary.Summary'>\n",
              "\"\"\"\n",
              "                            OLS Regression Results                            \n",
              "==============================================================================\n",
              "Dep. Variable:          SkinThickness   R-squared:                       0.467\n",
              "Model:                            OLS   Adj. R-squared:                  0.456\n",
              "Method:                 Least Squares   F-statistic:                     43.12\n",
              "Date:                Mon, 19 Dec 2022   Prob (F-statistic):           2.12e-49\n",
              "Time:                        10:27:52   Log-Likelihood:                 297.91\n",
              "No. Observations:                 403   AIC:                            -577.8\n",
              "Df Residuals:                     394   BIC:                            -541.8\n",
              "Df Model:                           8                                         \n",
              "Covariance Type:            nonrobust                                         \n",
              "============================================================================================\n",
              "                               coef    std err          t      P>|t|      [0.025      0.975]\n",
              "--------------------------------------------------------------------------------------------\n",
              "Intercept                   -0.0463      0.046     -1.009      0.313      -0.136       0.044\n",
              "Pregnancies                  0.0420      0.039      1.064      0.288      -0.036       0.120\n",
              "BloodPressure                0.0019      0.064      0.029      0.977      -0.124       0.128\n",
              "Glucose                     -0.0299      0.051     -0.588      0.557      -0.130       0.070\n",
              "Insulin                     -0.0091      0.046     -0.198      0.843      -0.099       0.081\n",
              "BMI                          1.0201      0.063     16.242      0.000       0.897       1.144\n",
              "DiabetesPedigreeFunction     0.0343      0.040      0.854      0.394      -0.045       0.113\n",
              "Age                          0.0409      0.047      0.871      0.384      -0.051       0.133\n",
              "Outcome                      0.0068      0.016      0.422      0.673      -0.025       0.038\n",
              "==============================================================================\n",
              "Omnibus:                        3.271   Durbin-Watson:                   1.982\n",
              "Prob(Omnibus):                  0.195   Jarque-Bera (JB):                3.285\n",
              "Skew:                           0.189   Prob(JB):                        0.193\n",
              "Kurtosis:                       2.769   Cond. No.                         19.0\n",
              "==============================================================================\n",
              "\n",
              "Notes:\n",
              "[1] Standard Errors assume that the covariance matrix of the errors is correctly specified.\n",
              "\"\"\""
            ],
            "text/html": [
              "<table class=\"simpletable\">\n",
              "<caption>OLS Regression Results</caption>\n",
              "<tr>\n",
              "  <th>Dep. Variable:</th>      <td>SkinThickness</td>  <th>  R-squared:         </th> <td>   0.467</td>\n",
              "</tr>\n",
              "<tr>\n",
              "  <th>Model:</th>                   <td>OLS</td>       <th>  Adj. R-squared:    </th> <td>   0.456</td>\n",
              "</tr>\n",
              "<tr>\n",
              "  <th>Method:</th>             <td>Least Squares</td>  <th>  F-statistic:       </th> <td>   43.12</td>\n",
              "</tr>\n",
              "<tr>\n",
              "  <th>Date:</th>             <td>Mon, 19 Dec 2022</td> <th>  Prob (F-statistic):</th> <td>2.12e-49</td>\n",
              "</tr>\n",
              "<tr>\n",
              "  <th>Time:</th>                 <td>10:27:52</td>     <th>  Log-Likelihood:    </th> <td>  297.91</td>\n",
              "</tr>\n",
              "<tr>\n",
              "  <th>No. Observations:</th>      <td>   403</td>      <th>  AIC:               </th> <td>  -577.8</td>\n",
              "</tr>\n",
              "<tr>\n",
              "  <th>Df Residuals:</th>          <td>   394</td>      <th>  BIC:               </th> <td>  -541.8</td>\n",
              "</tr>\n",
              "<tr>\n",
              "  <th>Df Model:</th>              <td>     8</td>      <th>                     </th>     <td> </td>   \n",
              "</tr>\n",
              "<tr>\n",
              "  <th>Covariance Type:</th>      <td>nonrobust</td>    <th>                     </th>     <td> </td>   \n",
              "</tr>\n",
              "</table>\n",
              "<table class=\"simpletable\">\n",
              "<tr>\n",
              "              <td></td>                <th>coef</th>     <th>std err</th>      <th>t</th>      <th>P>|t|</th>  <th>[0.025</th>    <th>0.975]</th>  \n",
              "</tr>\n",
              "<tr>\n",
              "  <th>Intercept</th>                <td>   -0.0463</td> <td>    0.046</td> <td>   -1.009</td> <td> 0.313</td> <td>   -0.136</td> <td>    0.044</td>\n",
              "</tr>\n",
              "<tr>\n",
              "  <th>Pregnancies</th>              <td>    0.0420</td> <td>    0.039</td> <td>    1.064</td> <td> 0.288</td> <td>   -0.036</td> <td>    0.120</td>\n",
              "</tr>\n",
              "<tr>\n",
              "  <th>BloodPressure</th>            <td>    0.0019</td> <td>    0.064</td> <td>    0.029</td> <td> 0.977</td> <td>   -0.124</td> <td>    0.128</td>\n",
              "</tr>\n",
              "<tr>\n",
              "  <th>Glucose</th>                  <td>   -0.0299</td> <td>    0.051</td> <td>   -0.588</td> <td> 0.557</td> <td>   -0.130</td> <td>    0.070</td>\n",
              "</tr>\n",
              "<tr>\n",
              "  <th>Insulin</th>                  <td>   -0.0091</td> <td>    0.046</td> <td>   -0.198</td> <td> 0.843</td> <td>   -0.099</td> <td>    0.081</td>\n",
              "</tr>\n",
              "<tr>\n",
              "  <th>BMI</th>                      <td>    1.0201</td> <td>    0.063</td> <td>   16.242</td> <td> 0.000</td> <td>    0.897</td> <td>    1.144</td>\n",
              "</tr>\n",
              "<tr>\n",
              "  <th>DiabetesPedigreeFunction</th> <td>    0.0343</td> <td>    0.040</td> <td>    0.854</td> <td> 0.394</td> <td>   -0.045</td> <td>    0.113</td>\n",
              "</tr>\n",
              "<tr>\n",
              "  <th>Age</th>                      <td>    0.0409</td> <td>    0.047</td> <td>    0.871</td> <td> 0.384</td> <td>   -0.051</td> <td>    0.133</td>\n",
              "</tr>\n",
              "<tr>\n",
              "  <th>Outcome</th>                  <td>    0.0068</td> <td>    0.016</td> <td>    0.422</td> <td> 0.673</td> <td>   -0.025</td> <td>    0.038</td>\n",
              "</tr>\n",
              "</table>\n",
              "<table class=\"simpletable\">\n",
              "<tr>\n",
              "  <th>Omnibus:</th>       <td> 3.271</td> <th>  Durbin-Watson:     </th> <td>   1.982</td>\n",
              "</tr>\n",
              "<tr>\n",
              "  <th>Prob(Omnibus):</th> <td> 0.195</td> <th>  Jarque-Bera (JB):  </th> <td>   3.285</td>\n",
              "</tr>\n",
              "<tr>\n",
              "  <th>Skew:</th>          <td> 0.189</td> <th>  Prob(JB):          </th> <td>   0.193</td>\n",
              "</tr>\n",
              "<tr>\n",
              "  <th>Kurtosis:</th>      <td> 2.769</td> <th>  Cond. No.          </th> <td>    19.0</td>\n",
              "</tr>\n",
              "</table><br/><br/>Notes:<br/>[1] Standard Errors assume that the covariance matrix of the errors is correctly specified."
            ]
          },
          "metadata": {},
          "execution_count": 23
        }
      ]
    },
    {
      "cell_type": "markdown",
      "source": [
        "4º modelo: previsão dos dados faltantes de índice de massa corporal (BMI)."
      ],
      "metadata": {
        "id": "IDliI-2GldLn"
      }
    },
    {
      "cell_type": "code",
      "source": [
        "modelbmi_train = smf.ols(formula=\"BMI ~ Pregnancies + BloodPressure + SkinThickness + Insulin + Glucose + DiabetesPedigreeFunction + Age + Outcome\", data=df_regressao_train)\n",
        "\n",
        "resultbmi_train = modelbmi_train.fit()\n",
        "\n",
        "resultbmi_train.summary()"
      ],
      "metadata": {
        "colab": {
          "base_uri": "https://localhost:8080/",
          "height": 601
        },
        "id": "dBGdJUJAlf8D",
        "outputId": "675d3969-38f8-4f59-9e9b-8682cac688fd"
      },
      "execution_count": null,
      "outputs": [
        {
          "output_type": "execute_result",
          "data": {
            "text/plain": [
              "<class 'statsmodels.iolib.summary.Summary'>\n",
              "\"\"\"\n",
              "                            OLS Regression Results                            \n",
              "==============================================================================\n",
              "Dep. Variable:                    BMI   R-squared:                       0.518\n",
              "Model:                            OLS   Adj. R-squared:                  0.508\n",
              "Method:                 Least Squares   F-statistic:                     52.97\n",
              "Date:                Mon, 19 Dec 2022   Prob (F-statistic):           6.24e-58\n",
              "Time:                        10:27:52   Log-Likelihood:                 490.02\n",
              "No. Observations:                 403   AIC:                            -962.0\n",
              "Df Residuals:                     394   BIC:                            -926.0\n",
              "Df Model:                           8                                         \n",
              "Covariance Type:            nonrobust                                         \n",
              "============================================================================================\n",
              "                               coef    std err          t      P>|t|      [0.025      0.975]\n",
              "--------------------------------------------------------------------------------------------\n",
              "Intercept                    0.1962      0.027      7.344      0.000       0.144       0.249\n",
              "Pregnancies                 -0.0194      0.025     -0.789      0.431      -0.068       0.029\n",
              "BloodPressure                0.1678      0.039      4.324      0.000       0.091       0.244\n",
              "SkinThickness                0.3932      0.024     16.242      0.000       0.346       0.441\n",
              "Insulin                      0.0568      0.028      2.002      0.046       0.001       0.113\n",
              "Glucose                      0.0060      0.032      0.189      0.850      -0.056       0.068\n",
              "DiabetesPedigreeFunction     0.0222      0.025      0.889      0.375      -0.027       0.071\n",
              "Age                         -0.0543      0.029     -1.869      0.062      -0.111       0.003\n",
              "Outcome                      0.0340      0.010      3.482      0.001       0.015       0.053\n",
              "==============================================================================\n",
              "Omnibus:                       29.049   Durbin-Watson:                   1.995\n",
              "Prob(Omnibus):                  0.000   Jarque-Bera (JB):               38.912\n",
              "Skew:                           0.559   Prob(JB):                     3.55e-09\n",
              "Kurtosis:                       4.032   Cond. No.                         18.5\n",
              "==============================================================================\n",
              "\n",
              "Notes:\n",
              "[1] Standard Errors assume that the covariance matrix of the errors is correctly specified.\n",
              "\"\"\""
            ],
            "text/html": [
              "<table class=\"simpletable\">\n",
              "<caption>OLS Regression Results</caption>\n",
              "<tr>\n",
              "  <th>Dep. Variable:</th>           <td>BMI</td>       <th>  R-squared:         </th> <td>   0.518</td>\n",
              "</tr>\n",
              "<tr>\n",
              "  <th>Model:</th>                   <td>OLS</td>       <th>  Adj. R-squared:    </th> <td>   0.508</td>\n",
              "</tr>\n",
              "<tr>\n",
              "  <th>Method:</th>             <td>Least Squares</td>  <th>  F-statistic:       </th> <td>   52.97</td>\n",
              "</tr>\n",
              "<tr>\n",
              "  <th>Date:</th>             <td>Mon, 19 Dec 2022</td> <th>  Prob (F-statistic):</th> <td>6.24e-58</td>\n",
              "</tr>\n",
              "<tr>\n",
              "  <th>Time:</th>                 <td>10:27:52</td>     <th>  Log-Likelihood:    </th> <td>  490.02</td>\n",
              "</tr>\n",
              "<tr>\n",
              "  <th>No. Observations:</th>      <td>   403</td>      <th>  AIC:               </th> <td>  -962.0</td>\n",
              "</tr>\n",
              "<tr>\n",
              "  <th>Df Residuals:</th>          <td>   394</td>      <th>  BIC:               </th> <td>  -926.0</td>\n",
              "</tr>\n",
              "<tr>\n",
              "  <th>Df Model:</th>              <td>     8</td>      <th>                     </th>     <td> </td>   \n",
              "</tr>\n",
              "<tr>\n",
              "  <th>Covariance Type:</th>      <td>nonrobust</td>    <th>                     </th>     <td> </td>   \n",
              "</tr>\n",
              "</table>\n",
              "<table class=\"simpletable\">\n",
              "<tr>\n",
              "              <td></td>                <th>coef</th>     <th>std err</th>      <th>t</th>      <th>P>|t|</th>  <th>[0.025</th>    <th>0.975]</th>  \n",
              "</tr>\n",
              "<tr>\n",
              "  <th>Intercept</th>                <td>    0.1962</td> <td>    0.027</td> <td>    7.344</td> <td> 0.000</td> <td>    0.144</td> <td>    0.249</td>\n",
              "</tr>\n",
              "<tr>\n",
              "  <th>Pregnancies</th>              <td>   -0.0194</td> <td>    0.025</td> <td>   -0.789</td> <td> 0.431</td> <td>   -0.068</td> <td>    0.029</td>\n",
              "</tr>\n",
              "<tr>\n",
              "  <th>BloodPressure</th>            <td>    0.1678</td> <td>    0.039</td> <td>    4.324</td> <td> 0.000</td> <td>    0.091</td> <td>    0.244</td>\n",
              "</tr>\n",
              "<tr>\n",
              "  <th>SkinThickness</th>            <td>    0.3932</td> <td>    0.024</td> <td>   16.242</td> <td> 0.000</td> <td>    0.346</td> <td>    0.441</td>\n",
              "</tr>\n",
              "<tr>\n",
              "  <th>Insulin</th>                  <td>    0.0568</td> <td>    0.028</td> <td>    2.002</td> <td> 0.046</td> <td>    0.001</td> <td>    0.113</td>\n",
              "</tr>\n",
              "<tr>\n",
              "  <th>Glucose</th>                  <td>    0.0060</td> <td>    0.032</td> <td>    0.189</td> <td> 0.850</td> <td>   -0.056</td> <td>    0.068</td>\n",
              "</tr>\n",
              "<tr>\n",
              "  <th>DiabetesPedigreeFunction</th> <td>    0.0222</td> <td>    0.025</td> <td>    0.889</td> <td> 0.375</td> <td>   -0.027</td> <td>    0.071</td>\n",
              "</tr>\n",
              "<tr>\n",
              "  <th>Age</th>                      <td>   -0.0543</td> <td>    0.029</td> <td>   -1.869</td> <td> 0.062</td> <td>   -0.111</td> <td>    0.003</td>\n",
              "</tr>\n",
              "<tr>\n",
              "  <th>Outcome</th>                  <td>    0.0340</td> <td>    0.010</td> <td>    3.482</td> <td> 0.001</td> <td>    0.015</td> <td>    0.053</td>\n",
              "</tr>\n",
              "</table>\n",
              "<table class=\"simpletable\">\n",
              "<tr>\n",
              "  <th>Omnibus:</th>       <td>29.049</td> <th>  Durbin-Watson:     </th> <td>   1.995</td>\n",
              "</tr>\n",
              "<tr>\n",
              "  <th>Prob(Omnibus):</th> <td> 0.000</td> <th>  Jarque-Bera (JB):  </th> <td>  38.912</td>\n",
              "</tr>\n",
              "<tr>\n",
              "  <th>Skew:</th>          <td> 0.559</td> <th>  Prob(JB):          </th> <td>3.55e-09</td>\n",
              "</tr>\n",
              "<tr>\n",
              "  <th>Kurtosis:</th>      <td> 4.032</td> <th>  Cond. No.          </th> <td>    18.5</td>\n",
              "</tr>\n",
              "</table><br/><br/>Notes:<br/>[1] Standard Errors assume that the covariance matrix of the errors is correctly specified."
            ]
          },
          "metadata": {},
          "execution_count": 24
        }
      ]
    },
    {
      "cell_type": "markdown",
      "source": [
        "Agora que já temos modelos de regressão linear múltipla para prever glicose, pressão sanguínea, espessura da pele e BMI, usaremos a função predict do statsmodels para substituir os valores iguais a zero por um valor ajustado por cada um dos quatro modelos."
      ],
      "metadata": {
        "id": "GRmkp86Klj3N"
      }
    },
    {
      "cell_type": "code",
      "source": [
        "train_norm['Glucose'] = train_norm['Glucose'].replace(0, np.nan)\n",
        "train_norm['BloodPressure'] = train_norm['BloodPressure'].replace(0, np.nan)\n",
        "train_norm['SkinThickness'] = train_norm['SkinThickness'].replace(0, np.nan)\n",
        "train_norm['BMI'] = train_norm['BMI'].replace(0, np.nan)"
      ],
      "metadata": {
        "id": "JzlGJEIqllfN"
      },
      "execution_count": null,
      "outputs": []
    },
    {
      "cell_type": "code",
      "source": [
        "#aplicando o modelo de regressão linear para prever os valores faltantes de glicose\n",
        "train_norm.loc[train_norm.Glucose.isna() ,'Glucose'] = resultglucose_train.predict(train_norm.loc[train_norm.Glucose.isna() ,train_norm.columns])\n",
        "\n",
        "#aplicando o modelo de regressão linear para prever os valores faltantes de pressão sanguínear\n",
        "train_norm.loc[train_norm.BloodPressure.isna() ,'BloodPressure'] = resultblood_train.predict(train_norm.loc[train_norm.BloodPressure.isna() ,train_norm.columns])\n",
        "\n",
        "#aplicando o modelo de regressão linear para prever os valores faltantes de espessura da pele\n",
        "train_norm.loc[train_norm.SkinThickness.isna() ,'SkinThickness'] = resultskin_train.predict(train_norm.loc[train_norm.SkinThickness.isna() ,train_norm.columns])\n",
        "\n",
        "#aplicando o modelo de regressão linear para prever os valores faltantes de BMI\n",
        "train_norm.loc[train_norm.BMI.isna() ,'BMI'] = resultbmi_train.predict(train_norm.loc[train_norm.BMI.isna() ,train_norm.columns])"
      ],
      "metadata": {
        "id": "Cwn2g3B0lqlH"
      },
      "execution_count": null,
      "outputs": []
    },
    {
      "cell_type": "markdown",
      "source": [
        "Após a substituição com os valores ajustados, conferimos quantos zeros ainda restam nas variáveis glicose, pressão sanguínea, espessura da pele e BMI no conjunto de treinamento:"
      ],
      "metadata": {
        "id": "STaAVmiblvgb"
      }
    },
    {
      "cell_type": "code",
      "source": [
        "train_norm = train_norm.fillna(0)"
      ],
      "metadata": {
        "id": "FXA5Xafnl5xL"
      },
      "execution_count": null,
      "outputs": []
    },
    {
      "cell_type": "code",
      "source": [
        "a = train_norm.Glucose.tolist()\n",
        "b = train_norm.BloodPressure.tolist()\n",
        "c = train_norm.SkinThickness.tolist()\n",
        "d = train_norm.BMI.tolist()\n",
        "\n",
        "print(\"Número de zeros de Glucose: \",a.count(0))\n",
        "print(\"Número de zeros de BloodPressure: \",b.count(0))\n",
        "print(\"Número de zeros de SkinThickness: \",c.count(0))\n",
        "print(\"Número de zeros de BMI: \",d.count(0))"
      ],
      "metadata": {
        "colab": {
          "base_uri": "https://localhost:8080/"
        },
        "id": "h-LD6tLkl8tV",
        "outputId": "92f59d18-9da0-4d22-ddbb-449d4855a733"
      },
      "execution_count": null,
      "outputs": [
        {
          "output_type": "stream",
          "name": "stdout",
          "text": [
            "Número de zeros de Glucose:  0\n",
            "Número de zeros de BloodPressure:  20\n",
            "Número de zeros de SkinThickness:  22\n",
            "Número de zeros de BMI:  4\n"
          ]
        }
      ]
    },
    {
      "cell_type": "markdown",
      "source": [
        "Observamos que ainda restam dados faltantes para as variáveis BloodPressure, SkinThickness e BMI. Isto acontece porque algumas das instâncias têm mais de uma variável a ser completada pelos modelos de regressão linear e, desta forma, não é possível completar todos os dados faltantes.\n",
        "\n",
        "Sendo assim, estes últimos valores serão completados usando a média da respectiva variável para cada uma das duas classes de Outcome."
      ],
      "metadata": {
        "id": "7YI6kbq-mCfl"
      }
    },
    {
      "cell_type": "code",
      "source": [
        "df1 = train_norm[train_norm['Outcome'] == 0][['BloodPressure',\t'SkinThickness', 'BMI']]\n",
        "df2 = train_norm[train_norm['Outcome'] == 1][['BloodPressure',\t'SkinThickness', 'BMI']]\n",
        "\n",
        "df1 = df1.replace(0, np.nan)\n",
        "df2 = df2.replace(0, np.nan)"
      ],
      "metadata": {
        "id": "mUJBEm7ZmDPH"
      },
      "execution_count": null,
      "outputs": []
    },
    {
      "cell_type": "code",
      "source": [
        "X = np.array(df1[df1.columns[0:train_norm.shape[1]-1]], dtype = float) \n",
        "\n",
        "media0 = np.nanmean(X, axis = 0)\n",
        "\n",
        "print(\"Variáveis: BloodPressure, SkinThickness, BMI\")\n",
        "print(\"Médias: \",media0)"
      ],
      "metadata": {
        "colab": {
          "base_uri": "https://localhost:8080/"
        },
        "id": "DacGoqhomIg3",
        "outputId": "fbf645b2-dc56-439a-b923-3ca5ac45e2f1"
      },
      "execution_count": null,
      "outputs": [
        {
          "output_type": "stream",
          "name": "stdout",
          "text": [
            "Variáveis: BloodPressure, SkinThickness, BMI\n",
            "Médias:  [0.57984818 0.42482424 0.45667458]\n"
          ]
        }
      ]
    },
    {
      "cell_type": "code",
      "source": [
        "X = np.array(df2[df2.columns[0:train_norm.shape[1]-1]], dtype = float) \n",
        "\n",
        "media1 = np.nanmean(X, axis = 0)\n",
        "\n",
        "print(\"Variáveis: BloodPressure, SkinThickness, BMI\")\n",
        "print(\"Médias: \",media1)"
      ],
      "metadata": {
        "colab": {
          "base_uri": "https://localhost:8080/"
        },
        "id": "lYJ7sORwmKuw",
        "outputId": "f03d6fc1-bd05-4dfb-8931-2bdd09d3a2da"
      },
      "execution_count": null,
      "outputs": [
        {
          "output_type": "stream",
          "name": "stdout",
          "text": [
            "Variáveis: BloodPressure, SkinThickness, BMI\n",
            "Médias:  [0.6162768  0.50722469 0.52851164]\n"
          ]
        }
      ]
    },
    {
      "cell_type": "code",
      "source": [
        "train_norm_final = train_norm.copy()"
      ],
      "metadata": {
        "id": "eLbaIgrZmP86"
      },
      "execution_count": null,
      "outputs": []
    },
    {
      "cell_type": "code",
      "source": [
        "train_norm_final.loc[(train_norm_final.Outcome == 0) & (train_norm_final.BloodPressure == 0),\"BloodPressure\"] = media0[0]\n",
        "train_norm_final.loc[(train_norm_final.Outcome == 1) & (train_norm_final.BloodPressure == 0),\"BloodPressure\"] = media1[0]\n",
        "\n",
        "train_norm_final.loc[(train_norm_final.Outcome == 0) & (train_norm_final.SkinThickness == 0) ,\"SkinThickness\"] = media0[1]\n",
        "train_norm_final.loc[(train_norm_final.Outcome == 1) & (train_norm_final.SkinThickness == 0) ,\"SkinThickness\"] = media1[1]\n",
        "\n",
        "train_norm_final.loc[(train_norm_final.Outcome == 0) & (train_norm_final.BMI == 0) ,\"BMI\"] = media0[2]\n",
        "train_norm_final.loc[(train_norm_final.Outcome == 1) & (train_norm_final.BMI == 0) ,\"BMI\"] = media1[2]"
      ],
      "metadata": {
        "id": "Al4mnnKCmQjo"
      },
      "execution_count": null,
      "outputs": []
    },
    {
      "cell_type": "code",
      "source": [
        "print(\"Conjunto de treino normalizado e com dados faltantes corrigidos\")\n",
        "train_norm_final.head(10)"
      ],
      "metadata": {
        "colab": {
          "base_uri": "https://localhost:8080/",
          "height": 380
        },
        "id": "flXuihGUmVAy",
        "outputId": "013350df-f9c3-494d-cd52-36ab18f2c3ff"
      },
      "execution_count": null,
      "outputs": [
        {
          "output_type": "stream",
          "name": "stdout",
          "text": [
            "Conjunto de treino normalizado e com dados faltantes corrigidos\n"
          ]
        },
        {
          "output_type": "execute_result",
          "data": {
            "text/plain": [
              "   Pregnancies   Glucose  BloodPressure  SkinThickness   Insulin       BMI  \\\n",
              "0     0.764706  0.648241       0.651492       0.476190  0.000000  0.594635   \n",
              "1     0.235294  0.648241       0.704918       0.317460  0.319149  0.523100   \n",
              "2     0.176471  0.306533       0.672131       0.444444  0.000000  0.512668   \n",
              "3     0.117647  0.407035       0.590164       0.238095  0.089835  0.448584   \n",
              "4     0.000000  0.512563       0.614754       0.365079  0.000000  0.450643   \n",
              "5     0.176471  0.497487       0.442623       0.301587  0.101655  0.381520   \n",
              "6     0.000000  0.537688       0.508197       0.476190  0.087470  0.545455   \n",
              "7     0.176471  0.854271       0.524590       0.587302  0.265957  0.514158   \n",
              "8     0.647059  0.427136       0.606557       0.439668  0.000000  0.448584   \n",
              "9     0.000000  0.512563       0.639344       0.634921  0.106383  0.514158   \n",
              "\n",
              "   DiabetesPedigreeFunction       Age  Outcome  \n",
              "0                  0.209650  0.383333      1.0  \n",
              "1                  0.065329  0.033333      0.0  \n",
              "2                  0.070453  0.416667      0.0  \n",
              "3                  0.200256  0.066667      0.0  \n",
              "4                  0.210931  0.000000      0.0  \n",
              "5                  0.032451  0.050000      0.0  \n",
              "6                  0.289923  0.066667      1.0  \n",
              "7                  0.118702  0.150000      1.0  \n",
              "8                  0.094791  0.233333      0.0  \n",
              "9                  0.068318  0.050000      0.0  "
            ],
            "text/html": [
              "\n",
              "  <div id=\"df-d4062e25-1906-4894-909b-e794200919ae\">\n",
              "    <div class=\"colab-df-container\">\n",
              "      <div>\n",
              "<style scoped>\n",
              "    .dataframe tbody tr th:only-of-type {\n",
              "        vertical-align: middle;\n",
              "    }\n",
              "\n",
              "    .dataframe tbody tr th {\n",
              "        vertical-align: top;\n",
              "    }\n",
              "\n",
              "    .dataframe thead th {\n",
              "        text-align: right;\n",
              "    }\n",
              "</style>\n",
              "<table border=\"1\" class=\"dataframe\">\n",
              "  <thead>\n",
              "    <tr style=\"text-align: right;\">\n",
              "      <th></th>\n",
              "      <th>Pregnancies</th>\n",
              "      <th>Glucose</th>\n",
              "      <th>BloodPressure</th>\n",
              "      <th>SkinThickness</th>\n",
              "      <th>Insulin</th>\n",
              "      <th>BMI</th>\n",
              "      <th>DiabetesPedigreeFunction</th>\n",
              "      <th>Age</th>\n",
              "      <th>Outcome</th>\n",
              "    </tr>\n",
              "  </thead>\n",
              "  <tbody>\n",
              "    <tr>\n",
              "      <th>0</th>\n",
              "      <td>0.764706</td>\n",
              "      <td>0.648241</td>\n",
              "      <td>0.651492</td>\n",
              "      <td>0.476190</td>\n",
              "      <td>0.000000</td>\n",
              "      <td>0.594635</td>\n",
              "      <td>0.209650</td>\n",
              "      <td>0.383333</td>\n",
              "      <td>1.0</td>\n",
              "    </tr>\n",
              "    <tr>\n",
              "      <th>1</th>\n",
              "      <td>0.235294</td>\n",
              "      <td>0.648241</td>\n",
              "      <td>0.704918</td>\n",
              "      <td>0.317460</td>\n",
              "      <td>0.319149</td>\n",
              "      <td>0.523100</td>\n",
              "      <td>0.065329</td>\n",
              "      <td>0.033333</td>\n",
              "      <td>0.0</td>\n",
              "    </tr>\n",
              "    <tr>\n",
              "      <th>2</th>\n",
              "      <td>0.176471</td>\n",
              "      <td>0.306533</td>\n",
              "      <td>0.672131</td>\n",
              "      <td>0.444444</td>\n",
              "      <td>0.000000</td>\n",
              "      <td>0.512668</td>\n",
              "      <td>0.070453</td>\n",
              "      <td>0.416667</td>\n",
              "      <td>0.0</td>\n",
              "    </tr>\n",
              "    <tr>\n",
              "      <th>3</th>\n",
              "      <td>0.117647</td>\n",
              "      <td>0.407035</td>\n",
              "      <td>0.590164</td>\n",
              "      <td>0.238095</td>\n",
              "      <td>0.089835</td>\n",
              "      <td>0.448584</td>\n",
              "      <td>0.200256</td>\n",
              "      <td>0.066667</td>\n",
              "      <td>0.0</td>\n",
              "    </tr>\n",
              "    <tr>\n",
              "      <th>4</th>\n",
              "      <td>0.000000</td>\n",
              "      <td>0.512563</td>\n",
              "      <td>0.614754</td>\n",
              "      <td>0.365079</td>\n",
              "      <td>0.000000</td>\n",
              "      <td>0.450643</td>\n",
              "      <td>0.210931</td>\n",
              "      <td>0.000000</td>\n",
              "      <td>0.0</td>\n",
              "    </tr>\n",
              "    <tr>\n",
              "      <th>5</th>\n",
              "      <td>0.176471</td>\n",
              "      <td>0.497487</td>\n",
              "      <td>0.442623</td>\n",
              "      <td>0.301587</td>\n",
              "      <td>0.101655</td>\n",
              "      <td>0.381520</td>\n",
              "      <td>0.032451</td>\n",
              "      <td>0.050000</td>\n",
              "      <td>0.0</td>\n",
              "    </tr>\n",
              "    <tr>\n",
              "      <th>6</th>\n",
              "      <td>0.000000</td>\n",
              "      <td>0.537688</td>\n",
              "      <td>0.508197</td>\n",
              "      <td>0.476190</td>\n",
              "      <td>0.087470</td>\n",
              "      <td>0.545455</td>\n",
              "      <td>0.289923</td>\n",
              "      <td>0.066667</td>\n",
              "      <td>1.0</td>\n",
              "    </tr>\n",
              "    <tr>\n",
              "      <th>7</th>\n",
              "      <td>0.176471</td>\n",
              "      <td>0.854271</td>\n",
              "      <td>0.524590</td>\n",
              "      <td>0.587302</td>\n",
              "      <td>0.265957</td>\n",
              "      <td>0.514158</td>\n",
              "      <td>0.118702</td>\n",
              "      <td>0.150000</td>\n",
              "      <td>1.0</td>\n",
              "    </tr>\n",
              "    <tr>\n",
              "      <th>8</th>\n",
              "      <td>0.647059</td>\n",
              "      <td>0.427136</td>\n",
              "      <td>0.606557</td>\n",
              "      <td>0.439668</td>\n",
              "      <td>0.000000</td>\n",
              "      <td>0.448584</td>\n",
              "      <td>0.094791</td>\n",
              "      <td>0.233333</td>\n",
              "      <td>0.0</td>\n",
              "    </tr>\n",
              "    <tr>\n",
              "      <th>9</th>\n",
              "      <td>0.000000</td>\n",
              "      <td>0.512563</td>\n",
              "      <td>0.639344</td>\n",
              "      <td>0.634921</td>\n",
              "      <td>0.106383</td>\n",
              "      <td>0.514158</td>\n",
              "      <td>0.068318</td>\n",
              "      <td>0.050000</td>\n",
              "      <td>0.0</td>\n",
              "    </tr>\n",
              "  </tbody>\n",
              "</table>\n",
              "</div>\n",
              "      <button class=\"colab-df-convert\" onclick=\"convertToInteractive('df-d4062e25-1906-4894-909b-e794200919ae')\"\n",
              "              title=\"Convert this dataframe to an interactive table.\"\n",
              "              style=\"display:none;\">\n",
              "        \n",
              "  <svg xmlns=\"http://www.w3.org/2000/svg\" height=\"24px\"viewBox=\"0 0 24 24\"\n",
              "       width=\"24px\">\n",
              "    <path d=\"M0 0h24v24H0V0z\" fill=\"none\"/>\n",
              "    <path d=\"M18.56 5.44l.94 2.06.94-2.06 2.06-.94-2.06-.94-.94-2.06-.94 2.06-2.06.94zm-11 1L8.5 8.5l.94-2.06 2.06-.94-2.06-.94L8.5 2.5l-.94 2.06-2.06.94zm10 10l.94 2.06.94-2.06 2.06-.94-2.06-.94-.94-2.06-.94 2.06-2.06.94z\"/><path d=\"M17.41 7.96l-1.37-1.37c-.4-.4-.92-.59-1.43-.59-.52 0-1.04.2-1.43.59L10.3 9.45l-7.72 7.72c-.78.78-.78 2.05 0 2.83L4 21.41c.39.39.9.59 1.41.59.51 0 1.02-.2 1.41-.59l7.78-7.78 2.81-2.81c.8-.78.8-2.07 0-2.86zM5.41 20L4 18.59l7.72-7.72 1.47 1.35L5.41 20z\"/>\n",
              "  </svg>\n",
              "      </button>\n",
              "      \n",
              "  <style>\n",
              "    .colab-df-container {\n",
              "      display:flex;\n",
              "      flex-wrap:wrap;\n",
              "      gap: 12px;\n",
              "    }\n",
              "\n",
              "    .colab-df-convert {\n",
              "      background-color: #E8F0FE;\n",
              "      border: none;\n",
              "      border-radius: 50%;\n",
              "      cursor: pointer;\n",
              "      display: none;\n",
              "      fill: #1967D2;\n",
              "      height: 32px;\n",
              "      padding: 0 0 0 0;\n",
              "      width: 32px;\n",
              "    }\n",
              "\n",
              "    .colab-df-convert:hover {\n",
              "      background-color: #E2EBFA;\n",
              "      box-shadow: 0px 1px 2px rgba(60, 64, 67, 0.3), 0px 1px 3px 1px rgba(60, 64, 67, 0.15);\n",
              "      fill: #174EA6;\n",
              "    }\n",
              "\n",
              "    [theme=dark] .colab-df-convert {\n",
              "      background-color: #3B4455;\n",
              "      fill: #D2E3FC;\n",
              "    }\n",
              "\n",
              "    [theme=dark] .colab-df-convert:hover {\n",
              "      background-color: #434B5C;\n",
              "      box-shadow: 0px 1px 3px 1px rgba(0, 0, 0, 0.15);\n",
              "      filter: drop-shadow(0px 1px 2px rgba(0, 0, 0, 0.3));\n",
              "      fill: #FFFFFF;\n",
              "    }\n",
              "  </style>\n",
              "\n",
              "      <script>\n",
              "        const buttonEl =\n",
              "          document.querySelector('#df-d4062e25-1906-4894-909b-e794200919ae button.colab-df-convert');\n",
              "        buttonEl.style.display =\n",
              "          google.colab.kernel.accessAllowed ? 'block' : 'none';\n",
              "\n",
              "        async function convertToInteractive(key) {\n",
              "          const element = document.querySelector('#df-d4062e25-1906-4894-909b-e794200919ae');\n",
              "          const dataTable =\n",
              "            await google.colab.kernel.invokeFunction('convertToInteractive',\n",
              "                                                     [key], {});\n",
              "          if (!dataTable) return;\n",
              "\n",
              "          const docLinkHtml = 'Like what you see? Visit the ' +\n",
              "            '<a target=\"_blank\" href=https://colab.research.google.com/notebooks/data_table.ipynb>data table notebook</a>'\n",
              "            + ' to learn more about interactive tables.';\n",
              "          element.innerHTML = '';\n",
              "          dataTable['output_type'] = 'display_data';\n",
              "          await google.colab.output.renderOutput(dataTable, element);\n",
              "          const docLink = document.createElement('div');\n",
              "          docLink.innerHTML = docLinkHtml;\n",
              "          element.appendChild(docLink);\n",
              "        }\n",
              "      </script>\n",
              "    </div>\n",
              "  </div>\n",
              "  "
            ]
          },
          "metadata": {},
          "execution_count": 34
        }
      ]
    },
    {
      "cell_type": "markdown",
      "source": [
        "### **3.2) Preenchimento de valores faltantes para o conjunto de teste**"
      ],
      "metadata": {
        "id": "J1hbfnBXRAGV"
      }
    },
    {
      "cell_type": "markdown",
      "source": [
        "Para corrigir os dados faltantes no conjunto de treino repetimos o mesmo procedimento realizado na seção 3.1, apenas com a diferença de que não faltam dados da variável glicose para este conjunto."
      ],
      "metadata": {
        "id": "PxwlKz2CnygT"
      }
    },
    {
      "cell_type": "markdown",
      "source": [
        "Normalização dos dados:"
      ],
      "metadata": {
        "id": "qRUv5qW4omwa"
      }
    },
    {
      "cell_type": "code",
      "source": [
        "pregnancies = np.array(test_original[test_original.columns[0]])\n",
        "pregnancies_norm = scaler.fit_transform(pregnancies.reshape(-1,1))\n",
        "\n",
        "glucose = np.array(test_original[test_original.columns[1]])\n",
        "glucose_norm = scaler.fit_transform(glucose.reshape(-1,1))\n",
        "\n",
        "bloodpressure = np.array(test_original[test_original.columns[2]])\n",
        "bloodpressure_norm = scaler.fit_transform(bloodpressure.reshape(-1,1))\n",
        "\n",
        "skinthickness = np.array(test_original[test_original.columns[3]])\n",
        "skinthickness_norm = scaler.fit_transform(skinthickness.reshape(-1,1))\n",
        "\n",
        "insulin = np.array(test_original[test_original.columns[4]])\n",
        "insulin_norm = scaler.fit_transform(insulin.reshape(-1,1))\n",
        "\n",
        "bmi = np.array(test_original[test_original.columns[5]])\n",
        "bmi_norm = scaler.fit_transform(bmi.reshape(-1,1))\n",
        "\n",
        "diabetesfunction = np.array(test_original[test_original.columns[6]])\n",
        "diabetesfunction_norm = scaler.fit_transform(diabetesfunction.reshape(-1,1))\n",
        "\n",
        "age = np.array(test_original[test_original.columns[7]])\n",
        "age_norm = scaler.fit_transform(age.reshape(-1,1))"
      ],
      "metadata": {
        "id": "-LmIEfyRRNng"
      },
      "execution_count": null,
      "outputs": []
    },
    {
      "cell_type": "code",
      "source": [
        "test_norm = test_original.copy()\n",
        "\n",
        "for i in range(test_original.shape[0]):\n",
        "  test_norm.loc[i,'Pregnancies'] = pregnancies_norm[i]\n",
        "  test_norm.loc[i,'Glucose'] = glucose_norm[i]\n",
        "  test_norm.loc[i,'BloodPressure'] = bloodpressure_norm[i]\n",
        "  test_norm.loc[i,'SkinThickness'] = skinthickness_norm[i]\n",
        "  test_norm.loc[i,'Insulin'] = insulin_norm[i]  \n",
        "  test_norm.loc[i,'BMI'] = bmi_norm[i]  \n",
        "  test_norm.loc[i,'DiabetesPedigreeFunction'] = diabetesfunction_norm[i]  \n",
        "  test_norm.loc[i,'Age'] = age_norm[i]  \n",
        "\n",
        "print(\"Dataframe do conjunto de teste normalizado\")\n",
        "test_norm.head(10)"
      ],
      "metadata": {
        "colab": {
          "base_uri": "https://localhost:8080/",
          "height": 380
        },
        "id": "nZQzrOwnpCvc",
        "outputId": "25c7058d-8625-4115-a90c-86364da4acbd"
      },
      "execution_count": null,
      "outputs": [
        {
          "output_type": "stream",
          "name": "stdout",
          "text": [
            "Dataframe do conjunto de teste normalizado\n"
          ]
        },
        {
          "output_type": "execute_result",
          "data": {
            "text/plain": [
              "   Pregnancies   Glucose  BloodPressure  SkinThickness   Insulin       BMI  \\\n",
              "0     0.461538  0.266667       0.508772       0.333333  0.328152  0.593368   \n",
              "1     0.153846  0.370370       0.657895       0.323232  0.000000  0.623037   \n",
              "2     0.153846  0.340741       0.561404       0.000000  0.000000  0.537522   \n",
              "3     0.615385  0.333333       0.701754       0.000000  0.000000  0.429319   \n",
              "4     0.538462  0.548148       0.789474       0.000000  0.000000  0.521815   \n",
              "5     0.461538  0.303704       0.631579       0.323232  0.328152  0.657941   \n",
              "6     0.076923  0.066667       0.421053       0.181818  0.131261  0.356021   \n",
              "7     0.000000  0.407407       0.000000       0.000000  0.000000  0.589878   \n",
              "8     0.307692  0.681481       0.631579       0.292929  0.217617  0.546248   \n",
              "9     0.384615  0.629630       0.684211       0.000000  0.000000  0.588133   \n",
              "\n",
              "   DiabetesPedigreeFunction       Age  Outcome  \n",
              "0                  0.262673  0.478261      0.0  \n",
              "1                  0.046083  0.000000      0.0  \n",
              "2                  0.053763  0.000000      0.0  \n",
              "3                  0.589862  0.282609      0.0  \n",
              "4                  0.093702  0.630435      0.0  \n",
              "5                  0.181260  0.739130      0.0  \n",
              "6                  0.180492  0.021739      0.0  \n",
              "7                  0.648233  0.500000      0.0  \n",
              "8                  0.192012  0.347826      0.0  \n",
              "9                  0.099846  0.956522      0.0  "
            ],
            "text/html": [
              "\n",
              "  <div id=\"df-499b78bf-2f3b-4c78-aae3-42be8b3bc7c6\">\n",
              "    <div class=\"colab-df-container\">\n",
              "      <div>\n",
              "<style scoped>\n",
              "    .dataframe tbody tr th:only-of-type {\n",
              "        vertical-align: middle;\n",
              "    }\n",
              "\n",
              "    .dataframe tbody tr th {\n",
              "        vertical-align: top;\n",
              "    }\n",
              "\n",
              "    .dataframe thead th {\n",
              "        text-align: right;\n",
              "    }\n",
              "</style>\n",
              "<table border=\"1\" class=\"dataframe\">\n",
              "  <thead>\n",
              "    <tr style=\"text-align: right;\">\n",
              "      <th></th>\n",
              "      <th>Pregnancies</th>\n",
              "      <th>Glucose</th>\n",
              "      <th>BloodPressure</th>\n",
              "      <th>SkinThickness</th>\n",
              "      <th>Insulin</th>\n",
              "      <th>BMI</th>\n",
              "      <th>DiabetesPedigreeFunction</th>\n",
              "      <th>Age</th>\n",
              "      <th>Outcome</th>\n",
              "    </tr>\n",
              "  </thead>\n",
              "  <tbody>\n",
              "    <tr>\n",
              "      <th>0</th>\n",
              "      <td>0.461538</td>\n",
              "      <td>0.266667</td>\n",
              "      <td>0.508772</td>\n",
              "      <td>0.333333</td>\n",
              "      <td>0.328152</td>\n",
              "      <td>0.593368</td>\n",
              "      <td>0.262673</td>\n",
              "      <td>0.478261</td>\n",
              "      <td>0.0</td>\n",
              "    </tr>\n",
              "    <tr>\n",
              "      <th>1</th>\n",
              "      <td>0.153846</td>\n",
              "      <td>0.370370</td>\n",
              "      <td>0.657895</td>\n",
              "      <td>0.323232</td>\n",
              "      <td>0.000000</td>\n",
              "      <td>0.623037</td>\n",
              "      <td>0.046083</td>\n",
              "      <td>0.000000</td>\n",
              "      <td>0.0</td>\n",
              "    </tr>\n",
              "    <tr>\n",
              "      <th>2</th>\n",
              "      <td>0.153846</td>\n",
              "      <td>0.340741</td>\n",
              "      <td>0.561404</td>\n",
              "      <td>0.000000</td>\n",
              "      <td>0.000000</td>\n",
              "      <td>0.537522</td>\n",
              "      <td>0.053763</td>\n",
              "      <td>0.000000</td>\n",
              "      <td>0.0</td>\n",
              "    </tr>\n",
              "    <tr>\n",
              "      <th>3</th>\n",
              "      <td>0.615385</td>\n",
              "      <td>0.333333</td>\n",
              "      <td>0.701754</td>\n",
              "      <td>0.000000</td>\n",
              "      <td>0.000000</td>\n",
              "      <td>0.429319</td>\n",
              "      <td>0.589862</td>\n",
              "      <td>0.282609</td>\n",
              "      <td>0.0</td>\n",
              "    </tr>\n",
              "    <tr>\n",
              "      <th>4</th>\n",
              "      <td>0.538462</td>\n",
              "      <td>0.548148</td>\n",
              "      <td>0.789474</td>\n",
              "      <td>0.000000</td>\n",
              "      <td>0.000000</td>\n",
              "      <td>0.521815</td>\n",
              "      <td>0.093702</td>\n",
              "      <td>0.630435</td>\n",
              "      <td>0.0</td>\n",
              "    </tr>\n",
              "    <tr>\n",
              "      <th>5</th>\n",
              "      <td>0.461538</td>\n",
              "      <td>0.303704</td>\n",
              "      <td>0.631579</td>\n",
              "      <td>0.323232</td>\n",
              "      <td>0.328152</td>\n",
              "      <td>0.657941</td>\n",
              "      <td>0.181260</td>\n",
              "      <td>0.739130</td>\n",
              "      <td>0.0</td>\n",
              "    </tr>\n",
              "    <tr>\n",
              "      <th>6</th>\n",
              "      <td>0.076923</td>\n",
              "      <td>0.066667</td>\n",
              "      <td>0.421053</td>\n",
              "      <td>0.181818</td>\n",
              "      <td>0.131261</td>\n",
              "      <td>0.356021</td>\n",
              "      <td>0.180492</td>\n",
              "      <td>0.021739</td>\n",
              "      <td>0.0</td>\n",
              "    </tr>\n",
              "    <tr>\n",
              "      <th>7</th>\n",
              "      <td>0.000000</td>\n",
              "      <td>0.407407</td>\n",
              "      <td>0.000000</td>\n",
              "      <td>0.000000</td>\n",
              "      <td>0.000000</td>\n",
              "      <td>0.589878</td>\n",
              "      <td>0.648233</td>\n",
              "      <td>0.500000</td>\n",
              "      <td>0.0</td>\n",
              "    </tr>\n",
              "    <tr>\n",
              "      <th>8</th>\n",
              "      <td>0.307692</td>\n",
              "      <td>0.681481</td>\n",
              "      <td>0.631579</td>\n",
              "      <td>0.292929</td>\n",
              "      <td>0.217617</td>\n",
              "      <td>0.546248</td>\n",
              "      <td>0.192012</td>\n",
              "      <td>0.347826</td>\n",
              "      <td>0.0</td>\n",
              "    </tr>\n",
              "    <tr>\n",
              "      <th>9</th>\n",
              "      <td>0.384615</td>\n",
              "      <td>0.629630</td>\n",
              "      <td>0.684211</td>\n",
              "      <td>0.000000</td>\n",
              "      <td>0.000000</td>\n",
              "      <td>0.588133</td>\n",
              "      <td>0.099846</td>\n",
              "      <td>0.956522</td>\n",
              "      <td>0.0</td>\n",
              "    </tr>\n",
              "  </tbody>\n",
              "</table>\n",
              "</div>\n",
              "      <button class=\"colab-df-convert\" onclick=\"convertToInteractive('df-499b78bf-2f3b-4c78-aae3-42be8b3bc7c6')\"\n",
              "              title=\"Convert this dataframe to an interactive table.\"\n",
              "              style=\"display:none;\">\n",
              "        \n",
              "  <svg xmlns=\"http://www.w3.org/2000/svg\" height=\"24px\"viewBox=\"0 0 24 24\"\n",
              "       width=\"24px\">\n",
              "    <path d=\"M0 0h24v24H0V0z\" fill=\"none\"/>\n",
              "    <path d=\"M18.56 5.44l.94 2.06.94-2.06 2.06-.94-2.06-.94-.94-2.06-.94 2.06-2.06.94zm-11 1L8.5 8.5l.94-2.06 2.06-.94-2.06-.94L8.5 2.5l-.94 2.06-2.06.94zm10 10l.94 2.06.94-2.06 2.06-.94-2.06-.94-.94-2.06-.94 2.06-2.06.94z\"/><path d=\"M17.41 7.96l-1.37-1.37c-.4-.4-.92-.59-1.43-.59-.52 0-1.04.2-1.43.59L10.3 9.45l-7.72 7.72c-.78.78-.78 2.05 0 2.83L4 21.41c.39.39.9.59 1.41.59.51 0 1.02-.2 1.41-.59l7.78-7.78 2.81-2.81c.8-.78.8-2.07 0-2.86zM5.41 20L4 18.59l7.72-7.72 1.47 1.35L5.41 20z\"/>\n",
              "  </svg>\n",
              "      </button>\n",
              "      \n",
              "  <style>\n",
              "    .colab-df-container {\n",
              "      display:flex;\n",
              "      flex-wrap:wrap;\n",
              "      gap: 12px;\n",
              "    }\n",
              "\n",
              "    .colab-df-convert {\n",
              "      background-color: #E8F0FE;\n",
              "      border: none;\n",
              "      border-radius: 50%;\n",
              "      cursor: pointer;\n",
              "      display: none;\n",
              "      fill: #1967D2;\n",
              "      height: 32px;\n",
              "      padding: 0 0 0 0;\n",
              "      width: 32px;\n",
              "    }\n",
              "\n",
              "    .colab-df-convert:hover {\n",
              "      background-color: #E2EBFA;\n",
              "      box-shadow: 0px 1px 2px rgba(60, 64, 67, 0.3), 0px 1px 3px 1px rgba(60, 64, 67, 0.15);\n",
              "      fill: #174EA6;\n",
              "    }\n",
              "\n",
              "    [theme=dark] .colab-df-convert {\n",
              "      background-color: #3B4455;\n",
              "      fill: #D2E3FC;\n",
              "    }\n",
              "\n",
              "    [theme=dark] .colab-df-convert:hover {\n",
              "      background-color: #434B5C;\n",
              "      box-shadow: 0px 1px 3px 1px rgba(0, 0, 0, 0.15);\n",
              "      filter: drop-shadow(0px 1px 2px rgba(0, 0, 0, 0.3));\n",
              "      fill: #FFFFFF;\n",
              "    }\n",
              "  </style>\n",
              "\n",
              "      <script>\n",
              "        const buttonEl =\n",
              "          document.querySelector('#df-499b78bf-2f3b-4c78-aae3-42be8b3bc7c6 button.colab-df-convert');\n",
              "        buttonEl.style.display =\n",
              "          google.colab.kernel.accessAllowed ? 'block' : 'none';\n",
              "\n",
              "        async function convertToInteractive(key) {\n",
              "          const element = document.querySelector('#df-499b78bf-2f3b-4c78-aae3-42be8b3bc7c6');\n",
              "          const dataTable =\n",
              "            await google.colab.kernel.invokeFunction('convertToInteractive',\n",
              "                                                     [key], {});\n",
              "          if (!dataTable) return;\n",
              "\n",
              "          const docLinkHtml = 'Like what you see? Visit the ' +\n",
              "            '<a target=\"_blank\" href=https://colab.research.google.com/notebooks/data_table.ipynb>data table notebook</a>'\n",
              "            + ' to learn more about interactive tables.';\n",
              "          element.innerHTML = '';\n",
              "          dataTable['output_type'] = 'display_data';\n",
              "          await google.colab.output.renderOutput(dataTable, element);\n",
              "          const docLink = document.createElement('div');\n",
              "          docLink.innerHTML = docLinkHtml;\n",
              "          element.appendChild(docLink);\n",
              "        }\n",
              "      </script>\n",
              "    </div>\n",
              "  </div>\n",
              "  "
            ]
          },
          "metadata": {},
          "execution_count": 36
        }
      ]
    },
    {
      "cell_type": "markdown",
      "source": [
        "Dataframe usado para a regressão linear:"
      ],
      "metadata": {
        "id": "NNV7wXFCppip"
      }
    },
    {
      "cell_type": "code",
      "source": [
        "df_regressao_test = test_norm[(test_norm[\"BloodPressure\"] != 0) & (test_norm[\"SkinThickness\"] != 0) & (test_norm[\"BMI\"] != 0)]\n",
        "df_regressao_test"
      ],
      "metadata": {
        "colab": {
          "base_uri": "https://localhost:8080/",
          "height": 424
        },
        "id": "nTiVlhLOpsV-",
        "outputId": "1493e380-e955-4bfb-bae0-89c825388f07"
      },
      "execution_count": null,
      "outputs": [
        {
          "output_type": "execute_result",
          "data": {
            "text/plain": [
              "     Pregnancies   Glucose  BloodPressure  SkinThickness   Insulin       BMI  \\\n",
              "0       0.461538  0.266667       0.508772       0.333333  0.328152  0.593368   \n",
              "1       0.153846  0.370370       0.657895       0.323232  0.000000  0.623037   \n",
              "5       0.461538  0.303704       0.631579       0.323232  0.328152  0.657941   \n",
              "6       0.076923  0.066667       0.421053       0.181818  0.131261  0.356021   \n",
              "8       0.307692  0.681481       0.631579       0.292929  0.217617  0.546248   \n",
              "..           ...       ...            ...            ...       ...       ...   \n",
              "185     0.000000  0.281481       0.614035       0.262626  0.086356  0.537522   \n",
              "186     0.076923  0.133333       0.649123       0.111111  0.103627  0.523560   \n",
              "187     0.076923  0.162963       0.561404       0.232323  0.198618  0.643979   \n",
              "189     0.461538  0.451852       0.631579       0.454545  0.397237  0.586387   \n",
              "190     0.230769  0.118519       0.438596       0.323232  0.151986  0.541012   \n",
              "\n",
              "     DiabetesPedigreeFunction       Age  Outcome  \n",
              "0                    0.262673  0.478261      0.0  \n",
              "1                    0.046083  0.000000      0.0  \n",
              "5                    0.181260  0.739130      0.0  \n",
              "6                    0.180492  0.021739      0.0  \n",
              "8                    0.192012  0.347826      0.0  \n",
              "..                        ...       ...      ...  \n",
              "185                  0.390937  0.000000      0.0  \n",
              "186                  0.337174  0.021739      0.0  \n",
              "187                  0.294163  0.152174      0.0  \n",
              "189                  0.495392  0.282609      0.0  \n",
              "190                  0.122888  0.108696      1.0  \n",
              "\n",
              "[129 rows x 9 columns]"
            ],
            "text/html": [
              "\n",
              "  <div id=\"df-0420aa82-3a3a-420f-9fca-8b870e3e78c9\">\n",
              "    <div class=\"colab-df-container\">\n",
              "      <div>\n",
              "<style scoped>\n",
              "    .dataframe tbody tr th:only-of-type {\n",
              "        vertical-align: middle;\n",
              "    }\n",
              "\n",
              "    .dataframe tbody tr th {\n",
              "        vertical-align: top;\n",
              "    }\n",
              "\n",
              "    .dataframe thead th {\n",
              "        text-align: right;\n",
              "    }\n",
              "</style>\n",
              "<table border=\"1\" class=\"dataframe\">\n",
              "  <thead>\n",
              "    <tr style=\"text-align: right;\">\n",
              "      <th></th>\n",
              "      <th>Pregnancies</th>\n",
              "      <th>Glucose</th>\n",
              "      <th>BloodPressure</th>\n",
              "      <th>SkinThickness</th>\n",
              "      <th>Insulin</th>\n",
              "      <th>BMI</th>\n",
              "      <th>DiabetesPedigreeFunction</th>\n",
              "      <th>Age</th>\n",
              "      <th>Outcome</th>\n",
              "    </tr>\n",
              "  </thead>\n",
              "  <tbody>\n",
              "    <tr>\n",
              "      <th>0</th>\n",
              "      <td>0.461538</td>\n",
              "      <td>0.266667</td>\n",
              "      <td>0.508772</td>\n",
              "      <td>0.333333</td>\n",
              "      <td>0.328152</td>\n",
              "      <td>0.593368</td>\n",
              "      <td>0.262673</td>\n",
              "      <td>0.478261</td>\n",
              "      <td>0.0</td>\n",
              "    </tr>\n",
              "    <tr>\n",
              "      <th>1</th>\n",
              "      <td>0.153846</td>\n",
              "      <td>0.370370</td>\n",
              "      <td>0.657895</td>\n",
              "      <td>0.323232</td>\n",
              "      <td>0.000000</td>\n",
              "      <td>0.623037</td>\n",
              "      <td>0.046083</td>\n",
              "      <td>0.000000</td>\n",
              "      <td>0.0</td>\n",
              "    </tr>\n",
              "    <tr>\n",
              "      <th>5</th>\n",
              "      <td>0.461538</td>\n",
              "      <td>0.303704</td>\n",
              "      <td>0.631579</td>\n",
              "      <td>0.323232</td>\n",
              "      <td>0.328152</td>\n",
              "      <td>0.657941</td>\n",
              "      <td>0.181260</td>\n",
              "      <td>0.739130</td>\n",
              "      <td>0.0</td>\n",
              "    </tr>\n",
              "    <tr>\n",
              "      <th>6</th>\n",
              "      <td>0.076923</td>\n",
              "      <td>0.066667</td>\n",
              "      <td>0.421053</td>\n",
              "      <td>0.181818</td>\n",
              "      <td>0.131261</td>\n",
              "      <td>0.356021</td>\n",
              "      <td>0.180492</td>\n",
              "      <td>0.021739</td>\n",
              "      <td>0.0</td>\n",
              "    </tr>\n",
              "    <tr>\n",
              "      <th>8</th>\n",
              "      <td>0.307692</td>\n",
              "      <td>0.681481</td>\n",
              "      <td>0.631579</td>\n",
              "      <td>0.292929</td>\n",
              "      <td>0.217617</td>\n",
              "      <td>0.546248</td>\n",
              "      <td>0.192012</td>\n",
              "      <td>0.347826</td>\n",
              "      <td>0.0</td>\n",
              "    </tr>\n",
              "    <tr>\n",
              "      <th>...</th>\n",
              "      <td>...</td>\n",
              "      <td>...</td>\n",
              "      <td>...</td>\n",
              "      <td>...</td>\n",
              "      <td>...</td>\n",
              "      <td>...</td>\n",
              "      <td>...</td>\n",
              "      <td>...</td>\n",
              "      <td>...</td>\n",
              "    </tr>\n",
              "    <tr>\n",
              "      <th>185</th>\n",
              "      <td>0.000000</td>\n",
              "      <td>0.281481</td>\n",
              "      <td>0.614035</td>\n",
              "      <td>0.262626</td>\n",
              "      <td>0.086356</td>\n",
              "      <td>0.537522</td>\n",
              "      <td>0.390937</td>\n",
              "      <td>0.000000</td>\n",
              "      <td>0.0</td>\n",
              "    </tr>\n",
              "    <tr>\n",
              "      <th>186</th>\n",
              "      <td>0.076923</td>\n",
              "      <td>0.133333</td>\n",
              "      <td>0.649123</td>\n",
              "      <td>0.111111</td>\n",
              "      <td>0.103627</td>\n",
              "      <td>0.523560</td>\n",
              "      <td>0.337174</td>\n",
              "      <td>0.021739</td>\n",
              "      <td>0.0</td>\n",
              "    </tr>\n",
              "    <tr>\n",
              "      <th>187</th>\n",
              "      <td>0.076923</td>\n",
              "      <td>0.162963</td>\n",
              "      <td>0.561404</td>\n",
              "      <td>0.232323</td>\n",
              "      <td>0.198618</td>\n",
              "      <td>0.643979</td>\n",
              "      <td>0.294163</td>\n",
              "      <td>0.152174</td>\n",
              "      <td>0.0</td>\n",
              "    </tr>\n",
              "    <tr>\n",
              "      <th>189</th>\n",
              "      <td>0.461538</td>\n",
              "      <td>0.451852</td>\n",
              "      <td>0.631579</td>\n",
              "      <td>0.454545</td>\n",
              "      <td>0.397237</td>\n",
              "      <td>0.586387</td>\n",
              "      <td>0.495392</td>\n",
              "      <td>0.282609</td>\n",
              "      <td>0.0</td>\n",
              "    </tr>\n",
              "    <tr>\n",
              "      <th>190</th>\n",
              "      <td>0.230769</td>\n",
              "      <td>0.118519</td>\n",
              "      <td>0.438596</td>\n",
              "      <td>0.323232</td>\n",
              "      <td>0.151986</td>\n",
              "      <td>0.541012</td>\n",
              "      <td>0.122888</td>\n",
              "      <td>0.108696</td>\n",
              "      <td>1.0</td>\n",
              "    </tr>\n",
              "  </tbody>\n",
              "</table>\n",
              "<p>129 rows × 9 columns</p>\n",
              "</div>\n",
              "      <button class=\"colab-df-convert\" onclick=\"convertToInteractive('df-0420aa82-3a3a-420f-9fca-8b870e3e78c9')\"\n",
              "              title=\"Convert this dataframe to an interactive table.\"\n",
              "              style=\"display:none;\">\n",
              "        \n",
              "  <svg xmlns=\"http://www.w3.org/2000/svg\" height=\"24px\"viewBox=\"0 0 24 24\"\n",
              "       width=\"24px\">\n",
              "    <path d=\"M0 0h24v24H0V0z\" fill=\"none\"/>\n",
              "    <path d=\"M18.56 5.44l.94 2.06.94-2.06 2.06-.94-2.06-.94-.94-2.06-.94 2.06-2.06.94zm-11 1L8.5 8.5l.94-2.06 2.06-.94-2.06-.94L8.5 2.5l-.94 2.06-2.06.94zm10 10l.94 2.06.94-2.06 2.06-.94-2.06-.94-.94-2.06-.94 2.06-2.06.94z\"/><path d=\"M17.41 7.96l-1.37-1.37c-.4-.4-.92-.59-1.43-.59-.52 0-1.04.2-1.43.59L10.3 9.45l-7.72 7.72c-.78.78-.78 2.05 0 2.83L4 21.41c.39.39.9.59 1.41.59.51 0 1.02-.2 1.41-.59l7.78-7.78 2.81-2.81c.8-.78.8-2.07 0-2.86zM5.41 20L4 18.59l7.72-7.72 1.47 1.35L5.41 20z\"/>\n",
              "  </svg>\n",
              "      </button>\n",
              "      \n",
              "  <style>\n",
              "    .colab-df-container {\n",
              "      display:flex;\n",
              "      flex-wrap:wrap;\n",
              "      gap: 12px;\n",
              "    }\n",
              "\n",
              "    .colab-df-convert {\n",
              "      background-color: #E8F0FE;\n",
              "      border: none;\n",
              "      border-radius: 50%;\n",
              "      cursor: pointer;\n",
              "      display: none;\n",
              "      fill: #1967D2;\n",
              "      height: 32px;\n",
              "      padding: 0 0 0 0;\n",
              "      width: 32px;\n",
              "    }\n",
              "\n",
              "    .colab-df-convert:hover {\n",
              "      background-color: #E2EBFA;\n",
              "      box-shadow: 0px 1px 2px rgba(60, 64, 67, 0.3), 0px 1px 3px 1px rgba(60, 64, 67, 0.15);\n",
              "      fill: #174EA6;\n",
              "    }\n",
              "\n",
              "    [theme=dark] .colab-df-convert {\n",
              "      background-color: #3B4455;\n",
              "      fill: #D2E3FC;\n",
              "    }\n",
              "\n",
              "    [theme=dark] .colab-df-convert:hover {\n",
              "      background-color: #434B5C;\n",
              "      box-shadow: 0px 1px 3px 1px rgba(0, 0, 0, 0.15);\n",
              "      filter: drop-shadow(0px 1px 2px rgba(0, 0, 0, 0.3));\n",
              "      fill: #FFFFFF;\n",
              "    }\n",
              "  </style>\n",
              "\n",
              "      <script>\n",
              "        const buttonEl =\n",
              "          document.querySelector('#df-0420aa82-3a3a-420f-9fca-8b870e3e78c9 button.colab-df-convert');\n",
              "        buttonEl.style.display =\n",
              "          google.colab.kernel.accessAllowed ? 'block' : 'none';\n",
              "\n",
              "        async function convertToInteractive(key) {\n",
              "          const element = document.querySelector('#df-0420aa82-3a3a-420f-9fca-8b870e3e78c9');\n",
              "          const dataTable =\n",
              "            await google.colab.kernel.invokeFunction('convertToInteractive',\n",
              "                                                     [key], {});\n",
              "          if (!dataTable) return;\n",
              "\n",
              "          const docLinkHtml = 'Like what you see? Visit the ' +\n",
              "            '<a target=\"_blank\" href=https://colab.research.google.com/notebooks/data_table.ipynb>data table notebook</a>'\n",
              "            + ' to learn more about interactive tables.';\n",
              "          element.innerHTML = '';\n",
              "          dataTable['output_type'] = 'display_data';\n",
              "          await google.colab.output.renderOutput(dataTable, element);\n",
              "          const docLink = document.createElement('div');\n",
              "          docLink.innerHTML = docLinkHtml;\n",
              "          element.appendChild(docLink);\n",
              "        }\n",
              "      </script>\n",
              "    </div>\n",
              "  </div>\n",
              "  "
            ]
          },
          "metadata": {},
          "execution_count": 37
        }
      ]
    },
    {
      "cell_type": "markdown",
      "source": [
        "Modelos de regressão linear múltipla:"
      ],
      "metadata": {
        "id": "M25JiS7vqCA7"
      }
    },
    {
      "cell_type": "markdown",
      "source": [
        "1º modelo: previsão dos dados faltantes de pressão sanguínear."
      ],
      "metadata": {
        "id": "IiY6u6aRqBJj"
      }
    },
    {
      "cell_type": "code",
      "source": [
        "modelblood_test = smf.ols(formula=\"BloodPressure ~ Pregnancies + Glucose + SkinThickness + Insulin + BMI + DiabetesPedigreeFunction + Age + Outcome\", data=df_regressao_test)\n",
        "\n",
        "resultblood_test = modelblood_test.fit()\n",
        "\n",
        "resultblood_test.summary()"
      ],
      "metadata": {
        "colab": {
          "base_uri": "https://localhost:8080/",
          "height": 601
        },
        "id": "d--HltaDqTF4",
        "outputId": "45db4f49-2669-4d58-8719-8a590e1186a3"
      },
      "execution_count": null,
      "outputs": [
        {
          "output_type": "execute_result",
          "data": {
            "text/plain": [
              "<class 'statsmodels.iolib.summary.Summary'>\n",
              "\"\"\"\n",
              "                            OLS Regression Results                            \n",
              "==============================================================================\n",
              "Dep. Variable:          BloodPressure   R-squared:                       0.333\n",
              "Model:                            OLS   Adj. R-squared:                  0.289\n",
              "Method:                 Least Squares   F-statistic:                     7.495\n",
              "Date:                Mon, 19 Dec 2022   Prob (F-statistic):           4.48e-08\n",
              "Time:                        10:27:53   Log-Likelihood:                 132.40\n",
              "No. Observations:                 129   AIC:                            -246.8\n",
              "Df Residuals:                     120   BIC:                            -221.1\n",
              "Df Model:                           8                                         \n",
              "Covariance Type:            nonrobust                                         \n",
              "============================================================================================\n",
              "                               coef    std err          t      P>|t|      [0.025      0.975]\n",
              "--------------------------------------------------------------------------------------------\n",
              "Intercept                    0.4034      0.045      8.890      0.000       0.314       0.493\n",
              "Pregnancies                  0.0107      0.042      0.254      0.800      -0.073       0.094\n",
              "Glucose                      0.0938      0.043      2.204      0.029       0.010       0.178\n",
              "SkinThickness               -0.1036      0.086     -1.210      0.229      -0.273       0.066\n",
              "Insulin                     -0.0873      0.043     -2.023      0.045      -0.173      -0.002\n",
              "BMI                          0.3646      0.087      4.212      0.000       0.193       0.536\n",
              "DiabetesPedigreeFunction    -0.0428      0.035     -1.218      0.226      -0.112       0.027\n",
              "Age                          0.1509      0.044      3.406      0.001       0.063       0.239\n",
              "Outcome                     -0.0008      0.020     -0.042      0.967      -0.040       0.039\n",
              "==============================================================================\n",
              "Omnibus:                        4.479   Durbin-Watson:                   2.080\n",
              "Prob(Omnibus):                  0.107   Jarque-Bera (JB):                4.015\n",
              "Skew:                           0.334   Prob(JB):                        0.134\n",
              "Kurtosis:                       3.548   Cond. No.                         20.3\n",
              "==============================================================================\n",
              "\n",
              "Notes:\n",
              "[1] Standard Errors assume that the covariance matrix of the errors is correctly specified.\n",
              "\"\"\""
            ],
            "text/html": [
              "<table class=\"simpletable\">\n",
              "<caption>OLS Regression Results</caption>\n",
              "<tr>\n",
              "  <th>Dep. Variable:</th>      <td>BloodPressure</td>  <th>  R-squared:         </th> <td>   0.333</td>\n",
              "</tr>\n",
              "<tr>\n",
              "  <th>Model:</th>                   <td>OLS</td>       <th>  Adj. R-squared:    </th> <td>   0.289</td>\n",
              "</tr>\n",
              "<tr>\n",
              "  <th>Method:</th>             <td>Least Squares</td>  <th>  F-statistic:       </th> <td>   7.495</td>\n",
              "</tr>\n",
              "<tr>\n",
              "  <th>Date:</th>             <td>Mon, 19 Dec 2022</td> <th>  Prob (F-statistic):</th> <td>4.48e-08</td>\n",
              "</tr>\n",
              "<tr>\n",
              "  <th>Time:</th>                 <td>10:27:53</td>     <th>  Log-Likelihood:    </th> <td>  132.40</td>\n",
              "</tr>\n",
              "<tr>\n",
              "  <th>No. Observations:</th>      <td>   129</td>      <th>  AIC:               </th> <td>  -246.8</td>\n",
              "</tr>\n",
              "<tr>\n",
              "  <th>Df Residuals:</th>          <td>   120</td>      <th>  BIC:               </th> <td>  -221.1</td>\n",
              "</tr>\n",
              "<tr>\n",
              "  <th>Df Model:</th>              <td>     8</td>      <th>                     </th>     <td> </td>   \n",
              "</tr>\n",
              "<tr>\n",
              "  <th>Covariance Type:</th>      <td>nonrobust</td>    <th>                     </th>     <td> </td>   \n",
              "</tr>\n",
              "</table>\n",
              "<table class=\"simpletable\">\n",
              "<tr>\n",
              "              <td></td>                <th>coef</th>     <th>std err</th>      <th>t</th>      <th>P>|t|</th>  <th>[0.025</th>    <th>0.975]</th>  \n",
              "</tr>\n",
              "<tr>\n",
              "  <th>Intercept</th>                <td>    0.4034</td> <td>    0.045</td> <td>    8.890</td> <td> 0.000</td> <td>    0.314</td> <td>    0.493</td>\n",
              "</tr>\n",
              "<tr>\n",
              "  <th>Pregnancies</th>              <td>    0.0107</td> <td>    0.042</td> <td>    0.254</td> <td> 0.800</td> <td>   -0.073</td> <td>    0.094</td>\n",
              "</tr>\n",
              "<tr>\n",
              "  <th>Glucose</th>                  <td>    0.0938</td> <td>    0.043</td> <td>    2.204</td> <td> 0.029</td> <td>    0.010</td> <td>    0.178</td>\n",
              "</tr>\n",
              "<tr>\n",
              "  <th>SkinThickness</th>            <td>   -0.1036</td> <td>    0.086</td> <td>   -1.210</td> <td> 0.229</td> <td>   -0.273</td> <td>    0.066</td>\n",
              "</tr>\n",
              "<tr>\n",
              "  <th>Insulin</th>                  <td>   -0.0873</td> <td>    0.043</td> <td>   -2.023</td> <td> 0.045</td> <td>   -0.173</td> <td>   -0.002</td>\n",
              "</tr>\n",
              "<tr>\n",
              "  <th>BMI</th>                      <td>    0.3646</td> <td>    0.087</td> <td>    4.212</td> <td> 0.000</td> <td>    0.193</td> <td>    0.536</td>\n",
              "</tr>\n",
              "<tr>\n",
              "  <th>DiabetesPedigreeFunction</th> <td>   -0.0428</td> <td>    0.035</td> <td>   -1.218</td> <td> 0.226</td> <td>   -0.112</td> <td>    0.027</td>\n",
              "</tr>\n",
              "<tr>\n",
              "  <th>Age</th>                      <td>    0.1509</td> <td>    0.044</td> <td>    3.406</td> <td> 0.001</td> <td>    0.063</td> <td>    0.239</td>\n",
              "</tr>\n",
              "<tr>\n",
              "  <th>Outcome</th>                  <td>   -0.0008</td> <td>    0.020</td> <td>   -0.042</td> <td> 0.967</td> <td>   -0.040</td> <td>    0.039</td>\n",
              "</tr>\n",
              "</table>\n",
              "<table class=\"simpletable\">\n",
              "<tr>\n",
              "  <th>Omnibus:</th>       <td> 4.479</td> <th>  Durbin-Watson:     </th> <td>   2.080</td>\n",
              "</tr>\n",
              "<tr>\n",
              "  <th>Prob(Omnibus):</th> <td> 0.107</td> <th>  Jarque-Bera (JB):  </th> <td>   4.015</td>\n",
              "</tr>\n",
              "<tr>\n",
              "  <th>Skew:</th>          <td> 0.334</td> <th>  Prob(JB):          </th> <td>   0.134</td>\n",
              "</tr>\n",
              "<tr>\n",
              "  <th>Kurtosis:</th>      <td> 3.548</td> <th>  Cond. No.          </th> <td>    20.3</td>\n",
              "</tr>\n",
              "</table><br/><br/>Notes:<br/>[1] Standard Errors assume that the covariance matrix of the errors is correctly specified."
            ]
          },
          "metadata": {},
          "execution_count": 38
        }
      ]
    },
    {
      "cell_type": "markdown",
      "source": [
        "2º modelo: previsão dos dados faltantes de espessura da pele."
      ],
      "metadata": {
        "id": "BW4yQpVoqIz6"
      }
    },
    {
      "cell_type": "code",
      "source": [
        "modelskin_test = smf.ols(formula=\"SkinThickness ~ Pregnancies + Glucose + BloodPressure + Insulin + BMI + DiabetesPedigreeFunction + Age + Outcome\", data=df_regressao_test)\n",
        "\n",
        "resultskin_test = modelskin_test.fit()\n",
        "\n",
        "resultskin_test.summary()"
      ],
      "metadata": {
        "colab": {
          "base_uri": "https://localhost:8080/",
          "height": 601
        },
        "id": "d6cF535KqkMl",
        "outputId": "c7974b9a-d6c4-4805-fccb-d69235e10d09"
      },
      "execution_count": null,
      "outputs": [
        {
          "output_type": "execute_result",
          "data": {
            "text/plain": [
              "<class 'statsmodels.iolib.summary.Summary'>\n",
              "\"\"\"\n",
              "                            OLS Regression Results                            \n",
              "==============================================================================\n",
              "Dep. Variable:          SkinThickness   R-squared:                       0.418\n",
              "Model:                            OLS   Adj. R-squared:                  0.379\n",
              "Method:                 Least Squares   F-statistic:                     10.78\n",
              "Date:                Mon, 19 Dec 2022   Prob (F-statistic):           2.39e-11\n",
              "Time:                        10:27:53   Log-Likelihood:                 124.92\n",
              "No. Observations:                 129   AIC:                            -231.8\n",
              "Df Residuals:                     120   BIC:                            -206.1\n",
              "Df Model:                           8                                         \n",
              "Covariance Type:            nonrobust                                         \n",
              "============================================================================================\n",
              "                               coef    std err          t      P>|t|      [0.025      0.975]\n",
              "--------------------------------------------------------------------------------------------\n",
              "Intercept                   -0.0045      0.062     -0.073      0.942      -0.127       0.118\n",
              "Pregnancies                 -0.0206      0.045     -0.460      0.646      -0.109       0.068\n",
              "Glucose                      0.1155      0.045      2.579      0.011       0.027       0.204\n",
              "BloodPressure               -0.1163      0.096     -1.210      0.229      -0.307       0.074\n",
              "Insulin                     -0.0353      0.046     -0.760      0.449      -0.127       0.057\n",
              "BMI                          0.5651      0.084      6.756      0.000       0.400       0.731\n",
              "DiabetesPedigreeFunction    -0.0296      0.037     -0.792      0.430      -0.104       0.044\n",
              "Age                          0.0929      0.048      1.919      0.057      -0.003       0.189\n",
              "Outcome                      0.0166      0.021      0.787      0.433      -0.025       0.058\n",
              "==============================================================================\n",
              "Omnibus:                       57.735   Durbin-Watson:                   1.788\n",
              "Prob(Omnibus):                  0.000   Jarque-Bera (JB):              334.860\n",
              "Skew:                           1.402   Prob(JB):                     1.93e-73\n",
              "Kurtosis:                      10.378   Cond. No.                         20.6\n",
              "==============================================================================\n",
              "\n",
              "Notes:\n",
              "[1] Standard Errors assume that the covariance matrix of the errors is correctly specified.\n",
              "\"\"\""
            ],
            "text/html": [
              "<table class=\"simpletable\">\n",
              "<caption>OLS Regression Results</caption>\n",
              "<tr>\n",
              "  <th>Dep. Variable:</th>      <td>SkinThickness</td>  <th>  R-squared:         </th> <td>   0.418</td>\n",
              "</tr>\n",
              "<tr>\n",
              "  <th>Model:</th>                   <td>OLS</td>       <th>  Adj. R-squared:    </th> <td>   0.379</td>\n",
              "</tr>\n",
              "<tr>\n",
              "  <th>Method:</th>             <td>Least Squares</td>  <th>  F-statistic:       </th> <td>   10.78</td>\n",
              "</tr>\n",
              "<tr>\n",
              "  <th>Date:</th>             <td>Mon, 19 Dec 2022</td> <th>  Prob (F-statistic):</th> <td>2.39e-11</td>\n",
              "</tr>\n",
              "<tr>\n",
              "  <th>Time:</th>                 <td>10:27:53</td>     <th>  Log-Likelihood:    </th> <td>  124.92</td>\n",
              "</tr>\n",
              "<tr>\n",
              "  <th>No. Observations:</th>      <td>   129</td>      <th>  AIC:               </th> <td>  -231.8</td>\n",
              "</tr>\n",
              "<tr>\n",
              "  <th>Df Residuals:</th>          <td>   120</td>      <th>  BIC:               </th> <td>  -206.1</td>\n",
              "</tr>\n",
              "<tr>\n",
              "  <th>Df Model:</th>              <td>     8</td>      <th>                     </th>     <td> </td>   \n",
              "</tr>\n",
              "<tr>\n",
              "  <th>Covariance Type:</th>      <td>nonrobust</td>    <th>                     </th>     <td> </td>   \n",
              "</tr>\n",
              "</table>\n",
              "<table class=\"simpletable\">\n",
              "<tr>\n",
              "              <td></td>                <th>coef</th>     <th>std err</th>      <th>t</th>      <th>P>|t|</th>  <th>[0.025</th>    <th>0.975]</th>  \n",
              "</tr>\n",
              "<tr>\n",
              "  <th>Intercept</th>                <td>   -0.0045</td> <td>    0.062</td> <td>   -0.073</td> <td> 0.942</td> <td>   -0.127</td> <td>    0.118</td>\n",
              "</tr>\n",
              "<tr>\n",
              "  <th>Pregnancies</th>              <td>   -0.0206</td> <td>    0.045</td> <td>   -0.460</td> <td> 0.646</td> <td>   -0.109</td> <td>    0.068</td>\n",
              "</tr>\n",
              "<tr>\n",
              "  <th>Glucose</th>                  <td>    0.1155</td> <td>    0.045</td> <td>    2.579</td> <td> 0.011</td> <td>    0.027</td> <td>    0.204</td>\n",
              "</tr>\n",
              "<tr>\n",
              "  <th>BloodPressure</th>            <td>   -0.1163</td> <td>    0.096</td> <td>   -1.210</td> <td> 0.229</td> <td>   -0.307</td> <td>    0.074</td>\n",
              "</tr>\n",
              "<tr>\n",
              "  <th>Insulin</th>                  <td>   -0.0353</td> <td>    0.046</td> <td>   -0.760</td> <td> 0.449</td> <td>   -0.127</td> <td>    0.057</td>\n",
              "</tr>\n",
              "<tr>\n",
              "  <th>BMI</th>                      <td>    0.5651</td> <td>    0.084</td> <td>    6.756</td> <td> 0.000</td> <td>    0.400</td> <td>    0.731</td>\n",
              "</tr>\n",
              "<tr>\n",
              "  <th>DiabetesPedigreeFunction</th> <td>   -0.0296</td> <td>    0.037</td> <td>   -0.792</td> <td> 0.430</td> <td>   -0.104</td> <td>    0.044</td>\n",
              "</tr>\n",
              "<tr>\n",
              "  <th>Age</th>                      <td>    0.0929</td> <td>    0.048</td> <td>    1.919</td> <td> 0.057</td> <td>   -0.003</td> <td>    0.189</td>\n",
              "</tr>\n",
              "<tr>\n",
              "  <th>Outcome</th>                  <td>    0.0166</td> <td>    0.021</td> <td>    0.787</td> <td> 0.433</td> <td>   -0.025</td> <td>    0.058</td>\n",
              "</tr>\n",
              "</table>\n",
              "<table class=\"simpletable\">\n",
              "<tr>\n",
              "  <th>Omnibus:</th>       <td>57.735</td> <th>  Durbin-Watson:     </th> <td>   1.788</td>\n",
              "</tr>\n",
              "<tr>\n",
              "  <th>Prob(Omnibus):</th> <td> 0.000</td> <th>  Jarque-Bera (JB):  </th> <td> 334.860</td>\n",
              "</tr>\n",
              "<tr>\n",
              "  <th>Skew:</th>          <td> 1.402</td> <th>  Prob(JB):          </th> <td>1.93e-73</td>\n",
              "</tr>\n",
              "<tr>\n",
              "  <th>Kurtosis:</th>      <td>10.378</td> <th>  Cond. No.          </th> <td>    20.6</td>\n",
              "</tr>\n",
              "</table><br/><br/>Notes:<br/>[1] Standard Errors assume that the covariance matrix of the errors is correctly specified."
            ]
          },
          "metadata": {},
          "execution_count": 39
        }
      ]
    },
    {
      "cell_type": "markdown",
      "source": [
        "3º modelo: previsão dos dados faltantes de índice de massa corporal (BMI)."
      ],
      "metadata": {
        "id": "6ToJloPJqNTX"
      }
    },
    {
      "cell_type": "code",
      "source": [
        "modelbmi_test = smf.ols(formula=\"BMI ~ Pregnancies + Glucose + SkinThickness + Insulin + BloodPressure + DiabetesPedigreeFunction + Age + Outcome\", data=df_regressao_test)\n",
        "\n",
        "resultbmi_test = modelbmi_test.fit()\n",
        "\n",
        "resultbmi_test.summary()"
      ],
      "metadata": {
        "colab": {
          "base_uri": "https://localhost:8080/",
          "height": 601
        },
        "id": "yCzm2lNtqyu9",
        "outputId": "1ffd8395-b1e5-4d41-cb6d-5de6bc59e930"
      },
      "execution_count": null,
      "outputs": [
        {
          "output_type": "execute_result",
          "data": {
            "text/plain": [
              "<class 'statsmodels.iolib.summary.Summary'>\n",
              "\"\"\"\n",
              "                            OLS Regression Results                            \n",
              "==============================================================================\n",
              "Dep. Variable:                    BMI   R-squared:                       0.455\n",
              "Model:                            OLS   Adj. R-squared:                  0.419\n",
              "Method:                 Least Squares   F-statistic:                     12.53\n",
              "Date:                Mon, 19 Dec 2022   Prob (F-statistic):           6.03e-13\n",
              "Time:                        10:27:53   Log-Likelihood:                 134.44\n",
              "No. Observations:                 129   AIC:                            -250.9\n",
              "Df Residuals:                     120   BIC:                            -225.1\n",
              "Df Model:                           8                                         \n",
              "Covariance Type:            nonrobust                                         \n",
              "============================================================================================\n",
              "                               coef    std err          t      P>|t|      [0.025      0.975]\n",
              "--------------------------------------------------------------------------------------------\n",
              "Intercept                    0.2221      0.054      4.125      0.000       0.115       0.329\n",
              "Pregnancies                 -0.0526      0.041     -1.271      0.206      -0.134       0.029\n",
              "Glucose                     -0.0187      0.043     -0.438      0.662      -0.103       0.066\n",
              "SkinThickness                0.4876      0.072      6.756      0.000       0.345       0.631\n",
              "Insulin                      0.0760      0.043      1.782      0.077      -0.008       0.160\n",
              "BloodPressure                0.3532      0.084      4.212      0.000       0.187       0.519\n",
              "DiabetesPedigreeFunction     0.0323      0.035      0.932      0.353      -0.036       0.101\n",
              "Age                         -0.0711      0.045     -1.573      0.118      -0.161       0.018\n",
              "Outcome                      0.0149      0.020      0.763      0.447      -0.024       0.054\n",
              "==============================================================================\n",
              "Omnibus:                        3.430   Durbin-Watson:                   2.059\n",
              "Prob(Omnibus):                  0.180   Jarque-Bera (JB):                3.001\n",
              "Skew:                           0.253   Prob(JB):                        0.223\n",
              "Kurtosis:                       3.550   Cond. No.                         18.8\n",
              "==============================================================================\n",
              "\n",
              "Notes:\n",
              "[1] Standard Errors assume that the covariance matrix of the errors is correctly specified.\n",
              "\"\"\""
            ],
            "text/html": [
              "<table class=\"simpletable\">\n",
              "<caption>OLS Regression Results</caption>\n",
              "<tr>\n",
              "  <th>Dep. Variable:</th>           <td>BMI</td>       <th>  R-squared:         </th> <td>   0.455</td>\n",
              "</tr>\n",
              "<tr>\n",
              "  <th>Model:</th>                   <td>OLS</td>       <th>  Adj. R-squared:    </th> <td>   0.419</td>\n",
              "</tr>\n",
              "<tr>\n",
              "  <th>Method:</th>             <td>Least Squares</td>  <th>  F-statistic:       </th> <td>   12.53</td>\n",
              "</tr>\n",
              "<tr>\n",
              "  <th>Date:</th>             <td>Mon, 19 Dec 2022</td> <th>  Prob (F-statistic):</th> <td>6.03e-13</td>\n",
              "</tr>\n",
              "<tr>\n",
              "  <th>Time:</th>                 <td>10:27:53</td>     <th>  Log-Likelihood:    </th> <td>  134.44</td>\n",
              "</tr>\n",
              "<tr>\n",
              "  <th>No. Observations:</th>      <td>   129</td>      <th>  AIC:               </th> <td>  -250.9</td>\n",
              "</tr>\n",
              "<tr>\n",
              "  <th>Df Residuals:</th>          <td>   120</td>      <th>  BIC:               </th> <td>  -225.1</td>\n",
              "</tr>\n",
              "<tr>\n",
              "  <th>Df Model:</th>              <td>     8</td>      <th>                     </th>     <td> </td>   \n",
              "</tr>\n",
              "<tr>\n",
              "  <th>Covariance Type:</th>      <td>nonrobust</td>    <th>                     </th>     <td> </td>   \n",
              "</tr>\n",
              "</table>\n",
              "<table class=\"simpletable\">\n",
              "<tr>\n",
              "              <td></td>                <th>coef</th>     <th>std err</th>      <th>t</th>      <th>P>|t|</th>  <th>[0.025</th>    <th>0.975]</th>  \n",
              "</tr>\n",
              "<tr>\n",
              "  <th>Intercept</th>                <td>    0.2221</td> <td>    0.054</td> <td>    4.125</td> <td> 0.000</td> <td>    0.115</td> <td>    0.329</td>\n",
              "</tr>\n",
              "<tr>\n",
              "  <th>Pregnancies</th>              <td>   -0.0526</td> <td>    0.041</td> <td>   -1.271</td> <td> 0.206</td> <td>   -0.134</td> <td>    0.029</td>\n",
              "</tr>\n",
              "<tr>\n",
              "  <th>Glucose</th>                  <td>   -0.0187</td> <td>    0.043</td> <td>   -0.438</td> <td> 0.662</td> <td>   -0.103</td> <td>    0.066</td>\n",
              "</tr>\n",
              "<tr>\n",
              "  <th>SkinThickness</th>            <td>    0.4876</td> <td>    0.072</td> <td>    6.756</td> <td> 0.000</td> <td>    0.345</td> <td>    0.631</td>\n",
              "</tr>\n",
              "<tr>\n",
              "  <th>Insulin</th>                  <td>    0.0760</td> <td>    0.043</td> <td>    1.782</td> <td> 0.077</td> <td>   -0.008</td> <td>    0.160</td>\n",
              "</tr>\n",
              "<tr>\n",
              "  <th>BloodPressure</th>            <td>    0.3532</td> <td>    0.084</td> <td>    4.212</td> <td> 0.000</td> <td>    0.187</td> <td>    0.519</td>\n",
              "</tr>\n",
              "<tr>\n",
              "  <th>DiabetesPedigreeFunction</th> <td>    0.0323</td> <td>    0.035</td> <td>    0.932</td> <td> 0.353</td> <td>   -0.036</td> <td>    0.101</td>\n",
              "</tr>\n",
              "<tr>\n",
              "  <th>Age</th>                      <td>   -0.0711</td> <td>    0.045</td> <td>   -1.573</td> <td> 0.118</td> <td>   -0.161</td> <td>    0.018</td>\n",
              "</tr>\n",
              "<tr>\n",
              "  <th>Outcome</th>                  <td>    0.0149</td> <td>    0.020</td> <td>    0.763</td> <td> 0.447</td> <td>   -0.024</td> <td>    0.054</td>\n",
              "</tr>\n",
              "</table>\n",
              "<table class=\"simpletable\">\n",
              "<tr>\n",
              "  <th>Omnibus:</th>       <td> 3.430</td> <th>  Durbin-Watson:     </th> <td>   2.059</td>\n",
              "</tr>\n",
              "<tr>\n",
              "  <th>Prob(Omnibus):</th> <td> 0.180</td> <th>  Jarque-Bera (JB):  </th> <td>   3.001</td>\n",
              "</tr>\n",
              "<tr>\n",
              "  <th>Skew:</th>          <td> 0.253</td> <th>  Prob(JB):          </th> <td>   0.223</td>\n",
              "</tr>\n",
              "<tr>\n",
              "  <th>Kurtosis:</th>      <td> 3.550</td> <th>  Cond. No.          </th> <td>    18.8</td>\n",
              "</tr>\n",
              "</table><br/><br/>Notes:<br/>[1] Standard Errors assume that the covariance matrix of the errors is correctly specified."
            ]
          },
          "metadata": {},
          "execution_count": 40
        }
      ]
    },
    {
      "cell_type": "markdown",
      "source": [
        "Substituição dos dados faltantes pelos valores ajustados pelos modelos:"
      ],
      "metadata": {
        "id": "9xO0A7Q6rC6S"
      }
    },
    {
      "cell_type": "code",
      "source": [
        "test_norm['Glucose'] = test_norm['Glucose'].replace(0, np.nan)\n",
        "test_norm['BloodPressure'] = test_norm['BloodPressure'].replace(0, np.nan)\n",
        "test_norm['SkinThickness'] = test_norm['SkinThickness'].replace(0, np.nan)\n",
        "test_norm['BMI'] = test_norm['BMI'].replace(0, np.nan)"
      ],
      "metadata": {
        "id": "hLIA6DE6rDfR"
      },
      "execution_count": null,
      "outputs": []
    },
    {
      "cell_type": "code",
      "source": [
        "#aplicando o modelo de regressão linear para prever os valores faltantes de pressão sanguínear\n",
        "test_norm.loc[test_norm.BloodPressure.isna() ,'BloodPressure'] = resultblood_test.predict(test_norm.loc[test_norm.BloodPressure.isna() ,test_norm.columns])\n",
        "\n",
        "#aplicando o modelo de regressão linear para prever os valores faltantes de espessura da pele\n",
        "test_norm.loc[test_norm.SkinThickness.isna() ,'SkinThickness'] = resultskin_test.predict(test_norm.loc[test_norm.SkinThickness.isna() ,test_norm.columns])\n",
        "\n",
        "#aplicando o modelo de regressão linear para prever os valores faltantes de BMI\n",
        "test_norm.loc[test_norm.BMI.isna() ,'BMI'] = resultbmi_test.predict(test_norm.loc[test_norm.BMI.isna() ,test_norm.columns])"
      ],
      "metadata": {
        "id": "wzLxZ3PQrZMa"
      },
      "execution_count": null,
      "outputs": []
    },
    {
      "cell_type": "markdown",
      "source": [
        "Verificação de quantos dados faltantes restam:"
      ],
      "metadata": {
        "id": "JH4VMkOIryhR"
      }
    },
    {
      "cell_type": "code",
      "source": [
        "test_norm = test_norm.fillna(0)"
      ],
      "metadata": {
        "id": "BUXcQ53rr1-F"
      },
      "execution_count": null,
      "outputs": []
    },
    {
      "cell_type": "code",
      "source": [
        "a = test_norm.BloodPressure.tolist()\n",
        "b = test_norm.SkinThickness.tolist()\n",
        "c = test_norm.BMI.tolist()\n",
        "\n",
        "print(\"Número de zeros de BloodPressure: \",a.count(0))\n",
        "print(\"Número de zeros de SkinThickness: \",b.count(0))\n",
        "print(\"Número de zeros de BMI: \",c.count(0))"
      ],
      "metadata": {
        "colab": {
          "base_uri": "https://localhost:8080/"
        },
        "id": "gPSk36cqr-Xb",
        "outputId": "47633044-04fa-4c10-cf58-86626beecd0d"
      },
      "execution_count": null,
      "outputs": [
        {
          "output_type": "stream",
          "name": "stdout",
          "text": [
            "Número de zeros de BloodPressure:  13\n",
            "Número de zeros de SkinThickness:  14\n",
            "Número de zeros de BMI:  5\n"
          ]
        }
      ]
    },
    {
      "cell_type": "markdown",
      "source": [
        "Estes valores de pressão sanguínea, espessura da pele e BMI iguais a zero serão substituídos pela média:"
      ],
      "metadata": {
        "id": "P21NkhHQsjTN"
      }
    },
    {
      "cell_type": "code",
      "source": [
        "df1 = test_norm[test_norm['Outcome'] == 0][['BloodPressure',\t'SkinThickness', 'BMI']]\n",
        "df2 = test_norm[test_norm['Outcome'] == 1][['BloodPressure',\t'SkinThickness', 'BMI']]\n",
        "\n",
        "df1 = df1.replace(0, np.nan)\n",
        "df2 = df2.replace(0, np.nan)"
      ],
      "metadata": {
        "id": "r5RHEPw4sjsc"
      },
      "execution_count": null,
      "outputs": []
    },
    {
      "cell_type": "code",
      "source": [
        "X = np.array(df1[df1.columns[0:test_norm.shape[1]-1]], dtype = float) \n",
        "\n",
        "media0 = np.nanmean(X, axis = 0)\n",
        "\n",
        "print(\"Variáveis: BloodPressure, SkinThickness, BMI\")\n",
        "print(\"Médias: \",media0)"
      ],
      "metadata": {
        "colab": {
          "base_uri": "https://localhost:8080/"
        },
        "id": "JY6QjcWRs_ar",
        "outputId": "82c23218-428d-4046-ed13-8a0b6fdc02b9"
      },
      "execution_count": null,
      "outputs": [
        {
          "output_type": "stream",
          "name": "stdout",
          "text": [
            "Variáveis: BloodPressure, SkinThickness, BMI\n",
            "Médias:  [0.6251312  0.28394333 0.55029551]\n"
          ]
        }
      ]
    },
    {
      "cell_type": "code",
      "source": [
        "X = np.array(df2[df2.columns[0:test_norm.shape[1]-1]], dtype = float) \n",
        "\n",
        "media1 = np.nanmean(X, axis = 0)\n",
        "\n",
        "print(\"Variáveis: BloodPressure, SkinThickness, BMI\")\n",
        "print(\"Médias: \",media1)"
      ],
      "metadata": {
        "colab": {
          "base_uri": "https://localhost:8080/"
        },
        "id": "zZ6b4PeFtHYW",
        "outputId": "2c3961a3-aca8-4da2-9df9-6855ed70c954"
      },
      "execution_count": null,
      "outputs": [
        {
          "output_type": "stream",
          "name": "stdout",
          "text": [
            "Variáveis: BloodPressure, SkinThickness, BMI\n",
            "Médias:  [0.66496887 0.35216043 0.61505492]\n"
          ]
        }
      ]
    },
    {
      "cell_type": "code",
      "source": [
        "test_norm_final = test_norm.copy()"
      ],
      "metadata": {
        "id": "rOxdloaLtVcu"
      },
      "execution_count": null,
      "outputs": []
    },
    {
      "cell_type": "code",
      "source": [
        "test_norm_final.loc[(test_norm_final.Outcome == 0) & (test_norm_final.BloodPressure == 0),\"BloodPressure\"] = media0[0]\n",
        "test_norm_final.loc[(test_norm_final.Outcome == 1) & (test_norm_final.BloodPressure == 0),\"BloodPressure\"] = media1[0]\n",
        "\n",
        "test_norm_final.loc[(test_norm_final.Outcome == 0) & (test_norm_final.SkinThickness == 0) ,\"SkinThickness\"] = media0[1]\n",
        "test_norm_final.loc[(test_norm_final.Outcome == 1) & (test_norm_final.SkinThickness == 0) ,\"SkinThickness\"] = media1[1]\n",
        "\n",
        "test_norm_final.loc[(test_norm_final.Outcome == 0) & (test_norm_final.BMI == 0) ,\"BMI\"] = media0[2]\n",
        "test_norm_final.loc[(test_norm_final.Outcome == 1) & (test_norm_final.BMI == 0) ,\"BMI\"] = media1[2]"
      ],
      "metadata": {
        "id": "l0TcSYwptVSm"
      },
      "execution_count": null,
      "outputs": []
    },
    {
      "cell_type": "code",
      "source": [
        "print(\"Conjunto de test normalizado e com dados faltantes corrigidos\")\n",
        "test_norm_final.head(10)"
      ],
      "metadata": {
        "colab": {
          "base_uri": "https://localhost:8080/",
          "height": 380
        },
        "id": "MDZQ3vCqtVFo",
        "outputId": "f5bdf6f8-26b9-445c-f25c-17eea7f88951"
      },
      "execution_count": null,
      "outputs": [
        {
          "output_type": "stream",
          "name": "stdout",
          "text": [
            "Conjunto de test normalizado e com dados faltantes corrigidos\n"
          ]
        },
        {
          "output_type": "execute_result",
          "data": {
            "text/plain": [
              "   Pregnancies   Glucose  BloodPressure  SkinThickness   Insulin       BMI  \\\n",
              "0     0.461538  0.266667       0.508772       0.333333  0.328152  0.593368   \n",
              "1     0.153846  0.370370       0.657895       0.323232  0.000000  0.623037   \n",
              "2     0.153846  0.340741       0.561404       0.268512  0.000000  0.537522   \n",
              "3     0.615385  0.333333       0.701754       0.191070  0.000000  0.429319   \n",
              "4     0.538462  0.548148       0.789474       0.306529  0.000000  0.521815   \n",
              "5     0.461538  0.303704       0.631579       0.323232  0.328152  0.657941   \n",
              "6     0.076923  0.066667       0.421053       0.181818  0.131261  0.356021   \n",
              "7     0.000000  0.407407       0.625131       0.283943  0.000000  0.589878   \n",
              "8     0.307692  0.681481       0.631579       0.292929  0.217617  0.546248   \n",
              "9     0.384615  0.629630       0.684211       0.398960  0.000000  0.588133   \n",
              "\n",
              "   DiabetesPedigreeFunction       Age  Outcome  \n",
              "0                  0.262673  0.478261      0.0  \n",
              "1                  0.046083  0.000000      0.0  \n",
              "2                  0.053763  0.000000      0.0  \n",
              "3                  0.589862  0.282609      0.0  \n",
              "4                  0.093702  0.630435      0.0  \n",
              "5                  0.181260  0.739130      0.0  \n",
              "6                  0.180492  0.021739      0.0  \n",
              "7                  0.648233  0.500000      0.0  \n",
              "8                  0.192012  0.347826      0.0  \n",
              "9                  0.099846  0.956522      0.0  "
            ],
            "text/html": [
              "\n",
              "  <div id=\"df-00d648cd-d159-4b61-8b4a-bed0b4ab3582\">\n",
              "    <div class=\"colab-df-container\">\n",
              "      <div>\n",
              "<style scoped>\n",
              "    .dataframe tbody tr th:only-of-type {\n",
              "        vertical-align: middle;\n",
              "    }\n",
              "\n",
              "    .dataframe tbody tr th {\n",
              "        vertical-align: top;\n",
              "    }\n",
              "\n",
              "    .dataframe thead th {\n",
              "        text-align: right;\n",
              "    }\n",
              "</style>\n",
              "<table border=\"1\" class=\"dataframe\">\n",
              "  <thead>\n",
              "    <tr style=\"text-align: right;\">\n",
              "      <th></th>\n",
              "      <th>Pregnancies</th>\n",
              "      <th>Glucose</th>\n",
              "      <th>BloodPressure</th>\n",
              "      <th>SkinThickness</th>\n",
              "      <th>Insulin</th>\n",
              "      <th>BMI</th>\n",
              "      <th>DiabetesPedigreeFunction</th>\n",
              "      <th>Age</th>\n",
              "      <th>Outcome</th>\n",
              "    </tr>\n",
              "  </thead>\n",
              "  <tbody>\n",
              "    <tr>\n",
              "      <th>0</th>\n",
              "      <td>0.461538</td>\n",
              "      <td>0.266667</td>\n",
              "      <td>0.508772</td>\n",
              "      <td>0.333333</td>\n",
              "      <td>0.328152</td>\n",
              "      <td>0.593368</td>\n",
              "      <td>0.262673</td>\n",
              "      <td>0.478261</td>\n",
              "      <td>0.0</td>\n",
              "    </tr>\n",
              "    <tr>\n",
              "      <th>1</th>\n",
              "      <td>0.153846</td>\n",
              "      <td>0.370370</td>\n",
              "      <td>0.657895</td>\n",
              "      <td>0.323232</td>\n",
              "      <td>0.000000</td>\n",
              "      <td>0.623037</td>\n",
              "      <td>0.046083</td>\n",
              "      <td>0.000000</td>\n",
              "      <td>0.0</td>\n",
              "    </tr>\n",
              "    <tr>\n",
              "      <th>2</th>\n",
              "      <td>0.153846</td>\n",
              "      <td>0.340741</td>\n",
              "      <td>0.561404</td>\n",
              "      <td>0.268512</td>\n",
              "      <td>0.000000</td>\n",
              "      <td>0.537522</td>\n",
              "      <td>0.053763</td>\n",
              "      <td>0.000000</td>\n",
              "      <td>0.0</td>\n",
              "    </tr>\n",
              "    <tr>\n",
              "      <th>3</th>\n",
              "      <td>0.615385</td>\n",
              "      <td>0.333333</td>\n",
              "      <td>0.701754</td>\n",
              "      <td>0.191070</td>\n",
              "      <td>0.000000</td>\n",
              "      <td>0.429319</td>\n",
              "      <td>0.589862</td>\n",
              "      <td>0.282609</td>\n",
              "      <td>0.0</td>\n",
              "    </tr>\n",
              "    <tr>\n",
              "      <th>4</th>\n",
              "      <td>0.538462</td>\n",
              "      <td>0.548148</td>\n",
              "      <td>0.789474</td>\n",
              "      <td>0.306529</td>\n",
              "      <td>0.000000</td>\n",
              "      <td>0.521815</td>\n",
              "      <td>0.093702</td>\n",
              "      <td>0.630435</td>\n",
              "      <td>0.0</td>\n",
              "    </tr>\n",
              "    <tr>\n",
              "      <th>5</th>\n",
              "      <td>0.461538</td>\n",
              "      <td>0.303704</td>\n",
              "      <td>0.631579</td>\n",
              "      <td>0.323232</td>\n",
              "      <td>0.328152</td>\n",
              "      <td>0.657941</td>\n",
              "      <td>0.181260</td>\n",
              "      <td>0.739130</td>\n",
              "      <td>0.0</td>\n",
              "    </tr>\n",
              "    <tr>\n",
              "      <th>6</th>\n",
              "      <td>0.076923</td>\n",
              "      <td>0.066667</td>\n",
              "      <td>0.421053</td>\n",
              "      <td>0.181818</td>\n",
              "      <td>0.131261</td>\n",
              "      <td>0.356021</td>\n",
              "      <td>0.180492</td>\n",
              "      <td>0.021739</td>\n",
              "      <td>0.0</td>\n",
              "    </tr>\n",
              "    <tr>\n",
              "      <th>7</th>\n",
              "      <td>0.000000</td>\n",
              "      <td>0.407407</td>\n",
              "      <td>0.625131</td>\n",
              "      <td>0.283943</td>\n",
              "      <td>0.000000</td>\n",
              "      <td>0.589878</td>\n",
              "      <td>0.648233</td>\n",
              "      <td>0.500000</td>\n",
              "      <td>0.0</td>\n",
              "    </tr>\n",
              "    <tr>\n",
              "      <th>8</th>\n",
              "      <td>0.307692</td>\n",
              "      <td>0.681481</td>\n",
              "      <td>0.631579</td>\n",
              "      <td>0.292929</td>\n",
              "      <td>0.217617</td>\n",
              "      <td>0.546248</td>\n",
              "      <td>0.192012</td>\n",
              "      <td>0.347826</td>\n",
              "      <td>0.0</td>\n",
              "    </tr>\n",
              "    <tr>\n",
              "      <th>9</th>\n",
              "      <td>0.384615</td>\n",
              "      <td>0.629630</td>\n",
              "      <td>0.684211</td>\n",
              "      <td>0.398960</td>\n",
              "      <td>0.000000</td>\n",
              "      <td>0.588133</td>\n",
              "      <td>0.099846</td>\n",
              "      <td>0.956522</td>\n",
              "      <td>0.0</td>\n",
              "    </tr>\n",
              "  </tbody>\n",
              "</table>\n",
              "</div>\n",
              "      <button class=\"colab-df-convert\" onclick=\"convertToInteractive('df-00d648cd-d159-4b61-8b4a-bed0b4ab3582')\"\n",
              "              title=\"Convert this dataframe to an interactive table.\"\n",
              "              style=\"display:none;\">\n",
              "        \n",
              "  <svg xmlns=\"http://www.w3.org/2000/svg\" height=\"24px\"viewBox=\"0 0 24 24\"\n",
              "       width=\"24px\">\n",
              "    <path d=\"M0 0h24v24H0V0z\" fill=\"none\"/>\n",
              "    <path d=\"M18.56 5.44l.94 2.06.94-2.06 2.06-.94-2.06-.94-.94-2.06-.94 2.06-2.06.94zm-11 1L8.5 8.5l.94-2.06 2.06-.94-2.06-.94L8.5 2.5l-.94 2.06-2.06.94zm10 10l.94 2.06.94-2.06 2.06-.94-2.06-.94-.94-2.06-.94 2.06-2.06.94z\"/><path d=\"M17.41 7.96l-1.37-1.37c-.4-.4-.92-.59-1.43-.59-.52 0-1.04.2-1.43.59L10.3 9.45l-7.72 7.72c-.78.78-.78 2.05 0 2.83L4 21.41c.39.39.9.59 1.41.59.51 0 1.02-.2 1.41-.59l7.78-7.78 2.81-2.81c.8-.78.8-2.07 0-2.86zM5.41 20L4 18.59l7.72-7.72 1.47 1.35L5.41 20z\"/>\n",
              "  </svg>\n",
              "      </button>\n",
              "      \n",
              "  <style>\n",
              "    .colab-df-container {\n",
              "      display:flex;\n",
              "      flex-wrap:wrap;\n",
              "      gap: 12px;\n",
              "    }\n",
              "\n",
              "    .colab-df-convert {\n",
              "      background-color: #E8F0FE;\n",
              "      border: none;\n",
              "      border-radius: 50%;\n",
              "      cursor: pointer;\n",
              "      display: none;\n",
              "      fill: #1967D2;\n",
              "      height: 32px;\n",
              "      padding: 0 0 0 0;\n",
              "      width: 32px;\n",
              "    }\n",
              "\n",
              "    .colab-df-convert:hover {\n",
              "      background-color: #E2EBFA;\n",
              "      box-shadow: 0px 1px 2px rgba(60, 64, 67, 0.3), 0px 1px 3px 1px rgba(60, 64, 67, 0.15);\n",
              "      fill: #174EA6;\n",
              "    }\n",
              "\n",
              "    [theme=dark] .colab-df-convert {\n",
              "      background-color: #3B4455;\n",
              "      fill: #D2E3FC;\n",
              "    }\n",
              "\n",
              "    [theme=dark] .colab-df-convert:hover {\n",
              "      background-color: #434B5C;\n",
              "      box-shadow: 0px 1px 3px 1px rgba(0, 0, 0, 0.15);\n",
              "      filter: drop-shadow(0px 1px 2px rgba(0, 0, 0, 0.3));\n",
              "      fill: #FFFFFF;\n",
              "    }\n",
              "  </style>\n",
              "\n",
              "      <script>\n",
              "        const buttonEl =\n",
              "          document.querySelector('#df-00d648cd-d159-4b61-8b4a-bed0b4ab3582 button.colab-df-convert');\n",
              "        buttonEl.style.display =\n",
              "          google.colab.kernel.accessAllowed ? 'block' : 'none';\n",
              "\n",
              "        async function convertToInteractive(key) {\n",
              "          const element = document.querySelector('#df-00d648cd-d159-4b61-8b4a-bed0b4ab3582');\n",
              "          const dataTable =\n",
              "            await google.colab.kernel.invokeFunction('convertToInteractive',\n",
              "                                                     [key], {});\n",
              "          if (!dataTable) return;\n",
              "\n",
              "          const docLinkHtml = 'Like what you see? Visit the ' +\n",
              "            '<a target=\"_blank\" href=https://colab.research.google.com/notebooks/data_table.ipynb>data table notebook</a>'\n",
              "            + ' to learn more about interactive tables.';\n",
              "          element.innerHTML = '';\n",
              "          dataTable['output_type'] = 'display_data';\n",
              "          await google.colab.output.renderOutput(dataTable, element);\n",
              "          const docLink = document.createElement('div');\n",
              "          docLink.innerHTML = docLinkHtml;\n",
              "          element.appendChild(docLink);\n",
              "        }\n",
              "      </script>\n",
              "    </div>\n",
              "  </div>\n",
              "  "
            ]
          },
          "metadata": {},
          "execution_count": 50
        }
      ]
    },
    {
      "cell_type": "markdown",
      "source": [
        "## **4) Visualização e Exploração dos Dados**"
      ],
      "metadata": {
        "id": "rzQJVxoaqkia"
      }
    },
    {
      "cell_type": "markdown",
      "source": [
        "Precisamos observar o balanceamento de classes no conjunto de treinamento. Verificando a proporção de resultados positivos e negativos para diabetes, e também, visualizando o  gráfico de setores, temos:"
      ],
      "metadata": {
        "id": "4HTE3iXX2nrb"
      }
    },
    {
      "cell_type": "code",
      "source": [
        "y =train_norm_final.iloc[:,-1].values\n",
        "y = y.tolist()\n",
        "zero = y.count(0)\n",
        "um = y.count(1)\n",
        "freq = [zero, um]\n",
        "values = np.unique(y)\n",
        "\n",
        "print(\"Número de observações 0: %d\" %(freq[0]))\n",
        "print(\"Número de observações 1: %d\" %(freq[1]))"
      ],
      "metadata": {
        "colab": {
          "base_uri": "https://localhost:8080/"
        },
        "id": "2rDnIztf242H",
        "outputId": "caa61aef-d1d7-4466-e82a-81a159b1240a"
      },
      "execution_count": null,
      "outputs": [
        {
          "output_type": "stream",
          "name": "stdout",
          "text": [
            "Número de observações 0: 377\n",
            "Número de observações 1: 199\n"
          ]
        }
      ]
    },
    {
      "cell_type": "code",
      "source": [
        "fig1, ax1 = plt.subplots(figsize=(10,6))\n",
        "ax1.pie(freq, explode=(0, 0), labels=values, autopct='%1.1f%%', shadow=True, startangle=90)\n",
        "ax1.axis('equal')\n",
        "plt.title(\"Proporção de resultados positivos e negativos\")\n",
        "plt.legend(['Negativos', 'Positivos'])\n",
        "plt.show(True)"
      ],
      "metadata": {
        "colab": {
          "base_uri": "https://localhost:8080/",
          "height": 373
        },
        "id": "GqE7sVoreOsX",
        "outputId": "bf8a8186-11e6-4ae2-8459-3087a5ac051f"
      },
      "execution_count": null,
      "outputs": [
        {
          "output_type": "display_data",
          "data": {
            "text/plain": [
              "<Figure size 720x432 with 1 Axes>"
            ],
            "image/png": "[encoded data removed]"
          },
          "metadata": {}
        }
      ]
    },
    {
      "cell_type": "markdown",
      "source": [
        "Ou seja, os dados estão desbalanceados: há mais casos negativos do que positivos de diagnóstico de diabetes. Esta é uma observação muito importante, tendo em vista que deveremos utilizar a abordagem de validação cruzada estratificada para escolher os melhores hiperparâmetros dos modelo de classificação."
      ],
      "metadata": {
        "id": "G1rlgkNqfIg8"
      }
    },
    {
      "cell_type": "markdown",
      "source": [
        "Observando-se o comportamento dos dados, após a preparação do conjunto de treinamento, temos:"
      ],
      "metadata": {
        "id": "ja1Mlx1Xdcug"
      }
    },
    {
      "cell_type": "code",
      "source": [
        "sns.set(style=\"darkgrid\")\n",
        "\n",
        "fig, axs = plt.subplots(2, 4, figsize=(20, 10))\n",
        "\n",
        "sns.histplot(data=train_norm_final, x=\"Pregnancies\", kde=True, color=\"skyblue\", ax=axs[0, 0])\n",
        "sns.histplot(data=train_norm_final, x=\"Glucose\", kde=True, color=\"green\", ax=axs[0, 1])\n",
        "sns.histplot(data=train_norm_final, x=\"BloodPressure\", kde=True, color=\"olive\", ax=axs[0, 2])\n",
        "sns.histplot(data=train_norm_final, x=\"SkinThickness\", kde=True, color=\"gold\", ax=axs[0, 3])\n",
        "sns.histplot(data=train_norm_final, x=\"Insulin\", kde=True, color=\"teal\", ax=axs[1, 0])\n",
        "sns.histplot(data=train_norm_final, x=\"BMI\", kde=True, color=\"red\", ax=axs[1, 1])\n",
        "sns.histplot(data=train_norm_final, x=\"DiabetesPedigreeFunction\", kde=True, color=\"magenta\", ax=axs[1, 2])\n",
        "sns.histplot(data=train_norm_final, x=\"Age\", kde=True, color=\"blue\", ax=axs[1, 3])\n",
        "\n",
        "plt.show()"
      ],
      "metadata": {
        "colab": {
          "base_uri": "https://localhost:8080/",
          "height": 611
        },
        "id": "5505Oj1wccQZ",
        "outputId": "00a3589d-07e7-4ff9-e17d-9d5c9ee9daaa"
      },
      "execution_count": null,
      "outputs": [
        {
          "output_type": "display_data",
          "data": {
            "text/plain": [
              "<Figure size 1440x720 with 8 Axes>"
            ],
            "image/png": "[encoded data removed]"
          },
          "metadata": {}
        }
      ]
    },
    {
      "cell_type": "markdown",
      "source": [
        "Observando-se as variáveis em relação ao diagnóstico de câncer, tem-se os seguintes Boxplots:"
      ],
      "metadata": {
        "id": "ucqejloS5V7V"
      }
    },
    {
      "cell_type": "code",
      "source": [
        "my_pal = {0: \"b\", 1:\"r\"}\n",
        "sns.set(style=\"darkgrid\")\n",
        "\n",
        "fig, axs = plt.subplots(2, 4, figsize=(20, 10))\n",
        "\n",
        "sns.boxplot(x=train_norm_final[\"Outcome\"], y=train_norm_final[\"Pregnancies\"], palette=my_pal, ax=axs[0, 0])\n",
        "sns.boxplot(x=train_norm_final[\"Outcome\"], y=train_norm_final[\"Glucose\"], palette=my_pal, ax=axs[0, 1])\n",
        "sns.boxplot(x=train_norm_final[\"Outcome\"], y=train_norm_final[\"BloodPressure\"], palette=my_pal, ax=axs[0, 2])\n",
        "sns.boxplot(x=train_norm_final[\"Outcome\"], y=train_norm_final[\"SkinThickness\"], palette=my_pal, ax=axs[0, 3])\n",
        "sns.boxplot(x=train_norm_final[\"Outcome\"], y=train_norm_final[\"Insulin\"], palette=my_pal, ax=axs[1, 0])\n",
        "sns.boxplot(x=train_norm_final[\"Outcome\"], y=train_norm_final[\"BMI\"], palette=my_pal, ax=axs[1, 1])\n",
        "sns.boxplot(x=train_norm_final[\"Outcome\"], y=train_norm_final[\"DiabetesPedigreeFunction\"], palette=my_pal, ax=axs[1, 2])\n",
        "sns.boxplot(x=train_norm_final[\"Outcome\"], y=train_norm_final[\"Age\"], palette=my_pal, ax=axs[1, 3])\n",
        "\n",
        "plt.show()"
      ],
      "metadata": {
        "colab": {
          "base_uri": "https://localhost:8080/",
          "height": 611
        },
        "id": "Y1PAW8es5nS4",
        "outputId": "47f96295-2e2f-440a-e410-6746aa679ac7"
      },
      "execution_count": null,
      "outputs": [
        {
          "output_type": "display_data",
          "data": {
            "text/plain": [
              "<Figure size 1440x720 with 8 Axes>"
            ],
            "image/png": "[encoded data removed]"
          },
          "metadata": {}
        }
      ]
    },
    {
      "cell_type": "markdown",
      "source": [
        "Pela análise dos boxplots podemos observar como cada variável influencia ou não na ocorrência de diabetes. Aparentemente, apenas as variáveis $BloodPressure$ e $DiabetesPedigreeFunction$ não têm influência na condição médica."
      ],
      "metadata": {
        "id": "JXXCic4ayMhi"
      }
    },
    {
      "cell_type": "markdown",
      "source": [
        "Analisando-se a correlação entre os atributos, segue que:"
      ],
      "metadata": {
        "id": "rRJI7_bl95lU"
      }
    },
    {
      "cell_type": "code",
      "source": [
        "plt.figure(figsize= (6, 6))\n",
        "sns.heatmap(train_norm_final.corr())\n",
        "plt.show(sns)"
      ],
      "metadata": {
        "colab": {
          "base_uri": "https://localhost:8080/",
          "height": 515
        },
        "id": "N7WHJHY0SQF_",
        "outputId": "5f26b79f-1353-4e13-ae4f-f3e07e249061"
      },
      "execution_count": null,
      "outputs": [
        {
          "output_type": "display_data",
          "data": {
            "text/plain": [
              "<Figure size 432x432 with 2 Axes>"
            ],
            "image/png": "[encoded data removed]"
          },
          "metadata": {}
        }
      ]
    },
    {
      "cell_type": "markdown",
      "source": [
        "Nota-se que os atributos não são fortemente correlacionados, porém, observa-se que $BMI$ e $SkinThickness$ têm uma certa correlação próxima de $0,6$. Ou seja, cada atributo carrega consigo sua própria parcela de variância dos dados. \n",
        "\n",
        "Considerando que os oito atributos não têm correlação significativa, iremos utilizar todas as oito variáveis para construir os classificadores."
      ],
      "metadata": {
        "id": "khER6dPy-ApM"
      }
    },
    {
      "cell_type": "markdown",
      "source": [
        "## **5) Métodos de classificação**"
      ],
      "metadata": {
        "id": "LaF6f_3x_ZUW"
      }
    },
    {
      "cell_type": "markdown",
      "source": [
        "Para fazer a classificação, utiliza-se diferentes tipos de classificadores para poder encontrar qual método é o melhor para classificar pacientes com e sem diabetes."
      ],
      "metadata": {
        "id": "fDkS-goP_g-p"
      }
    },
    {
      "cell_type": "markdown",
      "source": [
        "Assim, transformando-se os dados de treinamento e teste finais para o formato do numpy, para facilitar a manipulação, temos:"
      ],
      "metadata": {
        "id": "pObKEdw94B6v"
      }
    },
    {
      "cell_type": "code",
      "source": [
        "train_data = train_norm_final.to_numpy()\n",
        "nrow1,ncol1 = train_data.shape\n",
        "y_train = train_data[:,-1]\n",
        "X_train = train_data[:,0:ncol1-1]"
      ],
      "metadata": {
        "id": "JOiobpIN3GxH"
      },
      "execution_count": null,
      "outputs": []
    },
    {
      "cell_type": "code",
      "source": [
        "test_data = test_norm_final.to_numpy()\n",
        "nrow2,ncol2 = test_data.shape\n",
        "y_true = test_data[:,-1]\n",
        "X_test = test_data[:,0:ncol2-1]"
      ],
      "metadata": {
        "id": "SB43Ql6y3hm2"
      },
      "execution_count": null,
      "outputs": []
    },
    {
      "cell_type": "code",
      "source": [
        "scaler = StandardScaler().fit(X_train)\n",
        "X_train = scaler.transform(X_train)\n",
        "\n",
        "scaler = StandardScaler().fit(X_test)\n",
        "X_test = scaler.transform(X_test)\n",
        "\n",
        "print('Dados transformados:')\n",
        "print('Media: ', np.mean(X_train, axis = 0))\n",
        "print('Desvio Padrao:', np.std(X_train, axis = 0))\n",
        "\n",
        "print('Dados transformados:')\n",
        "print('Media: ', np.mean(X_test, axis = 0))\n",
        "print('Desvio Padrao:', np.std(X_test, axis = 0))"
      ],
      "metadata": {
        "colab": {
          "base_uri": "https://localhost:8080/"
        },
        "id": "Ijo05_jUJ4d1",
        "outputId": "ac1bf78b-ec10-45a9-f277-8dc1301e2ded"
      },
      "execution_count": null,
      "outputs": [
        {
          "output_type": "stream",
          "name": "stdout",
          "text": [
            "Dados transformados:\n",
            "Media:  [ 1.32609972e-16 -4.37921304e-16 -4.03997823e-16  4.00913870e-17\n",
            "  2.46716228e-17  1.63449501e-16 -1.01770444e-16 -5.85951041e-17]\n",
            "Desvio Padrao: [1. 1. 1. 1. 1. 1. 1. 1.]\n",
            "Dados transformados:\n",
            "Media:  [-6.47630098e-17 -7.63278329e-17 -3.60822483e-16 -9.94574793e-17\n",
            " -4.62592927e-17  5.43546689e-16  8.32667268e-17 -2.59052039e-16]\n",
            "Desvio Padrao: [1. 1. 1. 1. 1. 1. 1. 1.]\n"
          ]
        }
      ]
    },
    {
      "cell_type": "markdown",
      "source": [
        "Verificando-se a quantidade de positivos e negativos do conjunto de teste, temos:"
      ],
      "metadata": {
        "id": "Km9-OLObMkqq"
      }
    },
    {
      "cell_type": "code",
      "source": [
        "positivos = sum(y_true)\n",
        "negativos = len(y_true) - positivos\n",
        "\n",
        "print(\"Positivos: %d\" %positivos)\n",
        "print(\"Negativos: %d\" %negativos)"
      ],
      "metadata": {
        "colab": {
          "base_uri": "https://localhost:8080/"
        },
        "id": "4JLAjYyveEoc",
        "outputId": "6d541b5a-5e09-4005-d443-575b6989bbff"
      },
      "execution_count": null,
      "outputs": [
        {
          "output_type": "stream",
          "name": "stdout",
          "text": [
            "Positivos: 69\n",
            "Negativos: 123\n"
          ]
        }
      ]
    },
    {
      "cell_type": "markdown",
      "source": [
        "Ou seja, assim como no conjunto de treinamento, há mais observações com diagnósticos negativos do que positivos."
      ],
      "metadata": {
        "id": "CDngwLigMvHQ"
      }
    },
    {
      "cell_type": "markdown",
      "source": [
        "Considerando o desbalanceamento dos dados, para avaliar os classificadores serão utilizadas métricas de performance tais como: **precision**, **recall**, e **F1-score**, além do tradicional **accuracy score**.\n",
        "\n",
        "Além disso, para cada modelo, será obtida a matriz de confusão, na qual retorna o número de **Verdadeiros Positivos (True Positive - TP), Falsos Positivos (False Positive - FP), Verdadeiros Negativos (True Negative - TN)** e **Falsos Negativos (False Negative = FN).**\n",
        "\n",
        "Ou seja:\n",
        "\n",
        "\n",
        "\n",
        "*   **True Positive (TP)**: são os resultados que o modelo prevê corretamente como positivos. Os verdadeiros positivos são importantes porque indicam o desempenho do nosso modelo.\n",
        "*   **False Positive (FP)**: falsos positivos ocorrem quando o modelo prevê que uma observação pertence a uma classe que na verdade não pertence. Por exemplo, em aplicações médicas como é o caso deste trabalho, geralmente é melhor errar por excesso de cautela e ter alguns falsos positivos do que perder totalmente um diagnóstico.\n",
        "*   **True Negative (TN)**: verdadeiros negativos são os resultados que o modelo prevê corretamente como negativos. Em geral, um alto número de verdadeiros negativos indica que o modelo está funcionando bem.\n",
        "*   **False Negative (FN)**: falso negativo ocorre quando um modelo prevê uma observação como negativa quando na verdade é positiva. Os falsos negativos costumam ser mais sérios do que os falsos positivos e, portanto, é importante levá-los em consideração ao avaliar o desempenho de um modelo de classificação.\n",
        "\n"
      ],
      "metadata": {
        "id": "t-yDr6NLnJjO"
      }
    },
    {
      "cell_type": "markdown",
      "source": [
        "Sendo assim, as métricas são dadas por:\n",
        "\n",
        "$$Precision \\ Score = \\dfrac{TP}{(FP + TP)}$$\n",
        "\n",
        "$$Recall \\ score = \\dfrac{TP}{(FN + TP)}$$\n",
        "\n",
        "$$F1 \\ score = \\dfrac{2 \\cdot Precision \\ score \\cdot Recall \\ score}{Precision \\ score + Recall \\ score}$$\n"
      ],
      "metadata": {
        "id": "NDo_p_sttSOz"
      }
    },
    {
      "cell_type": "markdown",
      "source": [
        "O recall score representa a capacidade do modelo de prever corretamente os positivos dos positivos reais. Isso é diferente da precisão, que mede quantas previsões feitas pelos modelos são realmente positivas de todas as previsões positivas feitas."
      ],
      "metadata": {
        "id": "mpzTNj95v9ly"
      }
    },
    {
      "cell_type": "markdown",
      "source": [
        "Em geral, aumentar a precisão de um modelo diminuirá seu recall e vice-versa. Isso ocorre porque a precisão e o recall estão inversamente relacionados.\n",
        "\n",
        "Por exemplo, um modelo com alta precisão fará poucas previsões de falsos positivos, mas também pode perder alguns casos de verdadeiros positivos. Por outro lado, um modelo com alto recall identificará corretamente a maioria dos casos verdadeiros positivos, mas também poderá fazer mais previsões falsas positivas.\n",
        "\n",
        "O F1-Score é uma medida de performance que dá pesos iguais para o recall e precision para medir a performance do modelo em termos de acurácia, isto é, uma alternativa para a accuracy score.\n",
        "\n",
        "Neste trabalho, escolhemos utilizar o recall score como métrica para avaliar nossos classificadores. A razão disto é que achamos mais importante que os modelos para prever diagnóstico de diabetes tenham a máxima capacidade de acertar todos casos positivos, sendo que estes são os casos mais sensíveis para o médico tratar da saúde do paciente."
      ],
      "metadata": {
        "id": "bPT1xe6GvlN7"
      }
    },
    {
      "cell_type": "markdown",
      "source": [
        "Usamos cinco métodos de classificação: regressão logística, K-vizinhos, Naive Bayes, random forest e SVC. Em todos os cinco utilizamos o GridSearch para encontrar os hiperparâmetros para o melhor modelo usando o recall score como métrica de avaliação. Como os dados estão desbalanceados, também utilizamos a validação cruzada estratificada."
      ],
      "metadata": {
        "id": "TnVhA5MmSLAt"
      }
    },
    {
      "cell_type": "markdown",
      "source": [
        "### **5.1) Regressão Logística**"
      ],
      "metadata": {
        "id": "lz1NwlwtHBC4"
      }
    },
    {
      "cell_type": "markdown",
      "source": [
        "Obtendo-se a proporção de diagnósticos positivos e negativos, segue que:"
      ],
      "metadata": {
        "id": "9deAaT0_T0tx"
      }
    },
    {
      "cell_type": "code",
      "source": [
        "positive = sum(y_train)/len(y_train)\n",
        "negative = (len(y_train) - sum(y_train))/len(y_train)\n",
        "\n",
        "print(\"Diagnósticos positivos: %.2f\" %positive)\n",
        "print(\"Diagnósticos negativos: %.2f\" %negative)"
      ],
      "metadata": {
        "colab": {
          "base_uri": "https://localhost:8080/"
        },
        "id": "4-NExOZX5S7n",
        "outputId": "8aacb643-4378-4566-a6d2-822db64350f2"
      },
      "execution_count": null,
      "outputs": [
        {
          "output_type": "stream",
          "name": "stdout",
          "text": [
            "Diagnósticos positivos: 0.35\n",
            "Diagnósticos negativos: 0.65\n"
          ]
        }
      ]
    },
    {
      "cell_type": "markdown",
      "source": [
        "Ou seja, apenas $35\\%$ das observações são positivas para o diagnóstico de diabetes. Assim, utilizando-se o método da regressão logística especificando-se o peso de cada classe, temos:"
      ],
      "metadata": {
        "id": "0GzyKUE5T8Nr"
      }
    },
    {
      "cell_type": "markdown",
      "source": [
        "Usando o GridSearch para escolher os hiperparâmetros para o melhor modelo de regressão logística:"
      ],
      "metadata": {
        "id": "8-y5nbc-9S5F"
      }
    },
    {
      "cell_type": "code",
      "source": [
        "w = {0:65, 1:35} #peso das classes\n",
        "cv = StratifiedKFold(n_splits=10, shuffle=True, random_state=1)\n",
        "parameters = {'penalty' : ['l1','l2'],\n",
        "              'C': np.logspace(-3,3,7),\n",
        "              'solver': ['newton-cg', 'lbfgs', 'liblinear'],\n",
        "              'max_iter':[1000],\n",
        "              'class_weight':[w]}\n",
        "\n",
        "model = LogisticRegression()\n",
        "best_model_logistic_regression = GridSearchCV(model, parameters, cv = cv, scoring = 'recall')\n",
        "best_model_logistic_regression.fit(X_train,y_train)"
      ],
      "metadata": {
        "colab": {
          "base_uri": "https://localhost:8080/"
        },
        "id": "dGD-HcKj9dKu",
        "outputId": "dc5ea490-6458-4e35-9207-03ee7368833b"
      },
      "execution_count": null,
      "outputs": [
        {
          "output_type": "stream",
          "name": "stderr",
          "text": [
            "/usr/local/lib/python3.8/dist-packages/sklearn/model_selection/_validation.py:372: FitFailedWarning: \n",
            "140 fits failed out of a total of 420.\n",
            "The score on these train-test partitions for these parameters will be set to nan.\n",
            "If these failures are not expected, you can try to debug them by setting error_score='raise'.\n",
            "\n",
            "Below are more details about the failures:\n",
            "--------------------------------------------------------------------------------\n",
            "70 fits failed with the following error:\n",
            "Traceback (most recent call last):\n",
            "  File \"/usr/local/lib/python3.8/dist-packages/sklearn/model_selection/_validation.py\", line 680, in _fit_and_score\n",
            "    estimator.fit(X_train, y_train, **fit_params)\n",
            "  File \"/usr/local/lib/python3.8/dist-packages/sklearn/linear_model/_logistic.py\", line 1461, in fit\n",
            "    solver = _check_solver(self.solver, self.penalty, self.dual)\n",
            "  File \"/usr/local/lib/python3.8/dist-packages/sklearn/linear_model/_logistic.py\", line 447, in _check_solver\n",
            "    raise ValueError(\n",
            "ValueError: Solver newton-cg supports only 'l2' or 'none' penalties, got l1 penalty.\n",
            "\n",
            "--------------------------------------------------------------------------------\n",
            "70 fits failed with the following error:\n",
            "Traceback (most recent call last):\n",
            "  File \"/usr/local/lib/python3.8/dist-packages/sklearn/model_selection/_validation.py\", line 680, in _fit_and_score\n",
            "    estimator.fit(X_train, y_train, **fit_params)\n",
            "  File \"/usr/local/lib/python3.8/dist-packages/sklearn/linear_model/_logistic.py\", line 1461, in fit\n",
            "    solver = _check_solver(self.solver, self.penalty, self.dual)\n",
            "  File \"/usr/local/lib/python3.8/dist-packages/sklearn/linear_model/_logistic.py\", line 447, in _check_solver\n",
            "    raise ValueError(\n",
            "ValueError: Solver lbfgs supports only 'l2' or 'none' penalties, got l1 penalty.\n",
            "\n",
            "  warnings.warn(some_fits_failed_message, FitFailedWarning)\n",
            "/usr/local/lib/python3.8/dist-packages/sklearn/model_selection/_search.py:969: UserWarning: One or more of the test scores are non-finite: [       nan        nan 0.38210526 0.35184211 0.35184211 0.44736842\n",
            "        nan        nan 0.42736842 0.43736842 0.43736842 0.44236842\n",
            "        nan        nan 0.44236842 0.44236842 0.44236842 0.44236842\n",
            "        nan        nan 0.43736842 0.43736842 0.43736842 0.43736842\n",
            "        nan        nan 0.43736842 0.43736842 0.43736842 0.43736842\n",
            "        nan        nan 0.43736842 0.43736842 0.43736842 0.43736842\n",
            "        nan        nan 0.43736842 0.43736842 0.43736842 0.43736842]\n",
            "  warnings.warn(\n"
          ]
        },
        {
          "output_type": "execute_result",
          "data": {
            "text/plain": [
              "GridSearchCV(cv=StratifiedKFold(n_splits=10, random_state=1, shuffle=True),\n",
              "             estimator=LogisticRegression(),\n",
              "             param_grid={'C': array([1.e-03, 1.e-02, 1.e-01, 1.e+00, 1.e+01, 1.e+02, 1.e+03]),\n",
              "                         'class_weight': [{0: 65, 1: 35}], 'max_iter': [1000],\n",
              "                         'penalty': ['l1', 'l2'],\n",
              "                         'solver': ['newton-cg', 'lbfgs', 'liblinear']},\n",
              "             scoring='recall')"
            ]
          },
          "metadata": {},
          "execution_count": 61
        }
      ]
    },
    {
      "cell_type": "code",
      "source": [
        "C, penalty, solver = list(best_model_logistic_regression.best_params_.values())[0],list(best_model_logistic_regression.best_params_.values())[3],list(best_model_logistic_regression.best_params_.values())[4]\n",
        "print(f'Hiperparâmetros para o melhor modelo de regressão logística: \\nC = {C} \\npenalty = {penalty} \\nsolver = {solver}')"
      ],
      "metadata": {
        "colab": {
          "base_uri": "https://localhost:8080/"
        },
        "id": "8_slWkgk9nvo",
        "outputId": "12cf9df6-3ba9-4dbf-bbc5-34f5f8eb066b"
      },
      "execution_count": null,
      "outputs": [
        {
          "output_type": "stream",
          "name": "stdout",
          "text": [
            "Hiperparâmetros para o melhor modelo de regressão logística: \n",
            "C = 0.001 \n",
            "penalty = l2 \n",
            "solver = liblinear\n"
          ]
        }
      ]
    },
    {
      "cell_type": "code",
      "source": [
        "print(f'Recall do melhor modelo no conjunto de treinamento: {best_model_logistic_regression.best_score_}')"
      ],
      "metadata": {
        "colab": {
          "base_uri": "https://localhost:8080/"
        },
        "id": "jW2g_C9KBmQ4",
        "outputId": "7af4d7b0-7251-43bb-c35b-bb189272e2f1"
      },
      "execution_count": null,
      "outputs": [
        {
          "output_type": "stream",
          "name": "stdout",
          "text": [
            "Recall do melhor modelo no conjunto de treinamento: 0.4473684210526316\n"
          ]
        }
      ]
    },
    {
      "cell_type": "markdown",
      "source": [
        "Usamos a matriz de confusão para verificar os acertos e erros do modelo de regressão logística obtido pelo GridSearch:"
      ],
      "metadata": {
        "id": "0QGbxyE3F40W"
      }
    },
    {
      "cell_type": "code",
      "source": [
        "y_pred_logistic = best_model_logistic_regression.predict(X_test) \n",
        "\n",
        "# Calculate the confusion matrix\n",
        "conf_matrix = confusion_matrix(y_true=y_true, y_pred=y_pred_logistic)\n",
        "\n",
        "# Print the confusion matrix using Matplotlib\n",
        "fig, ax = plt.subplots(figsize=(5, 5))\n",
        "ax.matshow(conf_matrix, cmap=plt.cm.Oranges, alpha=0.3)\n",
        "for i in range(conf_matrix.shape[0]):\n",
        "    for j in range(conf_matrix.shape[1]):\n",
        "        ax.text(x=j, y=i,s=conf_matrix[i, j], va='center', ha='center', size='xx-large')\n",
        " \n",
        "plt.xlabel('Predictions', fontsize=18)\n",
        "plt.ylabel('Actuals', fontsize=18)\n",
        "plt.title('Confusion Matrix', fontsize=18)\n",
        "plt.show()"
      ],
      "metadata": {
        "colab": {
          "base_uri": "https://localhost:8080/",
          "height": 358
        },
        "id": "7ZnRFizr9njx",
        "outputId": "d85787c9-dcfa-44f8-8fd2-26c055495389"
      },
      "execution_count": null,
      "outputs": [
        {
          "output_type": "display_data",
          "data": {
            "text/plain": [
              "<Figure size 360x360 with 1 Axes>"
            ],
            "image/png": "[encoded data removed]"
          },
          "metadata": {}
        }
      ]
    },
    {
      "cell_type": "code",
      "source": [
        "print('Accuracy: %.3f' % accuracy_score(y_true, y_pred_logistic))\n",
        "print('Precision: %.3f' % precision_score(y_true, y_pred_logistic))\n",
        "print('Recall: %.3f' % recall_score(y_true, y_pred_logistic))\n",
        "print('F1 Score: %.3f' % f1_score(y_true, y_pred_logistic))"
      ],
      "metadata": {
        "colab": {
          "base_uri": "https://localhost:8080/"
        },
        "id": "UwUAl524GOd9",
        "outputId": "526a5e55-2d5c-4bb6-e222-e5fb36b227d4"
      },
      "execution_count": null,
      "outputs": [
        {
          "output_type": "stream",
          "name": "stdout",
          "text": [
            "Accuracy: 0.745\n",
            "Precision: 0.738\n",
            "Recall: 0.449\n",
            "F1 Score: 0.559\n"
          ]
        }
      ]
    },
    {
      "cell_type": "markdown",
      "source": [
        "Aqui nós percebemos a importância de utilizar diferentes métricas para avaliar um modelo. A matriz de confusão mostra que o classificador de regressão logística consegue acerta a maioria dos diagnósticos negativos, mas como os dados estão desbalanceados, apesar de o modelo ter uma acurácia razoável (0.745), ele tem um recall score bastante baixo (0.449). Isto é um problema, pois significa que o modelo deixa de detectar muitos casos positivos de diabetes (ele retorna muitos falsos negativos)."
      ],
      "metadata": {
        "id": "PaMZjsvoGdBv"
      }
    },
    {
      "cell_type": "markdown",
      "source": [
        "### **5.2) K-vizinhos**"
      ],
      "metadata": {
        "id": "xX0ZFRPxHHeZ"
      }
    },
    {
      "cell_type": "markdown",
      "source": [
        "Fazemos o GridSearch para o classificador K-vizinhos:"
      ],
      "metadata": {
        "id": "Z_fD3zXiIM01"
      }
    },
    {
      "cell_type": "code",
      "source": [
        "cv = StratifiedKFold(n_splits=10, shuffle=True, random_state=1)\n",
        "parameters = {'n_neighbors' : [i for i in range(1,50)],\n",
        "              'weights' : ['uniform','distance'],\n",
        "              'metric' : ['euclidean','manhattan']}\n",
        "model = KNeighborsClassifier()\n",
        "best_model_knn = GridSearchCV(model, parameters, cv = cv, scoring = 'recall')\n",
        "best_model_knn.fit(X_train,y_train)"
      ],
      "metadata": {
        "colab": {
          "base_uri": "https://localhost:8080/"
        },
        "id": "vlHsLqllH2sM",
        "outputId": "8646671c-0c15-48d1-aef0-82030e50fa17"
      },
      "execution_count": null,
      "outputs": [
        {
          "output_type": "execute_result",
          "data": {
            "text/plain": [
              "GridSearchCV(cv=StratifiedKFold(n_splits=10, random_state=1, shuffle=True),\n",
              "             estimator=KNeighborsClassifier(),\n",
              "             param_grid={'metric': ['euclidean', 'manhattan'],\n",
              "                         'n_neighbors': [1, 2, 3, 4, 5, 6, 7, 8, 9, 10, 11, 12,\n",
              "                                         13, 14, 15, 16, 17, 18, 19, 20, 21, 22,\n",
              "                                         23, 24, 25, 26, 27, 28, 29, 30, ...],\n",
              "                         'weights': ['uniform', 'distance']},\n",
              "             scoring='recall')"
            ]
          },
          "metadata": {},
          "execution_count": 66
        }
      ]
    },
    {
      "cell_type": "code",
      "source": [
        "metric, n_neighbors, weights = list(best_model_knn.best_params_.values())[0],list(best_model_knn.best_params_.values())[1],list(best_model_knn.best_params_.values())[2]\n",
        "print(f'Hiperparâmetros para o melhor modelo de KNN usando recall como score: \\nmetric = {metric} \\nn_neighbors = {n_neighbors} \\nweights = {weights}')"
      ],
      "metadata": {
        "colab": {
          "base_uri": "https://localhost:8080/"
        },
        "id": "EV3Qj1BuH2o7",
        "outputId": "02096701-b344-4016-eec9-482bfbfc68f3"
      },
      "execution_count": null,
      "outputs": [
        {
          "output_type": "stream",
          "name": "stdout",
          "text": [
            "Hiperparâmetros para o melhor modelo de KNN usando recall como score: \n",
            "metric = manhattan \n",
            "n_neighbors = 8 \n",
            "weights = distance\n"
          ]
        }
      ]
    },
    {
      "cell_type": "code",
      "source": [
        "print(f'Recall do melhor modelo no conjunto de treinamento: {best_model_knn.best_score_}')"
      ],
      "metadata": {
        "colab": {
          "base_uri": "https://localhost:8080/"
        },
        "id": "nOgxEYj5H2lu",
        "outputId": "fa92c475-448c-440c-8777-f95a44920b22"
      },
      "execution_count": null,
      "outputs": [
        {
          "output_type": "stream",
          "name": "stdout",
          "text": [
            "Recall do melhor modelo no conjunto de treinamento: 0.6186842105263157\n"
          ]
        }
      ]
    },
    {
      "cell_type": "markdown",
      "source": [
        "Fazemos a matriz de confusão para avaliar o modelo de K-vizinhos obtido pelo GridSearch:"
      ],
      "metadata": {
        "id": "i8PhkQ8qJJ0Q"
      }
    },
    {
      "cell_type": "code",
      "source": [
        "y_pred_knn = best_model_knn.predict(X_test) \n",
        "\n",
        "# Calculate the confusion matrix\n",
        "conf_matrix = confusion_matrix(y_true=y_true, y_pred=y_pred_knn)\n",
        "\n",
        "# Print the confusion matrix using Matplotlib\n",
        "fig, ax = plt.subplots(figsize=(5, 5))\n",
        "ax.matshow(conf_matrix, cmap=plt.cm.Oranges, alpha=0.3)\n",
        "for i in range(conf_matrix.shape[0]):\n",
        "    for j in range(conf_matrix.shape[1]):\n",
        "        ax.text(x=j, y=i,s=conf_matrix[i, j], va='center', ha='center', size='xx-large')\n",
        " \n",
        "plt.xlabel('Predictions', fontsize=18)\n",
        "plt.ylabel('Actuals', fontsize=18)\n",
        "plt.title('Confusion Matrix', fontsize=18)\n",
        "plt.show()"
      ],
      "metadata": {
        "colab": {
          "base_uri": "https://localhost:8080/",
          "height": 358
        },
        "id": "PWSDcchwH2jc",
        "outputId": "0f49c46c-1c56-4568-b913-6c25f09b85f1"
      },
      "execution_count": null,
      "outputs": [
        {
          "output_type": "display_data",
          "data": {
            "text/plain": [
              "<Figure size 360x360 with 1 Axes>"
            ],
            "image/png": "[encoded data removed]"
          },
          "metadata": {}
        }
      ]
    },
    {
      "cell_type": "code",
      "source": [
        "print('Accuracy: %.3f' % accuracy_score(y_true, y_pred_knn))\n",
        "print('Precision: %.3f' % precision_score(y_true, y_pred_knn))\n",
        "print('Recall: %.3f' % recall_score(y_true, y_pred_knn))\n",
        "print('F1 Score: %.3f' % f1_score(y_true, y_pred_knn))"
      ],
      "metadata": {
        "colab": {
          "base_uri": "https://localhost:8080/"
        },
        "id": "dcEDnRMCH2g4",
        "outputId": "ea9d1a54-aded-45b0-fbe2-eb8cdea72414"
      },
      "execution_count": null,
      "outputs": [
        {
          "output_type": "stream",
          "name": "stdout",
          "text": [
            "Accuracy: 0.729\n",
            "Precision: 0.639\n",
            "Recall: 0.565\n",
            "F1 Score: 0.600\n"
          ]
        }
      ]
    },
    {
      "cell_type": "markdown",
      "source": [
        "Percebe-se que o classificador K-vizinhos foi um pouco melhor do que o classificador por regressão logística, considerando o seu recall mais elevado. Porém, ainda não consideramos que é um recall razoável (apenas 56,5% dos casos positivos de diabetes são detectados)."
      ],
      "metadata": {
        "id": "PoVSQlBRJWBY"
      }
    },
    {
      "cell_type": "markdown",
      "source": [
        "### **5.3) Naive Bayes**"
      ],
      "metadata": {
        "id": "qEQl-S90HQqa"
      }
    },
    {
      "cell_type": "markdown",
      "source": [
        "Fazemos o GridSearch para o classificador Naive Bayes:"
      ],
      "metadata": {
        "id": "TX8ovpvNJ9P8"
      }
    },
    {
      "cell_type": "code",
      "source": [
        "cv = StratifiedKFold(n_splits=10, shuffle=True, random_state=1)\n",
        "parameters = {'var_smoothing' : np.logspace(0,-9, num=100)}\n",
        "model = GaussianNB()\n",
        "best_model_naive_bayes = GridSearchCV(model, parameters, cv = cv, scoring = 'recall')\n",
        "best_model_naive_bayes.fit(X_train,y_train)"
      ],
      "metadata": {
        "colab": {
          "base_uri": "https://localhost:8080/"
        },
        "id": "eGGCeNH_KEuV",
        "outputId": "302acca0-7a5f-4d19-a404-adeb574bc53b"
      },
      "execution_count": null,
      "outputs": [
        {
          "output_type": "execute_result",
          "data": {
            "text/plain": [
              "GridSearchCV(cv=StratifiedKFold(n_splits=10, random_state=1, shuffle=True),\n",
              "             estimator=GaussianNB(),\n",
              "             param_grid={'var_smoothing': array([1.00000000e+00, 8.11130831e-01, 6.57933225e-01, 5.33669923e-01,\n",
              "       4.32876128e-01, 3.51119173e-01, 2.84803587e-01, 2.31012970e-01,\n",
              "       1.87381742e-01, 1.51991108e-01, 1.23284674e-01, 1.00000000e-01,\n",
              "       8.11130831e-02, 6.57933225e-02, 5.3366992...\n",
              "       1.23284674e-07, 1.00000000e-07, 8.11130831e-08, 6.57933225e-08,\n",
              "       5.33669923e-08, 4.32876128e-08, 3.51119173e-08, 2.84803587e-08,\n",
              "       2.31012970e-08, 1.87381742e-08, 1.51991108e-08, 1.23284674e-08,\n",
              "       1.00000000e-08, 8.11130831e-09, 6.57933225e-09, 5.33669923e-09,\n",
              "       4.32876128e-09, 3.51119173e-09, 2.84803587e-09, 2.31012970e-09,\n",
              "       1.87381742e-09, 1.51991108e-09, 1.23284674e-09, 1.00000000e-09])},\n",
              "             scoring='recall')"
            ]
          },
          "metadata": {},
          "execution_count": 71
        }
      ]
    },
    {
      "cell_type": "code",
      "source": [
        "var_smoothing = list(best_model_naive_bayes.best_params_.values())[0]\n",
        "print(f'Hiperparâmetro para o melhor modelo de Naive Bayes usando recall como score: \\nvar_smoothing = {var_smoothing}')"
      ],
      "metadata": {
        "colab": {
          "base_uri": "https://localhost:8080/"
        },
        "id": "VSttBKXIKFGV",
        "outputId": "a5af8623-5dc9-4c9d-f424-02879f9b36de"
      },
      "execution_count": null,
      "outputs": [
        {
          "output_type": "stream",
          "name": "stdout",
          "text": [
            "Hiperparâmetro para o melhor modelo de Naive Bayes usando recall como score: \n",
            "var_smoothing = 0.08111308307896872\n"
          ]
        }
      ]
    },
    {
      "cell_type": "code",
      "source": [
        "print(f'Recall do melhor modelo no conjunto de treinamento: {best_model_naive_bayes.best_score_}')"
      ],
      "metadata": {
        "colab": {
          "base_uri": "https://localhost:8080/"
        },
        "id": "7baVlkmmLfC1",
        "outputId": "642f73db-23e7-4763-92c7-78ed05d467c8"
      },
      "execution_count": null,
      "outputs": [
        {
          "output_type": "stream",
          "name": "stdout",
          "text": [
            "Recall do melhor modelo no conjunto de treinamento: 0.5978947368421054\n"
          ]
        }
      ]
    },
    {
      "cell_type": "markdown",
      "source": [
        "Fazemos a matriz de confusão para avaliar o modelo de Naive Bayes obtido pelo GridSearch:"
      ],
      "metadata": {
        "id": "5xLz_H6MKqUF"
      }
    },
    {
      "cell_type": "code",
      "source": [
        "y_pred_naive_bayes = best_model_naive_bayes.predict(X_test) \n",
        "\n",
        "# Calculate the confusion matrix\n",
        "conf_matrix = confusion_matrix(y_true=y_true, y_pred=y_pred_naive_bayes)\n",
        "\n",
        "# Print the confusion matrix using Matplotlib\n",
        "fig, ax = plt.subplots(figsize=(5, 5))\n",
        "ax.matshow(conf_matrix, cmap=plt.cm.Oranges, alpha=0.3)\n",
        "for i in range(conf_matrix.shape[0]):\n",
        "    for j in range(conf_matrix.shape[1]):\n",
        "        ax.text(x=j, y=i,s=conf_matrix[i, j], va='center', ha='center', size='xx-large')\n",
        " \n",
        "plt.xlabel('Predictions', fontsize=18)\n",
        "plt.ylabel('Actuals', fontsize=18)\n",
        "plt.title('Confusion Matrix', fontsize=18)\n",
        "plt.show()"
      ],
      "metadata": {
        "colab": {
          "base_uri": "https://localhost:8080/",
          "height": 358
        },
        "id": "ErbTGiNmKFC-",
        "outputId": "62a2f8c2-7ade-451b-c005-9836485e9c51"
      },
      "execution_count": null,
      "outputs": [
        {
          "output_type": "display_data",
          "data": {
            "text/plain": [
              "<Figure size 360x360 with 1 Axes>"
            ],
            "image/png": "[encoded data removed]"
          },
          "metadata": {}
        }
      ]
    },
    {
      "cell_type": "code",
      "source": [
        "print('Accuracy: %.3f' % accuracy_score(y_true, y_pred_naive_bayes))\n",
        "print('Precision: %.3f' % precision_score(y_true, y_pred_naive_bayes))\n",
        "print('Recall: %.3f' % recall_score(y_true, y_pred_naive_bayes))\n",
        "print('F1 Score: %.3f' % f1_score(y_true, y_pred_naive_bayes))"
      ],
      "metadata": {
        "colab": {
          "base_uri": "https://localhost:8080/"
        },
        "id": "uD3QuG9TKFAN",
        "outputId": "8ad33954-0e77-49ef-b586-88e9b14f04d2"
      },
      "execution_count": null,
      "outputs": [
        {
          "output_type": "stream",
          "name": "stdout",
          "text": [
            "Accuracy: 0.740\n",
            "Precision: 0.642\n",
            "Recall: 0.623\n",
            "F1 Score: 0.632\n"
          ]
        }
      ]
    },
    {
      "cell_type": "markdown",
      "source": [
        "O classificador Naive Bayes se mostrou bem melhor do que os dois anteriores para detectar casos positivos de diabetes, como pode ser percebido pelo valor mais elevado de recall. Este modelo conseguiu detectar 62,3% dos casos positivos."
      ],
      "metadata": {
        "id": "zJlwbeaiL0IR"
      }
    },
    {
      "cell_type": "markdown",
      "source": [
        "### **5.4) Random Forest**"
      ],
      "metadata": {
        "id": "DvyE51_qHZ9v"
      }
    },
    {
      "cell_type": "markdown",
      "source": [
        "Fazemos o GridSearch para o classificador Random Forest:"
      ],
      "metadata": {
        "id": "AFYyjpVSMNIj"
      }
    },
    {
      "cell_type": "code",
      "source": [
        "cv = StratifiedKFold(n_splits=10, shuffle=True, random_state=1)\n",
        "parameters = {'n_estimators' : [i for i in range(1,50)],\n",
        "               'criterion' : ['gini','entropy']}\n",
        "model = RandomForestClassifier(random_state=42)\n",
        "best_model_random_forest = GridSearchCV(model, parameters, cv = cv, scoring = 'recall')\n",
        "best_model_random_forest.fit(X_train,y_train)"
      ],
      "metadata": {
        "colab": {
          "base_uri": "https://localhost:8080/"
        },
        "id": "PHHzvLoFMTOC",
        "outputId": "31a1306f-d48d-4596-960b-b8b166f10184"
      },
      "execution_count": null,
      "outputs": [
        {
          "output_type": "execute_result",
          "data": {
            "text/plain": [
              "GridSearchCV(cv=StratifiedKFold(n_splits=10, random_state=1, shuffle=True),\n",
              "             estimator=RandomForestClassifier(random_state=42),\n",
              "             param_grid={'criterion': ['gini', 'entropy'],\n",
              "                         'n_estimators': [1, 2, 3, 4, 5, 6, 7, 8, 9, 10, 11, 12,\n",
              "                                          13, 14, 15, 16, 17, 18, 19, 20, 21,\n",
              "                                          22, 23, 24, 25, 26, 27, 28, 29, 30, ...]},\n",
              "             scoring='recall')"
            ]
          },
          "metadata": {},
          "execution_count": 76
        }
      ]
    },
    {
      "cell_type": "code",
      "source": [
        "criterion, n_estimators = list(best_model_random_forest.best_params_.values())[0],list(best_model_random_forest.best_params_.values())[1]\n",
        "print(f'Hiperparâmetros para o melhor modelo de random forest usando recall como score: \\ncriterion = {criterion} \\nn_estimators = {n_estimators}')"
      ],
      "metadata": {
        "colab": {
          "base_uri": "https://localhost:8080/"
        },
        "id": "GxwoEEoTMUsa",
        "outputId": "e75e6888-46a4-46de-e5b8-3097e162cc12"
      },
      "execution_count": null,
      "outputs": [
        {
          "output_type": "stream",
          "name": "stdout",
          "text": [
            "Hiperparâmetros para o melhor modelo de random forest usando recall como score: \n",
            "criterion = entropy \n",
            "n_estimators = 27\n"
          ]
        }
      ]
    },
    {
      "cell_type": "code",
      "source": [
        "print(f'Recall do melhor modelo no conjunto de treinamento: {best_model_random_forest.best_score_}')"
      ],
      "metadata": {
        "colab": {
          "base_uri": "https://localhost:8080/"
        },
        "id": "C9RjUJhmMUo3",
        "outputId": "290d3090-f8e9-46fa-d35a-8b0130f729f6"
      },
      "execution_count": null,
      "outputs": [
        {
          "output_type": "stream",
          "name": "stdout",
          "text": [
            "Recall do melhor modelo no conjunto de treinamento: 0.658421052631579\n"
          ]
        }
      ]
    },
    {
      "cell_type": "markdown",
      "source": [
        "Fazemos a matriz de confusão para avaliar o modelo de Random Forest obtido pelo GridSearch:"
      ],
      "metadata": {
        "id": "gkunSySaMwzN"
      }
    },
    {
      "cell_type": "code",
      "source": [
        "y_pred_random_forest = best_model_random_forest.predict(X_test) \n",
        "\n",
        "# Calculate the confusion matrix\n",
        "conf_matrix = confusion_matrix(y_true=y_true, y_pred=y_pred_random_forest)\n",
        "\n",
        "# Print the confusion matrix using Matplotlib\n",
        "fig, ax = plt.subplots(figsize=(5, 5))\n",
        "ax.matshow(conf_matrix, cmap=plt.cm.Oranges, alpha=0.3)\n",
        "for i in range(conf_matrix.shape[0]):\n",
        "    for j in range(conf_matrix.shape[1]):\n",
        "        ax.text(x=j, y=i,s=conf_matrix[i, j], va='center', ha='center', size='xx-large')\n",
        " \n",
        "plt.xlabel('Predictions', fontsize=18)\n",
        "plt.ylabel('Actuals', fontsize=18)\n",
        "plt.title('Confusion Matrix', fontsize=18)\n",
        "plt.show()"
      ],
      "metadata": {
        "colab": {
          "base_uri": "https://localhost:8080/",
          "height": 358
        },
        "id": "P_A5Vtf5MUlK",
        "outputId": "5a1a8e3e-56b5-4311-cf6b-c55f4e51874b"
      },
      "execution_count": null,
      "outputs": [
        {
          "output_type": "display_data",
          "data": {
            "text/plain": [
              "<Figure size 360x360 with 1 Axes>"
            ],
            "image/png": "[encoded data removed]"
          },
          "metadata": {}
        }
      ]
    },
    {
      "cell_type": "code",
      "source": [
        "print('Accuracy: %.3f' % accuracy_score(y_true, y_pred_random_forest))\n",
        "print('Precision: %.3f' % precision_score(y_true, y_pred_random_forest))\n",
        "print('Recall: %.3f' % recall_score(y_true, y_pred_random_forest))\n",
        "print('F1 Score: %.3f' % f1_score(y_true, y_pred_random_forest))"
      ],
      "metadata": {
        "colab": {
          "base_uri": "https://localhost:8080/"
        },
        "id": "W-_aT8HcMUey",
        "outputId": "b09790d3-c98c-4363-c720-e93b9ce220f1"
      },
      "execution_count": null,
      "outputs": [
        {
          "output_type": "stream",
          "name": "stdout",
          "text": [
            "Accuracy: 0.755\n",
            "Precision: 0.662\n",
            "Recall: 0.652\n",
            "F1 Score: 0.657\n"
          ]
        }
      ]
    },
    {
      "cell_type": "markdown",
      "source": [
        "Este classificador usando Random Forest também obteve um recall razoável (0.652), se saindo um pouco melhor do que o classificador Naive Bayes.\n",
        "\n",
        "Também podemos observar quais variáveis são mais importantes para o modelo de Random Forest:"
      ],
      "metadata": {
        "id": "_w7-QgNBO6sO"
      }
    },
    {
      "cell_type": "code",
      "source": [
        "model = RandomForestClassifier(n_estimators=n_estimators,criterion=criterion,random_state=42)\n",
        "model.fit(X_train,y_train)\n",
        "\n",
        "features_names = train_norm_final.columns\n",
        "\n",
        "importances = model.feature_importances_\n",
        "indices = np.argsort(importances)\n",
        "lmeas_order = []\n",
        "for i in indices:\n",
        "    lmeas_order.append(features_names[i])\n",
        "plt.figure(figsize=(12,8))\n",
        "plt.barh(range(len(indices)), importances[indices], color='b', align='center')\n",
        "plt.yticks(range(len(indices)), lmeas_order, fontsize=15)\n",
        "plt.xlabel('Relative Importance',fontsize=15)\n",
        "plt.xticks(color='k', size=20)\n",
        "plt.yticks(color='k', size=20)\n",
        "plt.show()"
      ],
      "metadata": {
        "colab": {
          "base_uri": "https://localhost:8080/",
          "height": 513
        },
        "id": "0oNT3aSdLMog",
        "outputId": "7d209b68-bb08-4ce5-e2e8-19c9134f2bef"
      },
      "execution_count": null,
      "outputs": [
        {
          "output_type": "display_data",
          "data": {
            "text/plain": [
              "<Figure size 864x576 with 1 Axes>"
            ],
            "image/png": "[encoded data removed]"
          },
          "metadata": {}
        }
      ]
    },
    {
      "cell_type": "markdown",
      "source": [
        "O nível de glicose no sangue se destaca como a variável mais importante para o classificador fazer previsões, ao passo que o nível de insulina, número de vezes que a pessoa engravidou e pressão sanguínea são menos relevantes."
      ],
      "metadata": {
        "id": "yBT4qScZLd16"
      }
    },
    {
      "cell_type": "markdown",
      "source": [
        "### **5.5) SVC**"
      ],
      "metadata": {
        "id": "jJsSKSmvADRu"
      }
    },
    {
      "cell_type": "markdown",
      "source": [
        "Fazemos o GridSearch para o classificador SVC:"
      ],
      "metadata": {
        "id": "IuONC89CP3Sa"
      }
    },
    {
      "cell_type": "code",
      "source": [
        "cv = StratifiedKFold(n_splits=10, shuffle=True, random_state=1)\n",
        "parameters = {'C': [0.1,1, 10, 100],\n",
        "              'gamma': [1,0.1,0.01,0.001],\n",
        "              'kernel': ['rbf', 'sigmoid', 'linear']}\n",
        "\n",
        "model = SVC(probability=True)\n",
        "best_model_svc = GridSearchCV(model, parameters, cv = cv, scoring = 'recall')\n",
        "best_model_svc.fit(X_train,y_train)"
      ],
      "metadata": {
        "colab": {
          "base_uri": "https://localhost:8080/"
        },
        "id": "Ib5rsyHmP3sy",
        "outputId": "ee0d1166-f5b5-4d2c-ca30-7602d874d889"
      },
      "execution_count": null,
      "outputs": [
        {
          "output_type": "execute_result",
          "data": {
            "text/plain": [
              "GridSearchCV(cv=StratifiedKFold(n_splits=10, random_state=1, shuffle=True),\n",
              "             estimator=SVC(probability=True),\n",
              "             param_grid={'C': [0.1, 1, 10, 100], 'gamma': [1, 0.1, 0.01, 0.001],\n",
              "                         'kernel': ['rbf', 'sigmoid', 'linear']},\n",
              "             scoring='recall')"
            ]
          },
          "metadata": {},
          "execution_count": 82
        }
      ]
    },
    {
      "cell_type": "code",
      "source": [
        "C, gamma, kernel = list(best_model_svc.best_params_.values())[0],list(best_model_svc.best_params_.values())[1],list(best_model_svc.best_params_.values())[2]\n",
        "print(f'Hiperparâmetros para o melhor modelo de SVC usando recall como score: \\nC = {C} \\ngamma = {gamma} \\nkernel = {kernel}')"
      ],
      "metadata": {
        "colab": {
          "base_uri": "https://localhost:8080/"
        },
        "id": "cSWOdNu7P4y2",
        "outputId": "23ef9177-2f4a-4050-80e7-f542edc8b47b"
      },
      "execution_count": null,
      "outputs": [
        {
          "output_type": "stream",
          "name": "stdout",
          "text": [
            "Hiperparâmetros para o melhor modelo de SVC usando recall como score: \n",
            "C = 10 \n",
            "gamma = 0.1 \n",
            "kernel = sigmoid\n"
          ]
        }
      ]
    },
    {
      "cell_type": "code",
      "source": [
        "print(f'Recall do melhor modelo no conjunto de treinamento: {best_model_svc.best_score_}')"
      ],
      "metadata": {
        "colab": {
          "base_uri": "https://localhost:8080/"
        },
        "id": "b9MddwvFP4vC",
        "outputId": "f6dc7780-79ad-495c-b9bb-ace176dbeac3"
      },
      "execution_count": null,
      "outputs": [
        {
          "output_type": "stream",
          "name": "stdout",
          "text": [
            "Recall do melhor modelo no conjunto de treinamento: 0.598421052631579\n"
          ]
        }
      ]
    },
    {
      "cell_type": "markdown",
      "source": [
        "Fazemos a matriz de confusão para avaliar o modelo de SVC obtido pelo GridSearch:"
      ],
      "metadata": {
        "id": "-itJpFfWRINc"
      }
    },
    {
      "cell_type": "code",
      "source": [
        "y_pred_svc = best_model_svc.predict(X_test)\n",
        "\n",
        "# Calculate the confusion matrix\n",
        "conf_matrix = confusion_matrix(y_true=y_true, y_pred=y_pred_svc)\n",
        "\n",
        "# Print the confusion matrix using Matplotlib\n",
        "fig, ax = plt.subplots(figsize=(5, 5))\n",
        "ax.matshow(conf_matrix, cmap=plt.cm.Oranges, alpha=0.3)\n",
        "for i in range(conf_matrix.shape[0]):\n",
        "    for j in range(conf_matrix.shape[1]):\n",
        "        ax.text(x=j, y=i,s=conf_matrix[i, j], va='center', ha='center', size='xx-large')\n",
        " \n",
        "plt.xlabel('Predictions', fontsize=18)\n",
        "plt.ylabel('Actuals', fontsize=18)\n",
        "plt.title('Confusion Matrix', fontsize=18)\n",
        "plt.show()"
      ],
      "metadata": {
        "colab": {
          "base_uri": "https://localhost:8080/",
          "height": 358
        },
        "id": "E0-tC8H-P4tR",
        "outputId": "6f1cf3b8-c66d-4d41-83f0-5f89f6eb8ccf"
      },
      "execution_count": null,
      "outputs": [
        {
          "output_type": "display_data",
          "data": {
            "text/plain": [
              "<Figure size 360x360 with 1 Axes>"
            ],
            "image/png": "[encoded data removed]"
          },
          "metadata": {}
        }
      ]
    },
    {
      "cell_type": "code",
      "source": [
        "print('Accuracy: %.3f' % accuracy_score(y_true, y_pred_svc))\n",
        "print('Precision: %.3f' % precision_score(y_true, y_pred_svc))\n",
        "print('Recall: %.3f' % recall_score(y_true, y_pred_svc))\n",
        "print('F1 Score: %.3f' % f1_score(y_true, y_pred_svc))"
      ],
      "metadata": {
        "colab": {
          "base_uri": "https://localhost:8080/"
        },
        "id": "Y-apghMDP4ql",
        "outputId": "1fceefb6-0ecf-4980-ab45-05cd3308c17e"
      },
      "execution_count": null,
      "outputs": [
        {
          "output_type": "stream",
          "name": "stdout",
          "text": [
            "Accuracy: 0.682\n",
            "Precision: 0.565\n",
            "Recall: 0.507\n",
            "F1 Score: 0.534\n"
          ]
        }
      ]
    },
    {
      "cell_type": "markdown",
      "source": [
        "Este classificador se mostrou pouco eficiente para detectar casos positivos de diabetes, com um recall score de apenas 0.507."
      ],
      "metadata": {
        "id": "j6NU8p3CX1w2"
      }
    },
    {
      "cell_type": "markdown",
      "source": [
        "## **6) Comparação dos modelos de classificação**"
      ],
      "metadata": {
        "id": "UfTng92EJC1_"
      }
    },
    {
      "cell_type": "markdown",
      "source": [
        "A curva ROC é um gráfico que mostra a relação entre a taxa de verdadeiros positivos e a taxa de falsos positivos de um modelo de classificação.\n",
        "\n",
        "A área sob a curva ROC (AUC) é uma métrica que quantifica o desempenho geral do modelo. Um modelo com uma AUC mais alta é considerado um melhor classificador. \n",
        "\n",
        "Utilizaremos a AUC em conjunto com o recall score para fazer a avaliação dos modelos, uma vez que é importante haver um balanço entre detectar o máximo possível dos verdadeiros positivos (avaliado pelo recall score) e gerar o mínimo de transtorno a pacientes que são diagnosticados com falsos positos (avaliado pelo AUC)."
      ],
      "metadata": {
        "id": "JeV78o2PJvOo"
      }
    },
    {
      "cell_type": "code",
      "source": [
        "# predict probabilities\n",
        "pred_prob_logistic = best_model_logistic_regression.predict_proba(X_test)\n",
        "pred_prob_knn = best_model_knn.predict_proba(X_test)\n",
        "pred_prob_naive_bayes = best_model_naive_bayes.predict_proba(X_test)\n",
        "pred_prob_random_forest = best_model_random_forest.predict_proba(X_test)\n",
        "pred_prob_svc = best_model_svc.predict_proba(X_test)"
      ],
      "metadata": {
        "id": "vzFzWeASYFe4"
      },
      "execution_count": null,
      "outputs": []
    },
    {
      "cell_type": "code",
      "source": [
        "# roc curve for models\n",
        "fpr_logistic, tpr_logistic, thresh_logistic = roc_curve(y_true, pred_prob_logistic[:,1], pos_label=1)\n",
        "fpr_knn, tpr_knn, thresh_knn = roc_curve(y_true, pred_prob_knn[:,1], pos_label=1)\n",
        "fpr_naive_bayes, tpr_naive_bayes, thresh_naive_bayes = roc_curve(y_true, pred_prob_naive_bayes[:,1], pos_label=1)\n",
        "fpr_random_forest, tpr_random_forest, thresh_random_forest = roc_curve(y_true, pred_prob_random_forest[:,1], pos_label=1)\n",
        "fpr_svc, tpr_svc, thresh_svc = roc_curve(y_true, pred_prob_svc[:,1], pos_label=1)\n",
        "\n",
        "# roc curve for tpr = fpr \n",
        "random_probs = [0 for i in range(len(y_true))]\n",
        "p_fpr, p_tpr, _ = roc_curve(y_true, random_probs, pos_label=1)"
      ],
      "metadata": {
        "id": "Pa613QEDYFbY"
      },
      "execution_count": null,
      "outputs": []
    },
    {
      "cell_type": "code",
      "source": [
        "# auc scores\n",
        "auc_score_logistic = roc_auc_score(y_true, pred_prob_logistic[:,1])\n",
        "auc_score_knn = roc_auc_score(y_true, pred_prob_knn[:,1])\n",
        "auc_score_naive_bayes = roc_auc_score(y_true, pred_prob_naive_bayes[:,1])\n",
        "auc_score_random_forest = roc_auc_score(y_true, pred_prob_random_forest[:,1])\n",
        "auc_score_svc = roc_auc_score(y_true, pred_prob_svc[:,1])\n",
        "\n",
        "print(\"AUC scores:\")\n",
        "print(\"Regressão Logística: \", auc_score_logistic)\n",
        "print(\"K-vizinhos: \", auc_score_knn)\n",
        "print(\"Naive Bayes: \", auc_score_naive_bayes)\n",
        "print(\"Random Forest: \", auc_score_random_forest)\n",
        "print(\"SVC: \", auc_score_svc)"
      ],
      "metadata": {
        "colab": {
          "base_uri": "https://localhost:8080/"
        },
        "id": "bwKSXIJ8YFZK",
        "outputId": "81e299dd-8fca-47ae-8df7-e08612e700f8"
      },
      "execution_count": null,
      "outputs": [
        {
          "output_type": "stream",
          "name": "stdout",
          "text": [
            "AUC scores:\n",
            "Regressão Logística:  0.8005184399670083\n",
            "K-vizinhos:  0.7641687286438081\n",
            "Naive Bayes:  0.8069989395546129\n",
            "Random Forest:  0.8201955932602805\n",
            "SVC:  0.7054907505596795\n"
          ]
        }
      ]
    },
    {
      "cell_type": "code",
      "source": [
        "# plot roc curves\n",
        "\n",
        "plt.style.use('seaborn')\n",
        "\n",
        "plt.figure(figsize=(10,10))\n",
        "plt.plot(fpr_logistic, tpr_logistic, linestyle='-',color='orange', label='Logistic Regression')\n",
        "plt.plot(fpr_knn, tpr_knn, linestyle='-',color='green', label='KNN')\n",
        "plt.plot(fpr_naive_bayes, tpr_naive_bayes, linestyle='-',color='red', label='Naive Bayes')\n",
        "plt.plot(fpr_random_forest, tpr_random_forest, linestyle='-',color='c', label='Random Forest')\n",
        "plt.plot(fpr_svc, tpr_svc, linestyle='-',color='m', label='SVC')\n",
        "plt.plot(p_fpr, p_tpr, linestyle='--', color='blue')\n",
        "plt.title('ROC curve')\n",
        "plt.xlabel('False Positive Rate', fontsize = 15)\n",
        "plt.ylabel('True Positive rate', fontsize = 15)\n",
        "plt.xticks(fontsize=10)\n",
        "plt.yticks(fontsize=10)\n",
        "\n",
        "plt.legend(loc='best')\n",
        "plt.show();"
      ],
      "metadata": {
        "colab": {
          "base_uri": "https://localhost:8080/",
          "height": 624
        },
        "id": "gabDA0I5ZDF6",
        "outputId": "ccbc1850-a532-4990-8358-acd62522d795"
      },
      "execution_count": null,
      "outputs": [
        {
          "output_type": "display_data",
          "data": {
            "text/plain": [
              "<Figure size 720x720 with 1 Axes>"
            ],
            "image/png": "[encoded data removed]"
          },
          "metadata": {}
        }
      ]
    },
    {
      "cell_type": "markdown",
      "source": [
        "O valores de AUC e o gráfico acima mostram que o classificador por Random Forest tem o melhor desempenho para alcançar o nosso objetivo de diagnosticar casos de diabetes. Um valor de AUC de 0.820 mostra que o modelo de Random Forest é o mais efetivo em detectar verdadeiros positivos minimizando falsos positivos."
      ],
      "metadata": {
        "id": "aaWw0BD7DodC"
      }
    },
    {
      "cell_type": "markdown",
      "source": [
        "## **7) Resultados finais e conclusões**"
      ],
      "metadata": {
        "id": "mSRx2xIDQYyk"
      }
    },
    {
      "cell_type": "code",
      "source": [
        "data = {'Recall score': [recall_score(y_true, y_pred_logistic),\n",
        "                         recall_score(y_true, y_pred_knn),\n",
        "                         recall_score(y_true, y_pred_naive_bayes),\n",
        "                         recall_score(y_true, y_pred_random_forest),\n",
        "                         recall_score(y_true, y_pred_svc)],\n",
        "        'AUC score': [auc_score_logistic,\n",
        "                auc_score_knn,\n",
        "                auc_score_naive_bayes,\n",
        "                auc_score_random_forest,\n",
        "                auc_score_svc]}\n",
        " \n",
        "resultados = pd.DataFrame(data, index=['Regressão logística',\n",
        "                                       'K-vizinhos',\n",
        "                                       'Naive Bayes',\n",
        "                                       'Random Forest',\n",
        "                                       'SVC'])\n",
        "\n",
        "print('Resumo dos resultados')\n",
        "resultados"
      ],
      "metadata": {
        "colab": {
          "base_uri": "https://localhost:8080/",
          "height": 224
        },
        "id": "vUj00DbRCWDm",
        "outputId": "37688d95-76c6-46d1-8d08-e2f72c3c8257"
      },
      "execution_count": null,
      "outputs": [
        {
          "output_type": "stream",
          "name": "stdout",
          "text": [
            "Resumo dos resultados\n"
          ]
        },
        {
          "output_type": "execute_result",
          "data": {
            "text/plain": [
              "                     Recall score  AUC score\n",
              "Regressão logística      0.449275   0.800518\n",
              "K-vizinhos               0.565217   0.764169\n",
              "Naive Bayes              0.623188   0.806999\n",
              "Random Forest            0.652174   0.820196\n",
              "SVC                      0.507246   0.705491"
            ],
            "text/html": [
              "\n",
              "  <div id=\"df-79ababdb-f7b4-4685-b059-6d02abdbebff\">\n",
              "    <div class=\"colab-df-container\">\n",
              "      <div>\n",
              "<style scoped>\n",
              "    .dataframe tbody tr th:only-of-type {\n",
              "        vertical-align: middle;\n",
              "    }\n",
              "\n",
              "    .dataframe tbody tr th {\n",
              "        vertical-align: top;\n",
              "    }\n",
              "\n",
              "    .dataframe thead th {\n",
              "        text-align: right;\n",
              "    }\n",
              "</style>\n",
              "<table border=\"1\" class=\"dataframe\">\n",
              "  <thead>\n",
              "    <tr style=\"text-align: right;\">\n",
              "      <th></th>\n",
              "      <th>Recall score</th>\n",
              "      <th>AUC score</th>\n",
              "    </tr>\n",
              "  </thead>\n",
              "  <tbody>\n",
              "    <tr>\n",
              "      <th>Regressão logística</th>\n",
              "      <td>0.449275</td>\n",
              "      <td>0.800518</td>\n",
              "    </tr>\n",
              "    <tr>\n",
              "      <th>K-vizinhos</th>\n",
              "      <td>0.565217</td>\n",
              "      <td>0.764169</td>\n",
              "    </tr>\n",
              "    <tr>\n",
              "      <th>Naive Bayes</th>\n",
              "      <td>0.623188</td>\n",
              "      <td>0.806999</td>\n",
              "    </tr>\n",
              "    <tr>\n",
              "      <th>Random Forest</th>\n",
              "      <td>0.652174</td>\n",
              "      <td>0.820196</td>\n",
              "    </tr>\n",
              "    <tr>\n",
              "      <th>SVC</th>\n",
              "      <td>0.507246</td>\n",
              "      <td>0.705491</td>\n",
              "    </tr>\n",
              "  </tbody>\n",
              "</table>\n",
              "</div>\n",
              "      <button class=\"colab-df-convert\" onclick=\"convertToInteractive('df-79ababdb-f7b4-4685-b059-6d02abdbebff')\"\n",
              "              title=\"Convert this dataframe to an interactive table.\"\n",
              "              style=\"display:none;\">\n",
              "        \n",
              "  <svg xmlns=\"http://www.w3.org/2000/svg\" height=\"24px\"viewBox=\"0 0 24 24\"\n",
              "       width=\"24px\">\n",
              "    <path d=\"M0 0h24v24H0V0z\" fill=\"none\"/>\n",
              "    <path d=\"M18.56 5.44l.94 2.06.94-2.06 2.06-.94-2.06-.94-.94-2.06-.94 2.06-2.06.94zm-11 1L8.5 8.5l.94-2.06 2.06-.94-2.06-.94L8.5 2.5l-.94 2.06-2.06.94zm10 10l.94 2.06.94-2.06 2.06-.94-2.06-.94-.94-2.06-.94 2.06-2.06.94z\"/><path d=\"M17.41 7.96l-1.37-1.37c-.4-.4-.92-.59-1.43-.59-.52 0-1.04.2-1.43.59L10.3 9.45l-7.72 7.72c-.78.78-.78 2.05 0 2.83L4 21.41c.39.39.9.59 1.41.59.51 0 1.02-.2 1.41-.59l7.78-7.78 2.81-2.81c.8-.78.8-2.07 0-2.86zM5.41 20L4 18.59l7.72-7.72 1.47 1.35L5.41 20z\"/>\n",
              "  </svg>\n",
              "      </button>\n",
              "      \n",
              "  <style>\n",
              "    .colab-df-container {\n",
              "      display:flex;\n",
              "      flex-wrap:wrap;\n",
              "      gap: 12px;\n",
              "    }\n",
              "\n",
              "    .colab-df-convert {\n",
              "      background-color: #E8F0FE;\n",
              "      border: none;\n",
              "      border-radius: 50%;\n",
              "      cursor: pointer;\n",
              "      display: none;\n",
              "      fill: #1967D2;\n",
              "      height: 32px;\n",
              "      padding: 0 0 0 0;\n",
              "      width: 32px;\n",
              "    }\n",
              "\n",
              "    .colab-df-convert:hover {\n",
              "      background-color: #E2EBFA;\n",
              "      box-shadow: 0px 1px 2px rgba(60, 64, 67, 0.3), 0px 1px 3px 1px rgba(60, 64, 67, 0.15);\n",
              "      fill: #174EA6;\n",
              "    }\n",
              "\n",
              "    [theme=dark] .colab-df-convert {\n",
              "      background-color: #3B4455;\n",
              "      fill: #D2E3FC;\n",
              "    }\n",
              "\n",
              "    [theme=dark] .colab-df-convert:hover {\n",
              "      background-color: #434B5C;\n",
              "      box-shadow: 0px 1px 3px 1px rgba(0, 0, 0, 0.15);\n",
              "      filter: drop-shadow(0px 1px 2px rgba(0, 0, 0, 0.3));\n",
              "      fill: #FFFFFF;\n",
              "    }\n",
              "  </style>\n",
              "\n",
              "      <script>\n",
              "        const buttonEl =\n",
              "          document.querySelector('#df-79ababdb-f7b4-4685-b059-6d02abdbebff button.colab-df-convert');\n",
              "        buttonEl.style.display =\n",
              "          google.colab.kernel.accessAllowed ? 'block' : 'none';\n",
              "\n",
              "        async function convertToInteractive(key) {\n",
              "          const element = document.querySelector('#df-79ababdb-f7b4-4685-b059-6d02abdbebff');\n",
              "          const dataTable =\n",
              "            await google.colab.kernel.invokeFunction('convertToInteractive',\n",
              "                                                     [key], {});\n",
              "          if (!dataTable) return;\n",
              "\n",
              "          const docLinkHtml = 'Like what you see? Visit the ' +\n",
              "            '<a target=\"_blank\" href=https://colab.research.google.com/notebooks/data_table.ipynb>data table notebook</a>'\n",
              "            + ' to learn more about interactive tables.';\n",
              "          element.innerHTML = '';\n",
              "          dataTable['output_type'] = 'display_data';\n",
              "          await google.colab.output.renderOutput(dataTable, element);\n",
              "          const docLink = document.createElement('div');\n",
              "          docLink.innerHTML = docLinkHtml;\n",
              "          element.appendChild(docLink);\n",
              "        }\n",
              "      </script>\n",
              "    </div>\n",
              "  </div>\n",
              "  "
            ]
          },
          "metadata": {},
          "execution_count": 91
        }
      ]
    },
    {
      "cell_type": "markdown",
      "source": [
        "A tabela com o resumo dos resultados para os cinco classificadores indica que o modelo de Random Forest otimizado pelo GridSearch tem tanto o melhor recall score quanto o melhor AUC score.\n",
        "\n",
        "Entretanto, devemos considerar que a complexidade do problema não foi nem de longe resolvida por completo. Um recall score de 0.652 é muito baixo para que um profissional da saúde confie inteiramente nas previsões do modelo. A utilidade deste modelo de Random Forest reside em gerar alertas de possíveis situações de risco médico, não em descartar a necessidade de exames clínicos.\n",
        "\n",
        "Os resultados dos cinco modelos ainda podem ser melhorados. Um ponto crítico é a correção de dados faltantes. Utilizamos regressão linear múltipla com todas as covariáveis e considerando apenas relação de primeiro grau. Entretanto, algumas covariáveis não têm relevância estatística e pode haver termos cruzados ou de graus maiores. Uma vez que uma grande quantidade de valores foram substituídos por regressão linear, se obtermos modelos de regressão melhores, os resultados dos classificadores poderão ser substancialmente melhorados.\n",
        "\n",
        "O gráfico que mostra a relevância de atributos no modelo de Random Forest ilustra muito bem este ponto. Espessura da pele é um atributo com importância moderadamente alta, mas tivemos que substituir cerca de 200 dos seus valores (de um total de 768). Ajustar um modelo ótimo para substituir seus valores potencialmente levará a previsões melhores.\n",
        "\n",
        "Além disso, o modelo de Random Forest também indicou que as variáveis $Insulin$, $Pregnancies$ e $BloodPressure$ têm relevância baixa em comparação a todas as outras. É possível descartar estas variáveis sem que o modelo tenha uma perda substancial em seu desempenho. Isto é importante caso se dejese melhorar a interpretabilidade do modelo (para buscar a razão de um diagnóstico positivo, por exemplo), ou caso se deseje melhorar o modelo focando apenas nas variáveis importantes."
      ],
      "metadata": {
        "id": "02XyCKsT9_0T"
      }
    }
  ]
}